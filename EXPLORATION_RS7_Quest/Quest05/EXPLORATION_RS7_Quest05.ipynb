{
 "cells": [
  {
   "cell_type": "markdown",
   "id": "532ca289",
   "metadata": {},
   "source": [
    "# Quest05: 네이버 영화리뷰 감성분석 도전하기!\n",
    "\n",
    "### 평가문항에 맞춰서 작성\n",
    "**1. 다양한 방법으로 Text Classification 태스크를 성공적으로 구현하였다.**  \n",
    "-> 3가지 이상의 모델이 성공적으로 시도됨(RNN,CNN,Transfer Learning)\n",
    "\n",
    "**2. gensim을 활용하여 자체학습된 혹은 사전학습된 임베딩 레이어를 분석하였다.**  \n",
    "-> gensim의 유사단어 찾기를 활용하여 자체학습한 임베딩과 사전학습 임베딩을 비교 분석함\n",
    "\n",
    "**3. 한국어 Word2Vec을 활용하여 가시적인 성능향상을 달성했다.**  \n",
    "-> 네이버 영화리뷰 데이터 감성분석 정확도를 85% 이상 달성함"
   ]
  },
  {
   "cell_type": "code",
   "execution_count": 1,
   "id": "9c06e543",
   "metadata": {},
   "outputs": [],
   "source": [
    "import os\n",
    "\n",
    "import numpy as np\n",
    "import pandas as pd\n",
    "import tensorflow as tf\n",
    "from tensorflow.keras.initializers import Constant\n",
    "from sklearn.model_selection import train_test_split\n",
    "\n",
    "import matplotlib.pyplot as plt\n",
    "import seaborn as sns\n",
    "\n",
    "from konlpy.tag import Mecab\n",
    "from collections import Counter\n",
    "\n",
    "'''\n",
    "Counter 생성자는 여러 형태의 데이터를 인자로 받는데요. 먼저 중복된 데이터가 저장된 배열을 \n",
    "인자로 넘기면 각 원소가 몇 번씩 나오는지가 저장된 객체를 얻게 됩니다\n",
    "'''\n",
    "\n",
    "import konlpy\n",
    "import gensim\n",
    "\n",
    "from gensim.models.keyedvectors import Word2VecKeyedVectors\n",
    "from gensim.models import KeyedVectors"
   ]
  },
  {
   "cell_type": "code",
   "execution_count": 2,
   "id": "a9617359",
   "metadata": {},
   "outputs": [],
   "source": [
    "train_data = pd.read_table('https://raw.githubusercontent.com/e9t/nsmc/master/ratings_train.txt')\n",
    "test_data = pd.read_table('https://raw.githubusercontent.com/e9t/nsmc/master/ratings_test.txt')"
   ]
  },
  {
   "cell_type": "code",
   "execution_count": 3,
   "id": "7e8190db",
   "metadata": {},
   "outputs": [
    {
     "name": "stdout",
     "output_type": "stream",
     "text": [
      "         id                                           document  label\n",
      "0   9976970                                아 더빙.. 진짜 짜증나네요 목소리      0\n",
      "1   3819312                  흠...포스터보고 초딩영화줄....오버연기조차 가볍지 않구나      1\n",
      "2  10265843                                  너무재밓었다그래서보는것을추천한다      0\n",
      "3   9045019                      교도소 이야기구먼 ..솔직히 재미는 없다..평점 조정      0\n",
      "4   6483659  사이몬페그의 익살스런 연기가 돋보였던 영화!스파이더맨에서 늙어보이기만 했던 커스틴 ...      1 \n",
      "\n",
      "        id                                           document  label\n",
      "0  6270596                                                굳 ㅋ      1\n",
      "1  9274899                               GDNTOPCLASSINTHECLUB      0\n",
      "2  8544678             뭐야 이 평점들은.... 나쁘진 않지만 10점 짜리는 더더욱 아니잖아      0\n",
      "3  6825595                   지루하지는 않은데 완전 막장임... 돈주고 보기에는....      0\n",
      "4  6723715  3D만 아니었어도 별 다섯 개 줬을텐데.. 왜 3D로 나와서 제 심기를 불편하게 하죠??      0\n"
     ]
    }
   ],
   "source": [
    "print(train_data.head(),'\\n')\n",
    "print(test_data.head())"
   ]
  },
  {
   "cell_type": "code",
   "execution_count": 4,
   "id": "742ed5ee",
   "metadata": {},
   "outputs": [],
   "source": [
    "\n",
    "tokenizer = Mecab() # 인풋으로 입력되는 문장을 작은 단위로 쪼개주는 형태소 분석\n",
    "stopwords = ['의','가','이','은','들','는','좀','잘','걍','과','도','를','으로','자','에','와','한','하다']\n"
   ]
  },
  {
   "cell_type": "code",
   "execution_count": 5,
   "id": "787f7673",
   "metadata": {},
   "outputs": [],
   "source": [
    "def load_data(train_data, test_data, num_words=10000):\n",
    "    # [[YOUR CODE]]\n",
    "\n",
    "    train_data.drop_duplicates(subset=['document'], inplace=True)\n",
    "    train_data = train_data.dropna(how = 'any') \n",
    "    test_data.drop_duplicates(subset=['document'], inplace=True)\n",
    "    test_data = test_data.dropna(how = 'any') \n",
    "    \n",
    "    X_train = []\n",
    "    for sentence in train_data['document']:\n",
    "        temp_X = tokenizer.morphs(sentence) # 토큰화 # morphs : 형태소 추출\n",
    "        temp_X = [word for word in temp_X if not word in stopwords] # 불용어 제거\n",
    "        X_train.append(temp_X)\n",
    "\n",
    "    X_test = []\n",
    "    for sentence in test_data['document']:\n",
    "        temp_X = tokenizer.morphs(sentence) # 토큰화\n",
    "        temp_X = [word for word in temp_X if not word in stopwords] # 불용어 제거\n",
    "        X_test.append(temp_X)\n",
    "    \n",
    "    words = np.concatenate(X_train).tolist() # 2차원 배열을 1차원 배열로 전환\n",
    "    counter = Counter(words)\n",
    "    counter = counter.most_common(10000-4) #요소를 세어, 최빈값 n개를 반환합니다. (리스트에 담긴 튜플형태로) [(1,9),(2,1)] => 1,9개  2,1개   \n",
    "    vocab = ['', '', '', ''] + [key for key, _ in counter] # 'pad' , 'bos', 'unk', 'unused'\n",
    "    word_to_index = {word:index for index, word in enumerate(vocab)}\n",
    "        \n",
    "    def wordlist_to_indexlist(wordlist):\n",
    "        return [word_to_index[word] if word in word_to_index else word_to_index[''] for word in wordlist]\n",
    "        \n",
    "    X_train = list(map(wordlist_to_indexlist, X_train))\n",
    "    X_test = list(map(wordlist_to_indexlist, X_test))\n",
    "        \n",
    "    return X_train, np.array(list(train_data['label'])), X_test, np.array(list(test_data['label'])), word_to_index\n",
    "    \n",
    "    \n",
    "X, y, X_test, y_test, word_to_index = load_data(train_data, test_data)"
   ]
  },
  {
   "cell_type": "code",
   "execution_count": 6,
   "id": "8cd43133",
   "metadata": {},
   "outputs": [],
   "source": [
    "word_to_index[\"<PAD>\"] = 0\n",
    "word_to_index[\"<BOS>\"] = 1\n",
    "word_to_index[\"<UNK>\"] = 2\n",
    "#word_to_index[\"<UNUSED>\"] = 3"
   ]
  },
  {
   "cell_type": "code",
   "execution_count": 7,
   "id": "82eb37e8",
   "metadata": {},
   "outputs": [],
   "source": [
    "index_to_word = {index:word for word, index in word_to_index.items()}"
   ]
  },
  {
   "cell_type": "code",
   "execution_count": 8,
   "id": "04b005d4",
   "metadata": {},
   "outputs": [],
   "source": [
    "# 문장 1개를 활용할 딕셔너리와 함께 주면, 단어 인덱스 리스트 벡터로 변환해 주는 함수입니다. \n",
    "# 단, 모든 문장은 <BOS>로 시작하는 것으로 합니다. \n",
    "def get_encoded_sentence(sentence, word_to_index):\n",
    "    return [word_to_index['<BOS>']]+[word_to_index[word] if word in word_to_index else word_to_index['<UNK>'] for word in sentence.split()]\n",
    "\n",
    "# 여러 개의 문장 리스트를 한꺼번에 단어 인덱스 리스트 벡터로 encode해 주는 함수입니다. \n",
    "def get_encoded_sentences(sentences, word_to_index):\n",
    "    return [get_encoded_sentence(sentence, word_to_index) for sentence in sentences]\n",
    "\n",
    "# 숫자 벡터로 encode된 문장을 원래대로 decode하는 함수입니다. \n",
    "def get_decoded_sentence(encoded_sentence, index_to_word):\n",
    "    return ' '.join(index_to_word[index] if index in index_to_word else '<UNK>' for index in encoded_sentence[1:])  #[1:]를 통해 <BOS>를 제외\n",
    "\n",
    "# 여러 개의 숫자 벡터로 encode된 문장을 한꺼번에 원래대로 decode하는 함수입니다. \n",
    "def get_decoded_sentences(encoded_sentences, index_to_word):\n",
    "    return [get_decoded_sentence(encoded_sentence, index_to_word) for encoded_sentence in encoded_sentences]"
   ]
  },
  {
   "cell_type": "code",
   "execution_count": 9,
   "id": "426f6470",
   "metadata": {},
   "outputs": [
    {
     "name": "stdout",
     "output_type": "stream",
     "text": [
      "더 빙 . . 진짜 짜증 나 네요 목소리\n",
      ". .. 포스터 보고 초딩 영화 줄 . ... 오버 연기 조차 가볍 지 않 구나\n",
      "재 \n"
     ]
    }
   ],
   "source": [
    "for i in range(3) :\n",
    "    print(get_decoded_sentence(X[i],index_to_word))"
   ]
  },
  {
   "cell_type": "markdown",
   "id": "2ca65c44",
   "metadata": {},
   "source": [
    "* pad_sequences를 통해 데이터셋 상의 문장의 길이를 통일\n",
    "* 문장 최대 길이 maxlen의 값 설정도 전체 모델 성능에 영향\n",
    "* 적절한 값을 찾기 위해서는 전체 데이터셋의 분포를 확인"
   ]
  },
  {
   "cell_type": "code",
   "execution_count": 10,
   "id": "abf478c2",
   "metadata": {
    "scrolled": true
   },
   "outputs": [
    {
     "name": "stdout",
     "output_type": "stream",
     "text": [
      "문장길이 평균 :  15.98170773419436\n",
      "문장길이 최대 :  116\n",
      "문장길이 표준편차 :  12.82473766384545\n",
      "pad_sequences maxlen :  41\n",
      "전체 문장의 0.9341711017772366%가 maxlen 설정값 이내에 포함됩니다. \n"
     ]
    }
   ],
   "source": [
    "total_data_text = list(X) + list(X)\n",
    "\n",
    "# 텍스트데이터 문장길이의 리스트를 생성한 후\n",
    "num_tokens = [len(tokens) for tokens in total_data_text]\n",
    "num_tokens = np.array(num_tokens)\n",
    "\n",
    "# 문장길이의 평균값, 최대값, 표준편차를 계산해 본다. \n",
    "print('문장길이 평균 : ', np.mean(num_tokens))\n",
    "print('문장길이 최대 : ', np.max(num_tokens))\n",
    "print('문장길이 표준편차 : ', np.std(num_tokens))\n",
    "\n",
    "# 예를들어, 최대 길이를 (평균 + 2*표준편차)로 한다면,  \n",
    "max_tokens = np.mean(num_tokens) + 2 * np.std(num_tokens)\n",
    "maxlen = int(max_tokens)\n",
    "print('pad_sequences maxlen : ', maxlen)\n",
    "print(f'전체 문장의 {np.sum(num_tokens < max_tokens) / len(num_tokens)}%가 maxlen 설정값 이내에 포함됩니다. ')"
   ]
  },
  {
   "cell_type": "markdown",
   "id": "accbb59e",
   "metadata": {},
   "source": [
    "* 마지막 입력이 최종state에 영향을 많이 끼치기에 padding은 앞쪽"
   ]
  },
  {
   "cell_type": "code",
   "execution_count": 11,
   "id": "96becc9f",
   "metadata": {},
   "outputs": [
    {
     "name": "stdout",
     "output_type": "stream",
     "text": [
      "(146182, 41)\n"
     ]
    }
   ],
   "source": [
    "# padding\n",
    "X = tf.keras.preprocessing.sequence.pad_sequences(X,\n",
    "                                                  value=word_to_index[\"<PAD>\"],\n",
    "                                                  padding='pre',\n",
    "                                                  maxlen=maxlen)\n",
    "\n",
    "X_test = tf.keras.preprocessing.sequence.pad_sequences(X_test,\n",
    "                                                  value=word_to_index[\"<PAD>\"],\n",
    "                                                  padding='pre',\n",
    "                                                  maxlen=maxlen)\n",
    "\n",
    "print(X.shape)"
   ]
  },
  {
   "cell_type": "markdown",
   "id": "16c049af",
   "metadata": {},
   "source": [
    "# RNN"
   ]
  },
  {
   "cell_type": "code",
   "execution_count": 12,
   "id": "40851904",
   "metadata": {},
   "outputs": [
    {
     "name": "stdout",
     "output_type": "stream",
     "text": [
      "Model: \"sequential\"\n",
      "_________________________________________________________________\n",
      "Layer (type)                 Output Shape              Param #   \n",
      "=================================================================\n",
      "embedding (Embedding)        (None, None, 25)          250000    \n",
      "_________________________________________________________________\n",
      "lstm (LSTM)                  (None, 8)                 1088      \n",
      "_________________________________________________________________\n",
      "dense (Dense)                (None, 16)                144       \n",
      "_________________________________________________________________\n",
      "dense_1 (Dense)              (None, 1)                 17        \n",
      "=================================================================\n",
      "Total params: 251,249\n",
      "Trainable params: 251,249\n",
      "Non-trainable params: 0\n",
      "_________________________________________________________________\n"
     ]
    }
   ],
   "source": [
    "vocab_size = 10000 # 어휘 사전의 크기입니다\n",
    "word_vector_dim = 25  # 단어 하나를 표현하는 임베딩 벡터의 차원수입니다. \n",
    "\n",
    "model_RNN = tf.keras.Sequential()\n",
    "model_RNN.add(tf.keras.layers.Embedding(vocab_size, word_vector_dim, input_shape=(None,)))\n",
    "model_RNN.add(tf.keras.layers.LSTM(8))   # 가장 널리 쓰이는 RNN인 LSTM 레이어를 사용하였습니다. 이때 LSTM state 벡터의 차원수는 8로 하였습니다. (변경 가능)\n",
    "model_RNN.add(tf.keras.layers.Dense(16, activation='relu'))\n",
    "model_RNN.add(tf.keras.layers.Dense(1, activation='sigmoid'))  # 최종 출력은 긍정/부정을 나타내는 1dim 입니다.\n",
    "\n",
    "model_RNN.summary()"
   ]
  },
  {
   "cell_type": "markdown",
   "id": "a728b185",
   "metadata": {},
   "source": [
    "# CNN"
   ]
  },
  {
   "cell_type": "code",
   "execution_count": 13,
   "id": "b2d5542f",
   "metadata": {},
   "outputs": [
    {
     "name": "stdout",
     "output_type": "stream",
     "text": [
      "Model: \"sequential_1\"\n",
      "_________________________________________________________________\n",
      "Layer (type)                 Output Shape              Param #   \n",
      "=================================================================\n",
      "embedding_1 (Embedding)      (None, None, 25)          250000    \n",
      "_________________________________________________________________\n",
      "conv1d (Conv1D)              (None, None, 16)          2816      \n",
      "_________________________________________________________________\n",
      "max_pooling1d (MaxPooling1D) (None, None, 16)          0         \n",
      "_________________________________________________________________\n",
      "conv1d_1 (Conv1D)            (None, None, 16)          1808      \n",
      "_________________________________________________________________\n",
      "global_max_pooling1d (Global (None, 16)                0         \n",
      "_________________________________________________________________\n",
      "dense_2 (Dense)              (None, 8)                 136       \n",
      "_________________________________________________________________\n",
      "dense_3 (Dense)              (None, 1)                 9         \n",
      "=================================================================\n",
      "Total params: 254,769\n",
      "Trainable params: 254,769\n",
      "Non-trainable params: 0\n",
      "_________________________________________________________________\n"
     ]
    }
   ],
   "source": [
    "model_CNN = tf.keras.Sequential()\n",
    "model_CNN.add(tf.keras.layers.Embedding(vocab_size, word_vector_dim, input_shape=(None,)))\n",
    "model_CNN.add(tf.keras.layers.Conv1D(16, 7, activation='relu'))\n",
    "model_CNN.add(tf.keras.layers.MaxPooling1D(5))\n",
    "model_CNN.add(tf.keras.layers.Conv1D(16, 7, activation='relu'))\n",
    "model_CNN.add(tf.keras.layers.GlobalMaxPooling1D())\n",
    "model_CNN.add(tf.keras.layers.Dense(8, activation='relu'))\n",
    "model_CNN.add(tf.keras.layers.Dense(1, activation='sigmoid'))  # 최종 출력은 긍정/부정을 나타내는 1dim 입니다.\n",
    "\n",
    "model_CNN.summary()"
   ]
  },
  {
   "cell_type": "markdown",
   "id": "b599441c",
   "metadata": {},
   "source": [
    "# GlobalMaxPooling레이어 하나만 사용하는 방법"
   ]
  },
  {
   "cell_type": "code",
   "execution_count": 14,
   "id": "3f1b888c",
   "metadata": {},
   "outputs": [
    {
     "name": "stdout",
     "output_type": "stream",
     "text": [
      "Model: \"sequential_2\"\n",
      "_________________________________________________________________\n",
      "Layer (type)                 Output Shape              Param #   \n",
      "=================================================================\n",
      "embedding_2 (Embedding)      (None, None, 25)          250000    \n",
      "_________________________________________________________________\n",
      "global_max_pooling1d_1 (Glob (None, 25)                0         \n",
      "_________________________________________________________________\n",
      "dense_4 (Dense)              (None, 8)                 208       \n",
      "_________________________________________________________________\n",
      "dense_5 (Dense)              (None, 1)                 9         \n",
      "=================================================================\n",
      "Total params: 250,217\n",
      "Trainable params: 250,217\n",
      "Non-trainable params: 0\n",
      "_________________________________________________________________\n"
     ]
    }
   ],
   "source": [
    "model_maxpool = tf.keras.Sequential()\n",
    "model_maxpool.add(tf.keras.layers.Embedding(vocab_size, word_vector_dim, input_shape=(None,)))\n",
    "model_maxpool.add(tf.keras.layers.GlobalMaxPooling1D())\n",
    "model_maxpool.add(tf.keras.layers.Dense(8, activation='relu'))\n",
    "model_maxpool.add(tf.keras.layers.Dense(1, activation='sigmoid'))  # 최종 출력은 긍정/부정을 나타내는 1dim 입니다.\n",
    "\n",
    "model_maxpool.summary()"
   ]
  },
  {
   "cell_type": "code",
   "execution_count": 15,
   "id": "6339b7db",
   "metadata": {},
   "outputs": [],
   "source": [
    "models = [model_RNN, model_CNN, model_maxpool]"
   ]
  },
  {
   "cell_type": "code",
   "execution_count": 16,
   "id": "71573ab0",
   "metadata": {},
   "outputs": [],
   "source": [
    "def compile_model(model, epochs) :\n",
    "    model.compile(optimizer = 'adam',\n",
    "                 loss = 'binary_crossentropy',\n",
    "                 metrics = ['accuracy'])\n",
    "    history = model.fit(X_train,\n",
    "                       y_train,\n",
    "                       epochs = epochs,\n",
    "                       batch_size =512,\n",
    "                       validation_data = (X_val, y_val),\n",
    "                       verbose =1)\n",
    "    \n",
    "    return history"
   ]
  },
  {
   "cell_type": "code",
   "execution_count": 17,
   "id": "b7ed1418",
   "metadata": {},
   "outputs": [
    {
     "name": "stdout",
     "output_type": "stream",
     "text": [
      "(116945, 41)\n",
      "(116945,)\n"
     ]
    }
   ],
   "source": [
    "#validation set 설정\n",
    "\n",
    "state = 100\n",
    "\n",
    "X_train, X_val = train_test_split(X,train_size = 0.8, random_state = state)\n",
    "y_train, y_val = train_test_split(y, train_size = 0.8,random_state = state)\n",
    "\n",
    "print(X_train.shape)\n",
    "print(y_train.shape)"
   ]
  },
  {
   "cell_type": "code",
   "execution_count": null,
   "id": "721b155d",
   "metadata": {},
   "outputs": [
    {
     "name": "stdout",
     "output_type": "stream",
     "text": [
      "<keras.engine.sequential.Sequential object at 0x7f6a32b02b50>\n",
      "Epoch 1/10\n",
      "229/229 [==============================] - 5s 8ms/step - loss: 0.4835 - accuracy: 0.7888 - val_loss: 0.3646 - val_accuracy: 0.8442\n",
      "Epoch 2/10\n",
      "229/229 [==============================] - 1s 6ms/step - loss: 0.3381 - accuracy: 0.8582 - val_loss: 0.3556 - val_accuracy: 0.8463\n",
      "Epoch 3/10\n",
      "229/229 [==============================] - 1s 6ms/step - loss: 0.3169 - accuracy: 0.8689 - val_loss: 0.3564 - val_accuracy: 0.8474\n",
      "Epoch 4/10\n",
      "229/229 [==============================] - 1s 6ms/step - loss: 0.3048 - accuracy: 0.8746 - val_loss: 0.3558 - val_accuracy: 0.8467\n",
      "Epoch 5/10\n",
      "229/229 [==============================] - 1s 6ms/step - loss: 0.2965 - accuracy: 0.8782 - val_loss: 0.3571 - val_accuracy: 0.8468\n",
      "Epoch 6/10\n",
      " 93/229 [===========>..................] - ETA: 0s - loss: 0.2824 - accuracy: 0.8862"
     ]
    }
   ],
   "source": [
    "# 학습 \n",
    "epochs = 10\n",
    "models_history = []\n",
    "\n",
    "for model in models :\n",
    "    print(model)\n",
    "    models_history.append(compile_model(model, epochs))\n",
    "    print(\"-----------------------------------------------------------\")"
   ]
  },
  {
   "cell_type": "code",
   "execution_count": null,
   "id": "b6220b76",
   "metadata": {
    "scrolled": true
   },
   "outputs": [],
   "source": [
    "# test 평가\n",
    "\n",
    "results =[]\n",
    "\n",
    "for mode in models :\n",
    "    print(mode)\n",
    "    results.append(mode.evaluate(X_test, y_test, verbose = 2))\n",
    "    print(\"---------------------------------------------------\")"
   ]
  },
  {
   "cell_type": "code",
   "execution_count": null,
   "id": "5467aa0c",
   "metadata": {},
   "outputs": [],
   "source": [
    "def figure(models_history) :\n",
    "    history_dict = models_history.history\n",
    "    \n",
    "    acc = history_dict['accuracy']\n",
    "    val_acc = history_dict['val_accuracy']\n",
    "    loss = history_dict['loss']\n",
    "    val_loss = history_dict['val_loss']\n",
    "\n",
    "    epochs = range(1, len(acc) + 1)\n",
    "    \n",
    "    fig , (ax1,ax2) = plt.subplots(1,2, figsize =(10,10))\n",
    "\n",
    "    \n",
    "    ax1.plot(epochs, loss, 'b', label='Training loss')\n",
    "    ax1.plot(epochs, val_loss, 'r', label='Validation loss')\n",
    "    ax1.legend()\n",
    "    \n",
    "    ax2.plot(epochs, loss, 'b', label='Training loss')\n",
    "    ax2.plot(epochs, val_loss, 'r', label='Validation loss')\n",
    "    ax2.legend()"
   ]
  },
  {
   "cell_type": "code",
   "execution_count": null,
   "id": "454a6def",
   "metadata": {},
   "outputs": [],
   "source": [
    "for i, history in enumerate(models_history) :\n",
    "    figure(history)"
   ]
  },
  {
   "cell_type": "code",
   "execution_count": null,
   "id": "3ff37492",
   "metadata": {},
   "outputs": [],
   "source": [
    "def get_weights(models) :\n",
    "    embedding_layer = model.layers[0]\n",
    "    weights = embedding_layer.get_weights()[0]\n",
    "    return weights.shape    # shape: (vocab_size, embedding_dim)"
   ]
  },
  {
   "cell_type": "code",
   "execution_count": null,
   "id": "767e825d",
   "metadata": {},
   "outputs": [],
   "source": [
    "for i, model in enumerate(models):\n",
    "    print(get_weights(model))"
   ]
  },
  {
   "cell_type": "code",
   "execution_count": null,
   "id": "cd04bd26",
   "metadata": {},
   "outputs": [],
   "source": [
    "def save_weights(index, model) :\n",
    "    word2vec_file_path = os.getenv('HOME')+f'/aiffel/sentiment_classification/data/word2vec_{index}.txt'\n",
    "    f = open(word2vec_file_path, 'w')\n",
    "    f.write('{} {}\\n'.format(vocab_size-4, word_vector_dim))  \n",
    "        # 몇개의 벡터를 얼마 사이즈로 기재할지 타이틀을 씁니다.\n",
    "\n",
    "    # 단어 개수(에서 특수문자 4개는 제외하고)만큼의 워드 벡터를 파일에 기록합니다. \n",
    "    vectors = model.get_weights()[0]\n",
    "    for i in range(4,vocab_size):\n",
    "        f.write('{} {}\\n'.format(index_to_word[i], ' '.join(map(str, list(vectors[i, :])))))\n",
    "            \n",
    "    f.close()\n",
    "    print(\"saved\")"
   ]
  },
  {
   "cell_type": "code",
   "execution_count": null,
   "id": "43ff34a0",
   "metadata": {},
   "outputs": [],
   "source": [
    "for index, model in enumerate(models):\n",
    "    save_weights(index, model)"
   ]
  },
  {
   "cell_type": "code",
   "execution_count": null,
   "id": "62941637",
   "metadata": {},
   "outputs": [],
   "source": [
    "# word vector로 사용하기\n",
    "word_vectors_list = []\n",
    "\n",
    "for index in range(3):\n",
    "    word_vectors_list.append(Word2VecKeyedVectors.load_word2vec_format(os.getenv('HOME')+f'/aiffel/sentiment_classification/data/word2vec_{index}.txt', binary=False))\n",
    "\n",
    "for i, word_vectors in enumerate(word_vectors_list):\n",
    "    word = \"잠\"\n",
    "    vector = word_vectors[word]\n",
    "    print(\"===========================\")\n",
    "    for j in word_vectors.similar_by_word(word):\n",
    "        print(j)"
   ]
  },
  {
   "cell_type": "code",
   "execution_count": null,
   "id": "7f08e16a",
   "metadata": {
    "scrolled": true
   },
   "outputs": [],
   "source": [
    "# word2vec 가져오기\n",
    "#word2vec_path = os.getenv('HOME')+\"/aiffel/sentiment_classification/data/word2vec_ko.model\" # 얘 왜 안돼....\n",
    "word2vec_path = os.getenv('HOME') + \"/data/word2vec_ko.model\"\n",
    "word_vectors = Word2VecKeyedVectors.load(word2vec_path)\n",
    "vector = word_vectors.wv[\"잠\"]"
   ]
  },
  {
   "cell_type": "code",
   "execution_count": null,
   "id": "60ba1d0c",
   "metadata": {
    "scrolled": true
   },
   "outputs": [],
   "source": [
    "word_vectors.wv.similar_by_word(\"잠\")"
   ]
  },
  {
   "attachments": {
    "image-2.png": {
     "image/png": "[encoded data removed]"
    },
    "image-3.png": {
     "image/png": "[encoded data removed]"
    }
   },
   "cell_type": "markdown",
   "id": "94ca679c",
   "metadata": {},
   "source": [
    "### 학습데이터 별 유사 단어 찾기 분석\n",
    "\n",
    "![image-2.png](attachment:image-2.png)  \n",
    "\n",
    "위의 데이터는 자체학습 데이터로 잠이라는 단어와 유사한 단어를 출력했는데 3번의 결과 모두 크게 유사한 단어가 출력되지 않은 것 같다.\n",
    "\n",
    "![image-3.png](attachment:image-3.png)\n",
    "\n",
    "위의 데이터는 사전학습 데이터로 위의 상황을 진행하였는데 낮잠, 늦잠 등 꽤 유사한 단어가 나오는 것을 볼 수 있었다."
   ]
  },
  {
   "cell_type": "markdown",
   "id": "1d213f13",
   "metadata": {},
   "source": []
  },
  {
   "cell_type": "code",
   "execution_count": null,
   "id": "7896376b",
   "metadata": {},
   "outputs": [],
   "source": [
    "vocab_size = 10000    # 어휘 사전의 크기입니다(10,000개의 단어)\n",
    "word_vector_dim = 100  # 워드 벡터의 차원수\n",
    "embedding_matrix = np.random.rand(vocab_size, word_vector_dim)\n",
    "\n",
    "# embedding_matrix에 Word2Vec 워드 벡터를 단어 하나씩마다 차례차례 카피한다.\n",
    "for i in range(4,vocab_size):\n",
    "    if index_to_word[i] in word_vectors.wv:\n",
    "        embedding_matrix[i] = word_vectors.wv[index_to_word[i]]"
   ]
  },
  {
   "cell_type": "code",
   "execution_count": null,
   "id": "bbd7b6ff",
   "metadata": {},
   "outputs": [],
   "source": [
    "#vocab_size = 10000    # 어휘 사전의 크기입니다(10,000개의 단어)\n",
    "#word_vector_dim = 100  # 워드 벡터의 차원 수 \n",
    "\n",
    "# 모델 구성\n",
    "model = tf.keras.Sequential()\n",
    "model.add(tf.keras.layers.Embedding(vocab_size, word_vector_dim, input_shape=(None,)))\n",
    "model.add(tf.keras.layers.LSTM(64))   # 가장 널리 쓰이는 RNN인 LSTM 레이어를 사용하였습니다. 이때 LSTM state 벡터의 차원수는 8로 하였습니다. (변경 가능)\n",
    "model.add(tf.keras.layers.Dense(64, activation='relu'))\n",
    "model.add(tf.keras.layers.Dense(1, activation='sigmoid'))  # 최종 출력은 긍정/부정을 나타내는 1dim 입니다.\n",
    "\n",
    "model.summary()"
   ]
  },
  {
   "cell_type": "code",
   "execution_count": null,
   "id": "cc57673e",
   "metadata": {},
   "outputs": [],
   "source": [
    "# 학습\n",
    "model.compile(optimizer='adam',\n",
    "              loss='binary_crossentropy',\n",
    "              metrics=['accuracy'])\n",
    "              \n",
    "epochs=3  # 몇 epoch를 훈련하면 좋을지 결과를 보면서 바꾸어 봅시다. \n",
    "\n",
    "historys = model.fit(X_train,\n",
    "                    y_train,\n",
    "                    epochs=epochs,\n",
    "                    batch_size=64,\n",
    "                    validation_data=(X_val, y_val),\n",
    "                    verbose=2)"
   ]
  },
  {
   "cell_type": "code",
   "execution_count": null,
   "id": "a8454830",
   "metadata": {},
   "outputs": [],
   "source": [
    "# 테스트셋을 통한 모델 평가\n",
    "results = model.evaluate(X_test,  y_test, verbose=5)\n",
    "\n",
    "print(results)"
   ]
  },
  {
   "cell_type": "markdown",
   "id": "34354ae1",
   "metadata": {},
   "source": [
    "# LSTM : 128 , EPOCHS : 1 , BATCH : 128"
   ]
  },
  {
   "attachments": {
    "image.png": {
     "image/png": "[encoded data removed]"
    }
   },
   "cell_type": "markdown",
   "id": "54665fae",
   "metadata": {},
   "source": [
    "![image.png](attachment:image.png)"
   ]
  },
  {
   "cell_type": "markdown",
   "id": "74d7850a",
   "metadata": {},
   "source": [
    "# LSTM(8) , EPOCH 4, BATCH : 256 "
   ]
  },
  {
   "attachments": {
    "image.png": {
     "image/png": "[encoded data removed]"
    }
   },
   "cell_type": "markdown",
   "id": "345f42bf",
   "metadata": {},
   "source": [
    "![image.png](attachment:image.png)"
   ]
  },
  {
   "cell_type": "markdown",
   "id": "6ac03496",
   "metadata": {},
   "source": [
    "# LSTM : 64,  EPOCH:1 BATCH :64"
   ]
  },
  {
   "attachments": {
    "image.png": {
     "image/png": "[encoded data removed]"
    }
   },
   "cell_type": "markdown",
   "id": "0381fd71",
   "metadata": {},
   "source": [
    "![image.png](attachment:image.png)"
   ]
  },
  {
   "cell_type": "code",
   "execution_count": null,
   "id": "e6dbd7d2",
   "metadata": {
    "scrolled": false
   },
   "outputs": [],
   "source": [
    "figure(historys)"
   ]
  },
  {
   "cell_type": "markdown",
   "id": "9b395683",
   "metadata": {},
   "source": []
  },
  {
   "cell_type": "markdown",
   "id": "7fe74f64",
   "metadata": {},
   "source": [
    "\n",
    "---\n",
    "\n",
    "## 회고\n",
    "\n",
    "비정형 데이터를 가지고 뭔가의 유사도를 측정한다는 것이 정말 신기했던 프로젝트이다.\n",
    "프로젝트는 어렵고 힘들었지만 그래도 여러 모델들을 사용하고 옵션 값을 바꿔보면서 어떤 영향을 주는지에 대해서 좀 더 자세하게 공부할 수 있는 시간이 되었던 것 같습니다."
   ]
  }
 ],
 "metadata": {
  "kernelspec": {
   "display_name": "Python 3 (ipykernel)",
   "language": "python",
   "name": "python3"
  },
  "language_info": {
   "codemirror_mode": {
    "name": "ipython",
    "version": 3
   },
   "file_extension": ".py",
   "mimetype": "text/x-python",
   "name": "python",
   "nbconvert_exporter": "python",
   "pygments_lexer": "ipython3",
   "version": "3.9.7"
  }
 },
 "nbformat": 4,
 "nbformat_minor": 5
}
