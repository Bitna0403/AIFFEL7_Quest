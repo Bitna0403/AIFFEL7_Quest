{
 "cells": [
  {
   "cell_type": "code",
   "execution_count": 10,
   "id": "fb49ea29",
   "metadata": {},
   "outputs": [
    {
     "name": "stdout",
     "output_type": "stream",
     "text": [
      "#1 필요한 라이브러리 준비 완료..!\n"
     ]
    }
   ],
   "source": [
    "import warnings\n",
    "warnings.filterwarnings(\"ignore\")\n",
    "\n",
    "import os\n",
    "from os.path import join\n",
    "\n",
    "import pandas as pd\n",
    "import numpy as np\n",
    "\n",
    "import missingno as msno\n",
    "\n",
    "from sklearn.model_selection import train_test_split\n",
    "from sklearn.metrics import mean_squared_error\n",
    "\n",
    "from sklearn.model_selection import GridSearchCV\n",
    "from sklearn.ensemble import GradientBoostingRegressor, RandomForestRegressor\n",
    "from xgboost import XGBRegressor\n",
    "from lightgbm import LGBMRegressor\n",
    "\n",
    "import matplotlib.pyplot as plt\n",
    "import seaborn as sns\n",
    "\n",
    "print(\"#1 필요한 라이브러리 준비 완료..!\")"
   ]
  },
  {
   "cell_type": "code",
   "execution_count": 11,
   "id": "f3630b2b",
   "metadata": {},
   "outputs": [
    {
     "name": "stdout",
     "output_type": "stream",
     "text": [
      "#2 데이터 가져오기..!\n",
      "train.shape:  (15035, 21)\n",
      "test.shape:  (6468, 20)\n"
     ]
    },
    {
     "data": {
      "text/html": [
       "<div>\n",
       "<style scoped>\n",
       "    .dataframe tbody tr th:only-of-type {\n",
       "        vertical-align: middle;\n",
       "    }\n",
       "\n",
       "    .dataframe tbody tr th {\n",
       "        vertical-align: top;\n",
       "    }\n",
       "\n",
       "    .dataframe thead th {\n",
       "        text-align: right;\n",
       "    }\n",
       "</style>\n",
       "<table border=\"1\" class=\"dataframe\">\n",
       "  <thead>\n",
       "    <tr style=\"text-align: right;\">\n",
       "      <th></th>\n",
       "      <th>id</th>\n",
       "      <th>date</th>\n",
       "      <th>price</th>\n",
       "      <th>bedrooms</th>\n",
       "      <th>bathrooms</th>\n",
       "      <th>sqft_living</th>\n",
       "      <th>sqft_lot</th>\n",
       "      <th>floors</th>\n",
       "      <th>waterfront</th>\n",
       "      <th>view</th>\n",
       "      <th>...</th>\n",
       "      <th>grade</th>\n",
       "      <th>sqft_above</th>\n",
       "      <th>sqft_basement</th>\n",
       "      <th>yr_built</th>\n",
       "      <th>yr_renovated</th>\n",
       "      <th>zipcode</th>\n",
       "      <th>lat</th>\n",
       "      <th>long</th>\n",
       "      <th>sqft_living15</th>\n",
       "      <th>sqft_lot15</th>\n",
       "    </tr>\n",
       "  </thead>\n",
       "  <tbody>\n",
       "    <tr>\n",
       "      <th>0</th>\n",
       "      <td>0</td>\n",
       "      <td>20141013T000000</td>\n",
       "      <td>221900.0</td>\n",
       "      <td>3</td>\n",
       "      <td>1.00</td>\n",
       "      <td>1180</td>\n",
       "      <td>5650</td>\n",
       "      <td>1.0</td>\n",
       "      <td>0</td>\n",
       "      <td>0</td>\n",
       "      <td>...</td>\n",
       "      <td>7</td>\n",
       "      <td>1180</td>\n",
       "      <td>0</td>\n",
       "      <td>1955</td>\n",
       "      <td>0</td>\n",
       "      <td>98178</td>\n",
       "      <td>47.5112</td>\n",
       "      <td>-122.257</td>\n",
       "      <td>1340</td>\n",
       "      <td>5650</td>\n",
       "    </tr>\n",
       "    <tr>\n",
       "      <th>1</th>\n",
       "      <td>1</td>\n",
       "      <td>20150225T000000</td>\n",
       "      <td>180000.0</td>\n",
       "      <td>2</td>\n",
       "      <td>1.00</td>\n",
       "      <td>770</td>\n",
       "      <td>10000</td>\n",
       "      <td>1.0</td>\n",
       "      <td>0</td>\n",
       "      <td>0</td>\n",
       "      <td>...</td>\n",
       "      <td>6</td>\n",
       "      <td>770</td>\n",
       "      <td>0</td>\n",
       "      <td>1933</td>\n",
       "      <td>0</td>\n",
       "      <td>98028</td>\n",
       "      <td>47.7379</td>\n",
       "      <td>-122.233</td>\n",
       "      <td>2720</td>\n",
       "      <td>8062</td>\n",
       "    </tr>\n",
       "    <tr>\n",
       "      <th>2</th>\n",
       "      <td>2</td>\n",
       "      <td>20150218T000000</td>\n",
       "      <td>510000.0</td>\n",
       "      <td>3</td>\n",
       "      <td>2.00</td>\n",
       "      <td>1680</td>\n",
       "      <td>8080</td>\n",
       "      <td>1.0</td>\n",
       "      <td>0</td>\n",
       "      <td>0</td>\n",
       "      <td>...</td>\n",
       "      <td>8</td>\n",
       "      <td>1680</td>\n",
       "      <td>0</td>\n",
       "      <td>1987</td>\n",
       "      <td>0</td>\n",
       "      <td>98074</td>\n",
       "      <td>47.6168</td>\n",
       "      <td>-122.045</td>\n",
       "      <td>1800</td>\n",
       "      <td>7503</td>\n",
       "    </tr>\n",
       "    <tr>\n",
       "      <th>3</th>\n",
       "      <td>3</td>\n",
       "      <td>20140627T000000</td>\n",
       "      <td>257500.0</td>\n",
       "      <td>3</td>\n",
       "      <td>2.25</td>\n",
       "      <td>1715</td>\n",
       "      <td>6819</td>\n",
       "      <td>2.0</td>\n",
       "      <td>0</td>\n",
       "      <td>0</td>\n",
       "      <td>...</td>\n",
       "      <td>7</td>\n",
       "      <td>1715</td>\n",
       "      <td>0</td>\n",
       "      <td>1995</td>\n",
       "      <td>0</td>\n",
       "      <td>98003</td>\n",
       "      <td>47.3097</td>\n",
       "      <td>-122.327</td>\n",
       "      <td>2238</td>\n",
       "      <td>6819</td>\n",
       "    </tr>\n",
       "    <tr>\n",
       "      <th>4</th>\n",
       "      <td>4</td>\n",
       "      <td>20150115T000000</td>\n",
       "      <td>291850.0</td>\n",
       "      <td>3</td>\n",
       "      <td>1.50</td>\n",
       "      <td>1060</td>\n",
       "      <td>9711</td>\n",
       "      <td>1.0</td>\n",
       "      <td>0</td>\n",
       "      <td>0</td>\n",
       "      <td>...</td>\n",
       "      <td>7</td>\n",
       "      <td>1060</td>\n",
       "      <td>0</td>\n",
       "      <td>1963</td>\n",
       "      <td>0</td>\n",
       "      <td>98198</td>\n",
       "      <td>47.4095</td>\n",
       "      <td>-122.315</td>\n",
       "      <td>1650</td>\n",
       "      <td>9711</td>\n",
       "    </tr>\n",
       "  </tbody>\n",
       "</table>\n",
       "<p>5 rows × 21 columns</p>\n",
       "</div>"
      ],
      "text/plain": [
       "   id             date     price  bedrooms  bathrooms  sqft_living  sqft_lot  \\\n",
       "0   0  20141013T000000  221900.0         3       1.00         1180      5650   \n",
       "1   1  20150225T000000  180000.0         2       1.00          770     10000   \n",
       "2   2  20150218T000000  510000.0         3       2.00         1680      8080   \n",
       "3   3  20140627T000000  257500.0         3       2.25         1715      6819   \n",
       "4   4  20150115T000000  291850.0         3       1.50         1060      9711   \n",
       "\n",
       "   floors  waterfront  view  ...  grade  sqft_above  sqft_basement  yr_built  \\\n",
       "0     1.0           0     0  ...      7        1180              0      1955   \n",
       "1     1.0           0     0  ...      6         770              0      1933   \n",
       "2     1.0           0     0  ...      8        1680              0      1987   \n",
       "3     2.0           0     0  ...      7        1715              0      1995   \n",
       "4     1.0           0     0  ...      7        1060              0      1963   \n",
       "\n",
       "   yr_renovated  zipcode      lat     long  sqft_living15  sqft_lot15  \n",
       "0             0    98178  47.5112 -122.257           1340        5650  \n",
       "1             0    98028  47.7379 -122.233           2720        8062  \n",
       "2             0    98074  47.6168 -122.045           1800        7503  \n",
       "3             0    98003  47.3097 -122.327           2238        6819  \n",
       "4             0    98198  47.4095 -122.315           1650        9711  \n",
       "\n",
       "[5 rows x 21 columns]"
      ]
     },
     "execution_count": 11,
     "metadata": {},
     "output_type": "execute_result"
    }
   ],
   "source": [
    "print(\"#2 데이터 가져오기..!\")\n",
    "data_dir = os.getenv('HOME')+'/aiffel/kaggle_kakr_housing/data'\n",
    "\n",
    "train_data_path = join(data_dir, 'train.csv')\n",
    "test_data_path = join(data_dir, 'test.csv') \n",
    "\n",
    "train = pd.read_csv(train_data_path)\n",
    "test = pd.read_csv(test_data_path)\n",
    "\n",
    "# 데이터 모양 확인\n",
    "print(\"train.shape: \", train.shape)\n",
    "print(\"test.shape: \", test.shape)\n",
    "\n",
    "# train 데이터 확인\n",
    "train.head()"
   ]
  },
  {
   "cell_type": "code",
   "execution_count": 12,
   "id": "5664b397",
   "metadata": {},
   "outputs": [
    {
     "name": "stdout",
     "output_type": "stream",
     "text": [
      "#4 EDA 사전 작업..!\n",
      "train 크기:  21503\n",
      "   id             date     price  bedrooms  bathrooms  sqft_living  sqft_lot  \\\n",
      "0   0  20141013T000000  221900.0         3       1.00         1180      5650   \n",
      "1   1  20150225T000000  180000.0         2       1.00          770     10000   \n",
      "2   2  20150218T000000  510000.0         3       2.00         1680      8080   \n",
      "3   3  20140627T000000  257500.0         3       2.25         1715      6819   \n",
      "4   4  20150115T000000  291850.0         3       1.50         1060      9711   \n",
      "\n",
      "   floors  waterfront  view  ...  grade  sqft_above  sqft_basement  yr_built  \\\n",
      "0     1.0           0     0  ...      7        1180              0      1955   \n",
      "1     1.0           0     0  ...      6         770              0      1933   \n",
      "2     1.0           0     0  ...      8        1680              0      1987   \n",
      "3     2.0           0     0  ...      7        1715              0      1995   \n",
      "4     1.0           0     0  ...      7        1060              0      1963   \n",
      "\n",
      "   yr_renovated  zipcode      lat     long  sqft_living15  sqft_lot15  \n",
      "0             0    98178  47.5112 -122.257           1340        5650  \n",
      "1             0    98028  47.7379 -122.233           2720        8062  \n",
      "2             0    98074  47.6168 -122.045           1800        7503  \n",
      "3             0    98003  47.3097 -122.327           2238        6819  \n",
      "4             0    98198  47.4095 -122.315           1650        9711  \n",
      "\n",
      "[5 rows x 21 columns]\n"
     ]
    }
   ],
   "source": [
    "print(\"#4 EDA 사전 작업..!\")\n",
    "y = train['price']\n",
    "train_len = len(train)\n",
    "train = pd.concat((train, test), axis=0)\n",
    "\n",
    "print(\"train 크기: \",len(train)) # train + test\n",
    "print(train.head())"
   ]
  },
  {
   "cell_type": "code",
   "execution_count": 13,
   "id": "e3e7a666",
   "metadata": {},
   "outputs": [
    {
     "name": "stdout",
     "output_type": "stream",
     "text": [
      "#5 결측치 처리\n",
      "id : 0\n",
      "date : 0\n",
      "price : 6468\n",
      "bedrooms : 0\n",
      "bathrooms : 0\n",
      "sqft_living : 0\n",
      "sqft_lot : 0\n",
      "floors : 0\n",
      "waterfront : 0\n",
      "view : 0\n",
      "condition : 0\n",
      "grade : 0\n",
      "sqft_above : 0\n",
      "sqft_basement : 0\n",
      "yr_built : 0\n",
      "yr_renovated : 0\n",
      "zipcode : 0\n",
      "lat : 0\n",
      "long : 0\n",
      "sqft_living15 : 0\n",
      "sqft_lot15 : 0\n"
     ]
    },
    {
     "data": {
      "text/plain": [
       "<AxesSubplot:>"
      ]
     },
     "execution_count": 13,
     "metadata": {},
     "output_type": "execute_result"
    },
    {
     "data": {
      "image/png": "[encoded data removed]",
      "text/plain": [
       "<Figure size 1800x720 with 2 Axes>"
      ]
     },
     "metadata": {
      "needs_background": "light"
     },
     "output_type": "display_data"
    }
   ],
   "source": [
    "print(\"#5 결측치 처리\")\n",
    "\n",
    "# train 데이터의 결측치 for문으로 검거\n",
    "for c in train.columns:\n",
    "    print('{} : {}'.format(c, len(train.loc[pd.isnull(train[c]), c].values)))\n",
    "    \n",
    "msno.matrix(train) # 결측치 시각화"
   ]
  },
  {
   "cell_type": "code",
   "execution_count": 14,
   "id": "dca6c3a2",
   "metadata": {},
   "outputs": [
    {
     "name": "stdout",
     "output_type": "stream",
     "text": [
      "#6 id값 제거\n",
      "Index(['date', 'price', 'bedrooms', 'bathrooms', 'sqft_living', 'sqft_lot',\n",
      "       'floors', 'waterfront', 'view', 'condition', 'grade', 'sqft_above',\n",
      "       'sqft_basement', 'yr_built', 'yr_renovated', 'zipcode', 'lat', 'long',\n",
      "       'sqft_living15', 'sqft_lot15'],\n",
      "      dtype='object')\n"
     ]
    }
   ],
   "source": [
    "print(\"#6 id값 제거\")\n",
    "\n",
    "try:\n",
    "    test_id = train['id'][train_len:]\n",
    "    del train['id']\n",
    "    del test['id']\n",
    "except:\n",
    "    print('id가 존재하지 않습니다!!\\n\\n')\n",
    "\n",
    "print(train.columns)"
   ]
  },
  {
   "cell_type": "code",
   "execution_count": 15,
   "id": "832bf2c4",
   "metadata": {},
   "outputs": [
    {
     "name": "stdout",
     "output_type": "stream",
     "text": [
      "#7 date값 년,월,일로 format 변경\n"
     ]
    },
    {
     "data": {
      "text/plain": [
       "0       2014\n",
       "1       2014\n",
       "2       2014\n",
       "3       2015\n",
       "4       2015\n",
       "        ... \n",
       "6463    2014\n",
       "6464    2015\n",
       "6465    2015\n",
       "6466    2014\n",
       "6467    2015\n",
       "Name: year, Length: 6468, dtype: int64"
      ]
     },
     "execution_count": 15,
     "metadata": {},
     "output_type": "execute_result"
    }
   ],
   "source": [
    "print(\"#7 date값 년,월,일로 format 변경\")\n",
    "\n",
    "for df in [train, test]:\n",
    "    df['year'] = df['date'].apply(lambda x : str(x[0:4]), range(len(df))).astype(int)\n",
    "    df['month'] = df['date'].apply(lambda x : str(x[4:6]), range(len(df))).astype(int)\n",
    "    df['day'] = df['date'].apply(lambda x : str(x[6:8]), range(len(df))).astype(int)\n",
    "\n",
    "train['year']\n",
    "test['year']"
   ]
  },
  {
   "cell_type": "code",
   "execution_count": 16,
   "id": "c8eed0a4",
   "metadata": {
    "scrolled": false
   },
   "outputs": [
    {
     "name": "stdout",
     "output_type": "stream",
     "text": [
      "#8 데이터 분포, 상관관계 확인\n"
     ]
    }
   ],
   "source": [
    "print(\"#8 데이터 분포, 상관관계 확인\")\n",
    "\n",
    "def correlation_plot():\n",
    "    count = 0\n",
    "    columns = train.columns\n",
    "    fig, ax = plt.subplots(10, 2, figsize=(12, 30))   # 가로스크롤 때문에 그래프 확인이 불편하다면 figsize의 x값을 조절해 보세요.\n",
    "    \n",
    "    train['price'] = np.log1p(train['price'])\n",
    "    \n",
    "    for row in range(10):\n",
    "        for col in range(2):\n",
    "            try:\n",
    "                # sns.regplot(np.log1p(train[columns[count]]), train['price'], ax=ax[row][col])\n",
    "                sns.regplot(train[columns[count]], train['price'], ax=ax[row][col])\n",
    "                ax[row][col].set_title(columns[count], fontsize=15)\n",
    "                plt.tight_layout()\n",
    "            except:\n",
    "                print(columns[count])\n",
    "            count += 1\n",
    "            if count == 20:\n",
    "                break\n",
    "                \n",
    "# correlation_plot()"
   ]
  },
  {
   "cell_type": "code",
   "execution_count": 17,
   "id": "76410a57",
   "metadata": {},
   "outputs": [
    {
     "name": "stdout",
     "output_type": "stream",
     "text": [
      "#9 데이터 준비\n"
     ]
    }
   ],
   "source": [
    "print(\"#9 데이터 준비\")\n",
    "\n",
    "del train['price']\n",
    "\n",
    "# sqft_lot, lat, long - 제거\n",
    "for df in [train, test]:\n",
    "    try:\n",
    "        df.drop(columns = ['date'], inplace = True) # , 'lat', 'long'\n",
    "    except:\n",
    "        print(\"이미 제거된 컬럼입니다.\")\n",
    "        \n",
    "\n",
    "        \n",
    "# 데이터 더미화\n",
    "dummy_column = ['year', 'month', 'day'] # 'yr_built', 'yr_renovated', 'waterfront',  'zipcode'\n",
    "for df in [train, test]:\n",
    "    for dummy in dummy_column:\n",
    "        df_dummy = pd.get_dummies(df[dummy], prefix=dummy)\n",
    "        # 더미 변수 데이터프레임을 기존 데이터프레임에 병합\n",
    "        df = df.drop(dummy, axis=1)\n",
    "        df = pd.concat([df, df_dummy], axis=1)\n"
   ]
  },
  {
   "cell_type": "code",
   "execution_count": 18,
   "id": "04178d25",
   "metadata": {},
   "outputs": [
    {
     "name": "stdout",
     "output_type": "stream",
     "text": [
      "#10 모델 학습 준비\n"
     ]
    },
    {
     "ename": "ModuleNotFoundError",
     "evalue": "No module named 'catboost'",
     "output_type": "error",
     "traceback": [
      "\u001b[0;31m---------------------------------------------------------------------------\u001b[0m",
      "\u001b[0;31mModuleNotFoundError\u001b[0m                       Traceback (most recent call last)",
      "\u001b[0;32m/tmp/ipykernel_47/3868014192.py\u001b[0m in \u001b[0;36m<module>\u001b[0;34m\u001b[0m\n\u001b[1;32m      7\u001b[0m \u001b[0mrandom_state\u001b[0m\u001b[0;34m=\u001b[0m\u001b[0;36m2020\u001b[0m \u001b[0;31m#고정값 셋팅\u001b[0m\u001b[0;34m\u001b[0m\u001b[0;34m\u001b[0m\u001b[0m\n\u001b[1;32m      8\u001b[0m \u001b[0;32mfrom\u001b[0m \u001b[0msklearn\u001b[0m\u001b[0;34m.\u001b[0m\u001b[0mlinear_model\u001b[0m \u001b[0;32mimport\u001b[0m \u001b[0mElasticNet\u001b[0m\u001b[0;34m\u001b[0m\u001b[0;34m\u001b[0m\u001b[0m\n\u001b[0;32m----> 9\u001b[0;31m \u001b[0;32mfrom\u001b[0m \u001b[0mcatboost\u001b[0m \u001b[0;32mimport\u001b[0m \u001b[0mCatBoostRegressor\u001b[0m\u001b[0;34m\u001b[0m\u001b[0;34m\u001b[0m\u001b[0m\n\u001b[0m\u001b[1;32m     10\u001b[0m \u001b[0;34m\u001b[0m\u001b[0m\n\u001b[1;32m     11\u001b[0m \u001b[0mgboost\u001b[0m \u001b[0;34m=\u001b[0m \u001b[0mGradientBoostingRegressor\u001b[0m\u001b[0;34m(\u001b[0m\u001b[0mrandom_state\u001b[0m\u001b[0;34m=\u001b[0m\u001b[0mrandom_state\u001b[0m\u001b[0;34m)\u001b[0m\u001b[0;34m\u001b[0m\u001b[0;34m\u001b[0m\u001b[0m\n",
      "\u001b[0;31mModuleNotFoundError\u001b[0m: No module named 'catboost'"
     ]
    }
   ],
   "source": [
    "print(\"#10 모델 학습 준비\")\n",
    "def rmse(y_test, y_pred):\n",
    "    print(np.expm1(y_test))\n",
    "    print(np.expm1(y_pred))\n",
    "    return np.sqrt(mean_squared_error(np.expm1(y_test), np.expm1(y_pred)))\n",
    "\n",
    "random_state=2020 #고정값 셋팅\n",
    "from sklearn.linear_model import ElasticNet\n",
    "from catboost import CatBoostRegressor\n",
    "\n",
    "gboost = GradientBoostingRegressor(random_state=random_state)\n",
    "xgboost = XGBRegressor(random_state=random_state)\n",
    "lightgbm = LGBMRegressor(random_state=random_state)\n",
    "rdforest = RandomForestRegressor(random_state=random_state)\n",
    "catboost = CatBoostRegressor(random_state=random_state)\n",
    "\n",
    "models = [gboost, xgboost, lightgbm, rdforest, catboost]\n",
    "\n",
    "y = np.log1p(y)\n",
    "train2 = train.iloc[:train_len, :]\n",
    "\n",
    "def get_scores(models, train, y):\n",
    "    df = {}\n",
    "    \n",
    "    for model in models:\n",
    "        model_name = model.__class__.__name__\n",
    "        \n",
    "        X_train, X_test, y_train, y_test = train_test_split(train, y, random_state=random_state, test_size=0.2)\n",
    "\n",
    "        model.fit(X_train, y_train)\n",
    "        y_pred = model.predict(X_test)\n",
    "        \n",
    "        df[model_name] = rmse(y_test, y_pred)\n",
    "        score_df = pd.DataFrame(df, index=['RMSE']).T.sort_values('RMSE', ascending=False)\n",
    "            \n",
    "    return score_df\n",
    "\n",
    "get_scores(models, train2, y)"
   ]
  },
  {
   "cell_type": "code",
   "execution_count": null,
   "id": "49ceb049",
   "metadata": {},
   "outputs": [],
   "source": [
    "print(\"#11 그리드 탐색\")\n",
    "param_grid = {\n",
    "    'n_estimators': [150,200,300],  # 더 다양한 값을 추가\n",
    "    'max_depth': [10,20]  # 더 다양한 값을 추가\n",
    "}\n",
    "\n",
    "model = LGBMRegressor(random_state=random_state)\n",
    "\n",
    "grid_model = GridSearchCV(model, param_grid=param_grid, \\\n",
    "                        scoring='neg_mean_squared_error', \\\n",
    "                        cv=5, verbose=1, n_jobs=5)\n",
    "\n",
    "grid_model.fit(train2, y)"
   ]
  },
  {
   "cell_type": "code",
   "execution_count": null,
   "id": "c451b06c",
   "metadata": {},
   "outputs": [],
   "source": [
    "params = grid_model.cv_results_['params']\n",
    "params"
   ]
  },
  {
   "cell_type": "code",
   "execution_count": null,
   "id": "1e56c43a",
   "metadata": {},
   "outputs": [],
   "source": [
    "score = grid_model.cv_results_['mean_test_score']\n",
    "score"
   ]
  },
  {
   "cell_type": "code",
   "execution_count": null,
   "id": "2accecd5",
   "metadata": {},
   "outputs": [],
   "source": [
    "results = pd.DataFrame(params)\n",
    "results['score'] = score\n",
    "\n",
    "results"
   ]
  },
  {
   "cell_type": "code",
   "execution_count": null,
   "id": "132ff168",
   "metadata": {},
   "outputs": [],
   "source": [
    "results['RMSE'] = np.sqrt(-1 * results['score'])\n",
    "results"
   ]
  },
  {
   "cell_type": "code",
   "execution_count": null,
   "id": "57770652",
   "metadata": {},
   "outputs": [],
   "source": [
    "results = results.rename(columns={'RMSE': 'RMSLE'})\n",
    "results"
   ]
  },
  {
   "cell_type": "code",
   "execution_count": null,
   "id": "08a15283",
   "metadata": {},
   "outputs": [],
   "source": [
    "results = results.sort_values('RMSLE')\n",
    "results"
   ]
  },
  {
   "cell_type": "code",
   "execution_count": null,
   "id": "83aee33e",
   "metadata": {},
   "outputs": [],
   "source": [
    "def my_GridSearch(model, train, y, param_grid, verbose=2, n_jobs=5):\n",
    "    # GridSearchCV 모델로 초기화\n",
    "    grid_model = GridSearchCV(model, param_grid=param_grid, scoring='neg_mean_squared_error', \\\n",
    "                              cv=5, verbose=verbose, n_jobs=n_jobs)\n",
    "    \n",
    "    # 모델 fitting\n",
    "    grid_model.fit(train2, y)\n",
    "\n",
    "    # 결과값 저장\n",
    "    params = grid_model.cv_results_['params']\n",
    "    score = grid_model.cv_results_['mean_test_score']\n",
    "    \n",
    "    # 데이터 프레임 생성\n",
    "    results = pd.DataFrame(params)\n",
    "    results['score'] = score\n",
    "    \n",
    "    # RMSLE 값 계산 후 정렬\n",
    "    results['RMSLE'] = np.sqrt(-1 * results['score'])\n",
    "    results = results.sort_values('RMSLE')\n",
    "\n",
    "    return results"
   ]
  },
  {
   "cell_type": "code",
   "execution_count": null,
   "id": "8a7b7279",
   "metadata": {},
   "outputs": [],
   "source": [
    "param_grid = {\n",
    "    'n_estimators': [150,200,300],  # 더 다양한 값을 추가\n",
    "    'max_depth': [10,20]  # 더 다양한 값을 추가\n",
    "}\n",
    "\n",
    "model = LGBMRegressor(random_state=random_state)\n",
    "my_GridSearch(model, train2, y, param_grid, verbose=2, n_jobs=5)"
   ]
  },
  {
   "cell_type": "code",
   "execution_count": null,
   "id": "74c4dffb",
   "metadata": {},
   "outputs": [],
   "source": [
    "model = LGBMRegressor(max_depth=20, n_estimators=300, random_state=random_state)\n",
    "# model = CatBoostRegressor(max_depth=15, n_estimators=200,random_state=random_state)\n",
    "model.fit(train2, y)"
   ]
  },
  {
   "cell_type": "code",
   "execution_count": null,
   "id": "f1161c5d",
   "metadata": {},
   "outputs": [],
   "source": [
    "# train2.columns"
   ]
  },
  {
   "cell_type": "code",
   "execution_count": null,
   "id": "1c71deae",
   "metadata": {},
   "outputs": [],
   "source": [
    "# test.columns"
   ]
  },
  {
   "cell_type": "code",
   "execution_count": null,
   "id": "10b544d5",
   "metadata": {},
   "outputs": [],
   "source": [
    "prediction = model.predict(test)\n",
    "prediction"
   ]
  },
  {
   "cell_type": "code",
   "execution_count": null,
   "id": "b5f2c9a4",
   "metadata": {},
   "outputs": [],
   "source": [
    "prediction = np.expm1(prediction)\n",
    "prediction"
   ]
  },
  {
   "cell_type": "code",
   "execution_count": null,
   "id": "03727c55",
   "metadata": {},
   "outputs": [],
   "source": [
    "data_dir = os.getenv('HOME')+'/aiffel/kaggle_kakr_housing/data'\n",
    "\n",
    "submission_path = join(data_dir, 'sample_submission.csv')\n",
    "submission = pd.read_csv(submission_path)\n",
    "submission.head()"
   ]
  },
  {
   "cell_type": "code",
   "execution_count": null,
   "id": "adca58ec",
   "metadata": {},
   "outputs": [],
   "source": [
    "submission['price'] = prediction\n",
    "submission.head()"
   ]
  },
  {
   "cell_type": "code",
   "execution_count": null,
   "id": "79ed589c",
   "metadata": {},
   "outputs": [],
   "source": [
    "submission_csv_path = '{}/submission_{}_RMSLE_{}.csv'.format(data_dir, 'lgbm', '0.161881')\n",
    "submission.to_csv(submission_csv_path, index=False)\n",
    "print(submission_csv_path)"
   ]
  },
  {
   "cell_type": "code",
   "execution_count": null,
   "id": "87f3cd71",
   "metadata": {},
   "outputs": [],
   "source": [
    "def save_submission(model, train, y, test, model_name, rmsle=None):\n",
    "    model.fit(train, y)\n",
    "    prediction = model.predict(test)\n",
    "    prediction = np.expm1(prediction)\n",
    "    data_dir = os.getenv('HOME')+'/aiffel/kaggle_kakr_housing/data'\n",
    "    submission_path = join(data_dir, 'sample_submission.csv')\n",
    "    submission = pd.read_csv(submission_path)\n",
    "    submission['price'] = prediction\n",
    "    submission_csv_path = '{}/submission_{}_RMSLE_{}.csv'.format(data_dir, model_name, rmsle)\n",
    "    submission.to_csv(submission_csv_path, index=False)\n",
    "    print('{} saved!'.format(submission_csv_path))"
   ]
  },
  {
   "cell_type": "code",
   "execution_count": null,
   "id": "00107256",
   "metadata": {},
   "outputs": [],
   "source": [
    "save_submission(model, train2, y, test, 'lgbm', rmsle='0.161881')"
   ]
  }
 ],
 "metadata": {
  "kernelspec": {
   "display_name": "Python 3 (ipykernel)",
   "language": "python",
   "name": "python3"
  },
  "language_info": {
   "codemirror_mode": {
    "name": "ipython",
    "version": 3
   },
   "file_extension": ".py",
   "mimetype": "text/x-python",
   "name": "python",
   "nbconvert_exporter": "python",
   "pygments_lexer": "ipython3",
   "version": "3.9.7"
  }
 },
 "nbformat": 4,
 "nbformat_minor": 5
}
