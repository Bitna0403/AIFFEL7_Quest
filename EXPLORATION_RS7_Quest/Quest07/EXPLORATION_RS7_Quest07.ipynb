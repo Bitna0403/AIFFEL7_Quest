{
 "cells": [
  {
   "cell_type": "markdown",
   "id": "101438f9",
   "metadata": {},
   "source": [
    "# Quest07: 뉴스 요약봇 만들기\n",
    "\n",
    "### 평가문항에 맞춰서 작성\n",
    "**1. Abstractive 모델 구성을 위한 텍스트 전처리 단계가 체계적으로 진행되었다.**  \n",
    "-> 분석단계, 정제단계, 정규화와 불용어 제거, 데이터셋 분리, 인코딩 과정이 빠짐없이 체계적으로 진행되었다.\n",
    "\n",
    "**2. 텍스트 요약모델이 성공적으로 학습되었음을 확인하였다.**  \n",
    "-> 모델 학습이 진행되면서 train loss와 validation loss가 감소하는 경향을 그래프를 통해 확인했으며, 실제 요약문에 있는 핵심 단어들이 요약 문장 안에 포함되었다.\n",
    "\n",
    "**3. Extractive 요약을 시도해 보고 Abstractive 요약 결과와 함께 비교해 보았다.**  \n",
    "-> 두 요약 결과를 문법완성도 측면과 핵심단어 포함 측면으로 나누어 비교하고 분석 결과를 표로 정리하여 제시하였다."
   ]
  },
  {
   "cell_type": "markdown",
   "id": "a96fd85c",
   "metadata": {},
   "source": [
    "# Import"
   ]
  },
  {
   "cell_type": "code",
   "execution_count": 62,
   "id": "4224177a",
   "metadata": {},
   "outputs": [
    {
     "name": "stderr",
     "output_type": "stream",
     "text": [
      "[nltk_data] Downloading package stopwords to /aiffel/nltk_data...\n",
      "[nltk_data]   Package stopwords is already up-to-date!\n"
     ]
    }
   ],
   "source": [
    "from importlib.metadata import version\n",
    "import nltk\n",
    "nltk.download('stopwords')\n",
    "import summa\n",
    "import pandas as pd\n",
    "import numpy as np\n",
    "import os\n",
    "import re\n",
    "import matplotlib.pyplot as plt\n",
    "from nltk.corpus import stopwords\n",
    "from bs4 import BeautifulSoup \n",
    "from tensorflow.keras.preprocessing.text import Tokenizer \n",
    "from tensorflow.keras.preprocessing.sequence import pad_sequences\n",
    "import urllib.request\n",
    "import warnings\n",
    "import time"
   ]
  },
  {
   "cell_type": "markdown",
   "id": "d2f0fed5",
   "metadata": {},
   "source": [
    "<br/>\n",
    "\n",
    "---\n",
    "\n",
    "<br/>"
   ]
  },
  {
   "cell_type": "markdown",
   "id": "17509ad4",
   "metadata": {},
   "source": [
    "# <span style=\"background-color:#E6E6FA\">  1. 데이터 수집하기  </span>"
   ]
  },
  {
   "cell_type": "code",
   "execution_count": 2,
   "id": "f9842c81",
   "metadata": {},
   "outputs": [],
   "source": [
    "import urllib.request\n",
    "urllib.request.urlretrieve(\"https://raw.githubusercontent.com/sunnysai12345/News_Summary/master/news_summary_more.csv\", filename=\"news_summary_more.csv\")\n",
    "data = pd.read_csv('news_summary_more.csv', encoding='iso-8859-1')"
   ]
  },
  {
   "cell_type": "code",
   "execution_count": 3,
   "id": "6f2089f3",
   "metadata": {},
   "outputs": [
    {
     "data": {
      "text/html": [
       "<div>\n",
       "<style scoped>\n",
       "    .dataframe tbody tr th:only-of-type {\n",
       "        vertical-align: middle;\n",
       "    }\n",
       "\n",
       "    .dataframe tbody tr th {\n",
       "        vertical-align: top;\n",
       "    }\n",
       "\n",
       "    .dataframe thead th {\n",
       "        text-align: right;\n",
       "    }\n",
       "</style>\n",
       "<table border=\"1\" class=\"dataframe\">\n",
       "  <thead>\n",
       "    <tr style=\"text-align: right;\">\n",
       "      <th></th>\n",
       "      <th>headlines</th>\n",
       "      <th>text</th>\n",
       "    </tr>\n",
       "  </thead>\n",
       "  <tbody>\n",
       "    <tr>\n",
       "      <th>35825</th>\n",
       "      <td>Man arrested for smuggling gold powder hidden ...</td>\n",
       "      <td>A man has been arrested from Pune airport for ...</td>\n",
       "    </tr>\n",
       "    <tr>\n",
       "      <th>93889</th>\n",
       "      <td>Big B shares old pic of Ranbir; calls him supe...</td>\n",
       "      <td>Actor Amitabh Bachchan took to Twitter to shar...</td>\n",
       "    </tr>\n",
       "    <tr>\n",
       "      <th>63820</th>\n",
       "      <td>Faheem Ashraf 1st Pakistani bowler to take a T...</td>\n",
       "      <td>All-rounder Faheem Ashraf became the first Pak...</td>\n",
       "    </tr>\n",
       "    <tr>\n",
       "      <th>66418</th>\n",
       "      <td>Not your fault if you're depressed, don't hide...</td>\n",
       "      <td>Actress Deepika Padukone, in an article she pe...</td>\n",
       "    </tr>\n",
       "    <tr>\n",
       "      <th>71572</th>\n",
       "      <td>Patanjali told to stop airing ad targeting Lux...</td>\n",
       "      <td>The Bombay High Court has asked Baba Ramdev-le...</td>\n",
       "    </tr>\n",
       "    <tr>\n",
       "      <th>12371</th>\n",
       "      <td>Uber's dealmaking head resigns amid sexual mis...</td>\n",
       "      <td>Uber's VP of corporate development Cameron Poe...</td>\n",
       "    </tr>\n",
       "    <tr>\n",
       "      <th>88027</th>\n",
       "      <td>PoK anthem played, terrorists' pics displayed ...</td>\n",
       "      <td>The national anthem of Pakistan-occupied Kashm...</td>\n",
       "    </tr>\n",
       "    <tr>\n",
       "      <th>35452</th>\n",
       "      <td>India protests as Pak stops envoy from meeting...</td>\n",
       "      <td>India on Sunday said it has lodged a \"strong p...</td>\n",
       "    </tr>\n",
       "    <tr>\n",
       "      <th>85299</th>\n",
       "      <td>Bathing suit featuring man's hairy chest goes ...</td>\n",
       "      <td>A bathing suit introduced by fashion brand Bel...</td>\n",
       "    </tr>\n",
       "    <tr>\n",
       "      <th>92733</th>\n",
       "      <td>Tata, Patanjali interested in Sahara propertie...</td>\n",
       "      <td>A number of corporates, including Tata, Godrej...</td>\n",
       "    </tr>\n",
       "  </tbody>\n",
       "</table>\n",
       "</div>"
      ],
      "text/plain": [
       "                                               headlines  \\\n",
       "35825  Man arrested for smuggling gold powder hidden ...   \n",
       "93889  Big B shares old pic of Ranbir; calls him supe...   \n",
       "63820  Faheem Ashraf 1st Pakistani bowler to take a T...   \n",
       "66418  Not your fault if you're depressed, don't hide...   \n",
       "71572  Patanjali told to stop airing ad targeting Lux...   \n",
       "12371  Uber's dealmaking head resigns amid sexual mis...   \n",
       "88027  PoK anthem played, terrorists' pics displayed ...   \n",
       "35452  India protests as Pak stops envoy from meeting...   \n",
       "85299  Bathing suit featuring man's hairy chest goes ...   \n",
       "92733  Tata, Patanjali interested in Sahara propertie...   \n",
       "\n",
       "                                                    text  \n",
       "35825  A man has been arrested from Pune airport for ...  \n",
       "93889  Actor Amitabh Bachchan took to Twitter to shar...  \n",
       "63820  All-rounder Faheem Ashraf became the first Pak...  \n",
       "66418  Actress Deepika Padukone, in an article she pe...  \n",
       "71572  The Bombay High Court has asked Baba Ramdev-le...  \n",
       "12371  Uber's VP of corporate development Cameron Poe...  \n",
       "88027  The national anthem of Pakistan-occupied Kashm...  \n",
       "35452  India on Sunday said it has lodged a \"strong p...  \n",
       "85299  A bathing suit introduced by fashion brand Bel...  \n",
       "92733  A number of corporates, including Tata, Godrej...  "
      ]
     },
     "execution_count": 3,
     "metadata": {},
     "output_type": "execute_result"
    }
   ],
   "source": [
    "# 데이터 확인\n",
    "data.sample(10) # headlines, text"
   ]
  },
  {
   "cell_type": "markdown",
   "id": "dc3ea154",
   "metadata": {},
   "source": [
    "# <span style=\"background-color:#E6E6FA\"> 1-0 편의를 위해 사용한 함수 정리 </span>"
   ]
  },
  {
   "cell_type": "code",
   "execution_count": 4,
   "id": "9cd2eb4c",
   "metadata": {},
   "outputs": [],
   "source": [
    "class LogTool():\n",
    "    '''\n",
    "    로그 클래스\n",
    "    '''\n",
    "    \n",
    "    def list_to_line(list: list):\n",
    "        '''\n",
    "        리스트\n",
    "\n",
    "        Args:\n",
    "            list: list를 line으로 출력\n",
    "        '''\n",
    "        msg = \"\"\n",
    "        \n",
    "        for i, e in enumerate(list):\n",
    "            msg += str(i+1) + ': ' + str(e) + '\\n'\n",
    "            \n",
    "        print(msg)\n",
    "\n",
    "# test_list = ['asdasd','asdbfbfbfb','hthdd','asyryry']\n",
    "# LogTool.list_to_line(test_list)"
   ]
  },
  {
   "cell_type": "markdown",
   "id": "4ab2a5cf",
   "metadata": {},
   "source": [
    "# <span style=\"background-color:#E6E6FA\"> 2-0 데이터 전처리에 사용한 def 정리 </span>"
   ]
  },
  {
   "cell_type": "code",
   "execution_count": 5,
   "id": "87bbea34",
   "metadata": {},
   "outputs": [],
   "source": [
    "def check_unique_data(data, col='all'):\n",
    "    '''\n",
    "    데이터의 유니크한 데이터 수를 출력하는 함수\n",
    "    \n",
    "    Args:\n",
    "        data: 데이터 프레임을 받음\n",
    "        col: 데이터 프레임의 컬럼명을 받음\n",
    "    '''\n",
    "    \n",
    "    if col == 'all':\n",
    "        try:\n",
    "            for x in data.columns:\n",
    "                print(f'>>> {x}의 유니크한 데이터 수: ', data[x].nunique())\n",
    "        except:\n",
    "            print('>>> 올바른 데이터 형식이 아닙니다.')\n",
    "\n",
    "    else:\n",
    "        try:\n",
    "            print(f'>>> {col}의 유니크한 데이터 수: ', data[col].nunique())\n",
    "        except:\n",
    "            print('>>> 올바른 데이터 형식이 아니거나 포함되지 않은 컬럼입니다.')\n",
    "        \n",
    "        \n",
    "def preprocess_sentence(sentence, remove_stopwords=True):\n",
    "    '''\n",
    "    문장에서 아래와 같은 전처리를 해주는 함수\n",
    "    \n",
    "     Args:\n",
    "        sentence: 문장 데이터를 받음\n",
    "        remove_stopwords: 불용어를 처리할지 말지를 정하는 값(True: 처리O, False: 처리X)\n",
    "    \n",
    "    '''\n",
    "    \n",
    "    sentence = sentence.lower()    # 텍스트 소문자화\n",
    "    sentence = BeautifulSoup(sentence, \"lxml\").text   # <> 등 html 태그 제거\n",
    "    sentence = re.sub(r'\\([^)]*\\)', '', sentence) # 괄호로 닫힌 문자열 (~~) 제거\n",
    "    sentence = re.sub('\"\"', '', sentence) # 쌍따옴표 \" 제거\n",
    "    sentence = ' '.join([contractions[t] if t in contractions else t for t in sentence.split(\" \")])  # 약어 정규화\n",
    "    sentence = re.sub(r\"'s\\b\", \"\", sentence)  # 소유격 제거. Her's => Her\n",
    "    sentence = re.sub(\"[^a-zA-Z]\", \" \", sentence)   # 영어 외 문자(숫자, 특수문자 등) 공백으로 변환\n",
    "    sentence = re.sub('[m]{2,}', 'mm', sentence)   # m이 3개 이상이면 2개로 변경 ummmm 이런거\n",
    "    \n",
    "    # 불용어 제거 (in text)\n",
    "    if remove_stopwords:\n",
    "        tokens = ' '.join(word for word in sentence.split() if not word in stopwords.words('english') if len(word) > 1)\n",
    "    \n",
    "    # 불용어 미제거 (in headlines) 제거하면 오히려 어색함\n",
    "    else:\n",
    "        tokens = ' '.join(word for word in sentence.split() if len(word) > 1)\n",
    "    return tokens"
   ]
  },
  {
   "cell_type": "markdown",
   "id": "3439e9bc",
   "metadata": {},
   "source": [
    "<br/>\n",
    "\n",
    "---\n",
    "\n",
    "<br/>"
   ]
  },
  {
   "cell_type": "markdown",
   "id": "d6a6e09c",
   "metadata": {},
   "source": [
    "# <span style=\"background-color:#E6E6FA\"> 2. 데이터 전처리하기 (추상적 요약) </span>"
   ]
  },
  {
   "cell_type": "markdown",
   "id": "63620f43",
   "metadata": {},
   "source": [
    "### <span style=\"background-color:#fff5b1\"> 유니크한 데이터 수 파악(중복값 제거를 위한 작업) </span>"
   ]
  },
  {
   "cell_type": "code",
   "execution_count": 6,
   "id": "61c90480",
   "metadata": {
    "scrolled": false
   },
   "outputs": [
    {
     "name": "stdout",
     "output_type": "stream",
     "text": [
      ">>> headlines의 유니크한 데이터 수:  98280\n",
      ">>> text의 유니크한 데이터 수:  98360\n"
     ]
    }
   ],
   "source": [
    "# check_unique_data(data, 'text')\n",
    "check_unique_data(data) # data 전체의 유니크한 데이터 출력"
   ]
  },
  {
   "cell_type": "markdown",
   "id": "9a73124d",
   "metadata": {},
   "source": [
    "### <span style=\"background-color:#fff5b1\"> text는 본문이기 때문에 중복값 제거 </span> "
   ]
  },
  {
   "cell_type": "code",
   "execution_count": 7,
   "id": "a554ab7b",
   "metadata": {
    "scrolled": true
   },
   "outputs": [
    {
     "name": "stdout",
     "output_type": "stream",
     "text": [
      ">>> 전체 샘플수 : 98360\n"
     ]
    }
   ],
   "source": [
    "data.drop_duplicates(subset = ['text'], inplace = True)\n",
    "print('>>> 전체 샘플수 :',(len(data)))"
   ]
  },
  {
   "cell_type": "markdown",
   "id": "5de9d6df",
   "metadata": {},
   "source": [
    "### <span style=\"background-color:#fff5b1\"> 결측치(null)값 확인 및 제거 </span> "
   ]
  },
  {
   "cell_type": "code",
   "execution_count": 8,
   "id": "fd06d7b7",
   "metadata": {},
   "outputs": [
    {
     "name": "stdout",
     "output_type": "stream",
     "text": [
      "headlines    0\n",
      "text         0\n",
      "dtype: int64\n"
     ]
    }
   ],
   "source": [
    "print(data.isnull().sum())"
   ]
  },
  {
   "cell_type": "markdown",
   "id": "78833fd7",
   "metadata": {},
   "source": [
    "### <span style=\"background-color:#fff5b1\"> 텍스트 정규화 및 불용어 제거 </span> "
   ]
  },
  {
   "cell_type": "code",
   "execution_count": 9,
   "id": "91345848",
   "metadata": {},
   "outputs": [
    {
     "name": "stdout",
     "output_type": "stream",
     "text": [
      ">>> 정규화 사전의 수:  120\n"
     ]
    }
   ],
   "source": [
    "contractions = {\"ain't\": \"is not\", \"aren't\": \"are not\",\"can't\": \"cannot\", \"'cause\": \"because\", \"could've\": \"could have\", \"couldn't\": \"could not\",\n",
    "                           \"didn't\": \"did not\",  \"doesn't\": \"does not\", \"don't\": \"do not\", \"hadn't\": \"had not\", \"hasn't\": \"has not\", \"haven't\": \"have not\",\n",
    "                           \"he'd\": \"he would\",\"he'll\": \"he will\", \"he's\": \"he is\", \"how'd\": \"how did\", \"how'd'y\": \"how do you\", \"how'll\": \"how will\", \"how's\": \"how is\",\n",
    "                           \"I'd\": \"I would\", \"I'd've\": \"I would have\", \"I'll\": \"I will\", \"I'll've\": \"I will have\",\"I'm\": \"I am\", \"I've\": \"I have\", \"i'd\": \"i would\",\n",
    "                           \"i'd've\": \"i would have\", \"i'll\": \"i will\",  \"i'll've\": \"i will have\",\"i'm\": \"i am\", \"i've\": \"i have\", \"isn't\": \"is not\", \"it'd\": \"it would\",\n",
    "                           \"it'd've\": \"it would have\", \"it'll\": \"it will\", \"it'll've\": \"it will have\",\"it's\": \"it is\", \"let's\": \"let us\", \"ma'am\": \"madam\",\n",
    "                           \"mayn't\": \"may not\", \"might've\": \"might have\",\"mightn't\": \"might not\",\"mightn't've\": \"might not have\", \"must've\": \"must have\",\n",
    "                           \"mustn't\": \"must not\", \"mustn't've\": \"must not have\", \"needn't\": \"need not\", \"needn't've\": \"need not have\",\"o'clock\": \"of the clock\",\n",
    "                           \"oughtn't\": \"ought not\", \"oughtn't've\": \"ought not have\", \"shan't\": \"shall not\", \"sha'n't\": \"shall not\", \"shan't've\": \"shall not have\",\n",
    "                           \"she'd\": \"she would\", \"she'd've\": \"she would have\", \"she'll\": \"she will\", \"she'll've\": \"she will have\", \"she's\": \"she is\",\n",
    "                           \"should've\": \"should have\", \"shouldn't\": \"should not\", \"shouldn't've\": \"should not have\", \"so've\": \"so have\",\"so's\": \"so as\",\n",
    "                           \"this's\": \"this is\",\"that'd\": \"that would\", \"that'd've\": \"that would have\", \"that's\": \"that is\", \"there'd\": \"there would\",\n",
    "                           \"there'd've\": \"there would have\", \"there's\": \"there is\", \"here's\": \"here is\",\"they'd\": \"they would\", \"they'd've\": \"they would have\",\n",
    "                           \"they'll\": \"they will\", \"they'll've\": \"they will have\", \"they're\": \"they are\", \"they've\": \"they have\", \"to've\": \"to have\",\n",
    "                           \"wasn't\": \"was not\", \"we'd\": \"we would\", \"we'd've\": \"we would have\", \"we'll\": \"we will\", \"we'll've\": \"we will have\", \"we're\": \"we are\",\n",
    "                           \"we've\": \"we have\", \"weren't\": \"were not\", \"what'll\": \"what will\", \"what'll've\": \"what will have\", \"what're\": \"what are\",\n",
    "                           \"what's\": \"what is\", \"what've\": \"what have\", \"when's\": \"when is\", \"when've\": \"when have\", \"where'd\": \"where did\", \"where's\": \"where is\",\n",
    "                           \"where've\": \"where have\", \"who'll\": \"who will\", \"who'll've\": \"who will have\", \"who's\": \"who is\", \"who've\": \"who have\",\n",
    "                           \"why's\": \"why is\", \"why've\": \"why have\", \"will've\": \"will have\", \"won't\": \"will not\", \"won't've\": \"will not have\",\n",
    "                           \"would've\": \"would have\", \"wouldn't\": \"would not\", \"wouldn't've\": \"would not have\", \"y'all\": \"you all\",\n",
    "                           \"y'all'd\": \"you all would\",\"y'all'd've\": \"you all would have\",\"y'all're\": \"you all are\",\"y'all've\": \"you all have\",\n",
    "                           \"you'd\": \"you would\", \"you'd've\": \"you would have\", \"you'll\": \"you will\", \"you'll've\": \"you will have\",\n",
    "                           \"you're\": \"you are\", \"you've\": \"you have\"}\n",
    "\n",
    "print(\">>> 정규화 사전의 수: \",len(contractions))"
   ]
  },
  {
   "cell_type": "code",
   "execution_count": 10,
   "id": "ebe42e0c",
   "metadata": {},
   "outputs": [
    {
     "name": "stdout",
     "output_type": "stream",
     "text": [
      ">>> 불용어 개수 : 179\n",
      "['i', 'me', 'my', 'myself', 'we', 'our', 'ours', 'ourselves', 'you', \"you're\", \"you've\", \"you'll\", \"you'd\", 'your', 'yours', 'yourself', 'yourselves', 'he', 'him', 'his', 'himself', 'she', \"she's\", 'her', 'hers', 'herself', 'it', \"it's\", 'its', 'itself', 'they', 'them', 'their', 'theirs', 'themselves', 'what', 'which', 'who', 'whom', 'this', 'that', \"that'll\", 'these', 'those', 'am', 'is', 'are', 'was', 'were', 'be', 'been', 'being', 'have', 'has', 'had', 'having', 'do', 'does', 'did', 'doing', 'a', 'an', 'the', 'and', 'but', 'if', 'or', 'because', 'as', 'until', 'while', 'of', 'at', 'by', 'for', 'with', 'about', 'against', 'between', 'into', 'through', 'during', 'before', 'after', 'above', 'below', 'to', 'from', 'up', 'down', 'in', 'out', 'on', 'off', 'over', 'under', 'again', 'further', 'then', 'once', 'here', 'there', 'when', 'where', 'why', 'how', 'all', 'any', 'both', 'each', 'few', 'more', 'most', 'other', 'some', 'such', 'no', 'nor', 'not', 'only', 'own', 'same', 'so', 'than', 'too', 'very', 's', 't', 'can', 'will', 'just', 'don', \"don't\", 'should', \"should've\", 'now', 'd', 'll', 'm', 'o', 're', 've', 'y', 'ain', 'aren', \"aren't\", 'couldn', \"couldn't\", 'didn', \"didn't\", 'doesn', \"doesn't\", 'hadn', \"hadn't\", 'hasn', \"hasn't\", 'haven', \"haven't\", 'isn', \"isn't\", 'ma', 'mightn', \"mightn't\", 'mustn', \"mustn't\", 'needn', \"needn't\", 'shan', \"shan't\", 'shouldn', \"shouldn't\", 'wasn', \"wasn't\", 'weren', \"weren't\", 'won', \"won't\", 'wouldn', \"wouldn't\"]\n"
     ]
    }
   ],
   "source": [
    "print('>>> 불용어 개수 :', len(stopwords.words('english') ))\n",
    "print(stopwords.words('english'))"
   ]
  },
  {
   "cell_type": "markdown",
   "id": "dec0cecf",
   "metadata": {},
   "source": [
    "### <span style=\"background-color:#fff5b1\"> 데이터 전처리 결과를 확인하기 위해 임의의 데이터 호출 </span> "
   ]
  },
  {
   "cell_type": "code",
   "execution_count": 11,
   "id": "de64a127",
   "metadata": {},
   "outputs": [
    {
     "name": "stdout",
     "output_type": "stream",
     "text": [
      ">>> text:  everything bought great infact ordered twice third ordered wasfor mother father\n",
      ">>> headline: great way to start the day\n"
     ]
    }
   ],
   "source": [
    "temp_text = 'Everything I bought was great, infact I ordered twice and the third ordered was<br />for my mother and father.'\n",
    "temp_headline = 'Great way to start (or finish) the day!!!'\n",
    "\n",
    "print(\">>> text: \", preprocess_sentence(temp_text))\n",
    "print(\">>> headline:\", preprocess_sentence(temp_headline, False))  "
   ]
  },
  {
   "cell_type": "markdown",
   "id": "fb1eb670",
   "metadata": {},
   "source": [
    "### <span style=\"background-color:#fff5b1\"> 본문 데이터인 text는 불용어를 제거하는 전처리를 진행 </span> "
   ]
  },
  {
   "cell_type": "code",
   "execution_count": 12,
   "id": "beaed051",
   "metadata": {},
   "outputs": [
    {
     "name": "stdout",
     "output_type": "stream",
     "text": [
      "1: saurav kant alumnus upgrad iiit pg program machine learning artificial intelligence sr systems engineer infosys almost years work experience program upgrad degree career support helped transition data scientist tech mahindra salary hike upgrad online power learning powered lakh careers\n",
      "2: kunal shah credit card bill payment platform cred gave users chance win free food swiggy one year pranav kaushik delhi techie bagged reward spending cred coins users get one cred coin per rupee bill paid used avail rewards brands like ixigo bookmyshow ubereats cult fit\n",
      "3: new zealand defeated india wickets fourth odi hamilton thursday win first match five match odi series india lost international match rohit sharma captaincy consecutive victories dating back march match witnessed india getting seventh lowest total odi cricket history\n",
      "4: aegon life iterm insurance plan customers enjoy tax benefits premiums paid save taxes plan provides life cover age years also customers options insure critical illnesses disability accidental death benefit rider life cover age years\n",
      "5: speaking sexual harassment allegations rajkumar hirani sonam kapoor said known hirani many years true metoo movement get derailed metoo movement always believe woman case need reserve judgment added hirani accused assistant worked sanju\n",
      "\n"
     ]
    }
   ],
   "source": [
    "clean_text = []\n",
    "\n",
    "# 전체 Text 데이터에 대한 전처리 \n",
    "for s in data['text']:\n",
    "    clean_text.append(preprocess_sentence(s))\n",
    "\n",
    "# 전처리 후 출력\n",
    "LogTool.list_to_line(clean_text[:5])"
   ]
  },
  {
   "cell_type": "code",
   "execution_count": 13,
   "id": "69f890a0",
   "metadata": {},
   "outputs": [],
   "source": [
    "# 전처리 데이터 백업\n",
    "clean_text_backup = clean_text"
   ]
  },
  {
   "cell_type": "code",
   "execution_count": 14,
   "id": "1b25a338",
   "metadata": {},
   "outputs": [],
   "source": [
    "# 전처리 데이터 불러오기\n",
    "# clean_text = clean_text_backup"
   ]
  },
  {
   "cell_type": "markdown",
   "id": "4a079067",
   "metadata": {},
   "source": [
    "### <span style=\"background-color:#fff5b1\"> 제목 데이터인 headline은 불용어를 제거하지 않는 전처리를 진행 </span> "
   ]
  },
  {
   "cell_type": "code",
   "execution_count": 15,
   "id": "fe35a30f",
   "metadata": {},
   "outputs": [
    {
     "name": "stdout",
     "output_type": "stream",
     "text": [
      "1: upgrad learner switches to career in ml al with salary hike\n",
      "2: delhi techie wins free food from swiggy for one year on cred\n",
      "3: new zealand end rohit sharma led india match winning streak\n",
      "4: aegon life iterm insurance plan helps customers save tax\n",
      "5: have known hirani for yrs what if metoo claims are not true sonam\n",
      "\n"
     ]
    }
   ],
   "source": [
    "clean_headline = []\n",
    "\n",
    "# 전체 headlines 데이터에 대한 전처리 \n",
    "for s in data['headlines']:\n",
    "    clean_headline.append(preprocess_sentence(s, False)) # headlines에 대한 불용어 처리 False 와 True 비교\n",
    "\n",
    "# 전처리 후 출력\n",
    "LogTool.list_to_line(clean_headline[:5])"
   ]
  },
  {
   "cell_type": "code",
   "execution_count": 16,
   "id": "b816f20b",
   "metadata": {},
   "outputs": [],
   "source": [
    "# 전처리 데이터 백업\n",
    "clean_headline_backup = clean_headline"
   ]
  },
  {
   "cell_type": "code",
   "execution_count": 17,
   "id": "c50c461c",
   "metadata": {},
   "outputs": [],
   "source": [
    "# 전처리 데이터 불러오기\n",
    "# clean_headline = clean_headline_backup"
   ]
  },
  {
   "cell_type": "markdown",
   "id": "759e7667",
   "metadata": {},
   "source": [
    "### <span style=\"background-color:#fff5b1\"> 빈값 변환 및 처리 </span> "
   ]
  },
  {
   "cell_type": "code",
   "execution_count": 18,
   "id": "73759cf0",
   "metadata": {},
   "outputs": [],
   "source": [
    "data['text'] = clean_text\n",
    "data['headlines'] = clean_headline\n",
    "\n",
    "# 빈 값을 Null 값으로 변환\n",
    "data.replace('', np.nan, inplace=True)"
   ]
  },
  {
   "cell_type": "code",
   "execution_count": 19,
   "id": "21e2f0f8",
   "metadata": {},
   "outputs": [
    {
     "data": {
      "text/plain": [
       "headlines    0\n",
       "text         0\n",
       "dtype: int64"
      ]
     },
     "execution_count": 19,
     "metadata": {},
     "output_type": "execute_result"
    }
   ],
   "source": [
    "data.isnull().sum()"
   ]
  },
  {
   "cell_type": "markdown",
   "id": "db815468",
   "metadata": {},
   "source": [
    "### <span style=\"background-color:#fff5b1\"> 샘플 최대 길이 설정(분포 확인) </span> "
   ]
  },
  {
   "cell_type": "code",
   "execution_count": 20,
   "id": "cfd2f3a6",
   "metadata": {},
   "outputs": [
    {
     "name": "stdout",
     "output_type": "stream",
     "text": [
      "텍스트의 최소 길이 : 1\n",
      "텍스트의 최대 길이 : 60\n",
      "텍스트의 평균 길이 : 35.097763318422125\n",
      "요약의 최소 길이 : 1\n",
      "요약의 최대 길이 : 16\n",
      "요약의 평균 길이 : 9.29956283041887\n"
     ]
    },
    {
     "data": {
      "image/png": "[encoded data removed]",
      "text/plain": [
       "<Figure size 432x288 with 2 Axes>"
      ]
     },
     "metadata": {
      "needs_background": "light"
     },
     "output_type": "display_data"
    },
    {
     "data": {
      "image/png": "[encoded data removed]",
      "text/plain": [
       "<Figure size 432x288 with 1 Axes>"
      ]
     },
     "metadata": {
      "needs_background": "light"
     },
     "output_type": "display_data"
    },
    {
     "data": {
      "image/png": "[encoded data removed]",
      "text/plain": [
       "<Figure size 432x288 with 1 Axes>"
      ]
     },
     "metadata": {
      "needs_background": "light"
     },
     "output_type": "display_data"
    }
   ],
   "source": [
    "text_len = [len(s.split()) for s in data['text']]\n",
    "headline_len = [len(s.split()) for s in data['headlines']]\n",
    "\n",
    "print('텍스트의 최소 길이 : {}'.format(np.min(text_len)))\n",
    "print('텍스트의 최대 길이 : {}'.format(np.max(text_len)))\n",
    "print('텍스트의 평균 길이 : {}'.format(np.mean(text_len)))\n",
    "print('요약의 최소 길이 : {}'.format(np.min(headline_len)))\n",
    "print('요약의 최대 길이 : {}'.format(np.max(headline_len)))\n",
    "print('요약의 평균 길이 : {}'.format(np.mean(headline_len)))\n",
    "\n",
    "plt.subplot(1,2,1)\n",
    "plt.boxplot(headline_len)\n",
    "plt.title('headline')\n",
    "plt.subplot(1,2,2)\n",
    "plt.boxplot(text_len)\n",
    "plt.title('text')\n",
    "plt.tight_layout()\n",
    "plt.show()\n",
    "\n",
    "plt.title('headline')\n",
    "plt.hist(headline_len, bins = 40)\n",
    "plt.xlabel('length of samples')\n",
    "plt.ylabel('number of samples')\n",
    "plt.show()\n",
    "\n",
    "plt.title('text')\n",
    "plt.hist(text_len, bins = 40)\n",
    "plt.xlabel('length of samples')\n",
    "plt.ylabel('number of samples')\n",
    "plt.show()"
   ]
  },
  {
   "cell_type": "markdown",
   "id": "d076c99a",
   "metadata": {},
   "source": [
    "### <span style=\"background-color:#fff5b1\"> 샘플 최대 길이 설정(변수 설정) </span> "
   ]
  },
  {
   "cell_type": "code",
   "execution_count": 21,
   "id": "abf9d52f",
   "metadata": {},
   "outputs": [],
   "source": [
    "# 평균보다 조금 크고 최대보다 작은 값으로 설정\n",
    "text_max_len = 37\n",
    "headline_max_len = 10"
   ]
  },
  {
   "cell_type": "code",
   "execution_count": 22,
   "id": "07eb72de",
   "metadata": {},
   "outputs": [],
   "source": [
    "def below_threshold_len(max_len, nested_list):\n",
    "    cnt = 0\n",
    "    for s in nested_list:\n",
    "        if (len(s.split()) <= max_len):\n",
    "            cnt = cnt + 1\n",
    "    print('>>> 전체 샘플 중 길이가 %s 이하인 샘플의 비율: %s'%(max_len, (cnt / len(nested_list))))"
   ]
  },
  {
   "cell_type": "code",
   "execution_count": 23,
   "id": "30ce047d",
   "metadata": {},
   "outputs": [
    {
     "name": "stdout",
     "output_type": "stream",
     "text": [
      ">>> 전체 샘플 중 길이가 37 이하인 샘플의 비율: 0.7381049206994713\n",
      ">>> 전체 샘플 중 길이가 10 이하인 샘플의 비율: 0.8162972753151687\n"
     ]
    }
   ],
   "source": [
    "below_threshold_len(text_max_len, data['text'])\n",
    "below_threshold_len(headline_max_len,  data['headlines'])"
   ]
  },
  {
   "cell_type": "markdown",
   "id": "1ccacac1",
   "metadata": {},
   "source": [
    "### <span style=\"background-color:#fff5b1\"> 최대 길이보다 작은 값으로 데이터 수정 </span> "
   ]
  },
  {
   "cell_type": "code",
   "execution_count": 24,
   "id": "04bd21a3",
   "metadata": {},
   "outputs": [],
   "source": [
    "def below_maxlen_data(data, max_len: int, col: str):\n",
    "    '''\n",
    "    maxlen 보다 짧은 단어를 골라내는 함수\n",
    "    \n",
    "    Args:\n",
    "        data: 데이터 프레임을 받음\n",
    "        max_len: 최대 길이를 받음\n",
    "        col: 데이터 프레임의 컬럼명을 받음\n",
    "    '''\n",
    "    print(f'>>> {col}의 처리 전 갯수: ', len(data[col]))\n",
    "    data = data[data[col].apply(lambda x: len(x.split()) <= max_len)]\n",
    "    print(f'<<< {col}의 처리 후 갯수: ', len(data[col]))\n",
    "    \n",
    "    return data"
   ]
  },
  {
   "cell_type": "code",
   "execution_count": 25,
   "id": "9b3e6c4e",
   "metadata": {},
   "outputs": [
    {
     "name": "stdout",
     "output_type": "stream",
     "text": [
      ">>> text의 처리 전 갯수:  98360\n",
      "<<< text의 처리 후 갯수:  72600\n"
     ]
    }
   ],
   "source": [
    "# text값 최대 길이로 처리\n",
    "data = below_maxlen_data(data, text_max_len, 'text')"
   ]
  },
  {
   "cell_type": "code",
   "execution_count": 26,
   "id": "917fd13a",
   "metadata": {},
   "outputs": [
    {
     "name": "stdout",
     "output_type": "stream",
     "text": [
      ">>> headlines의 처리 전 갯수:  72600\n",
      "<<< headlines의 처리 후 갯수:  58935\n"
     ]
    }
   ],
   "source": [
    "# headlines값 최대 길이로 처리\n",
    "data = below_maxlen_data(data, headline_max_len, 'headlines')"
   ]
  },
  {
   "cell_type": "code",
   "execution_count": 27,
   "id": "3c1fff63",
   "metadata": {},
   "outputs": [
    {
     "name": "stdout",
     "output_type": "stream",
     "text": [
      ">>> 전체 샘플수 : 58935\n"
     ]
    }
   ],
   "source": [
    "print('>>> 전체 샘플수 :',(len(data)))"
   ]
  },
  {
   "cell_type": "markdown",
   "id": "8695a227",
   "metadata": {},
   "source": [
    "### <span style=\"background-color:#fff5b1\"> 시작 & 종료 토큰 추가하기 </span> "
   ]
  },
  {
   "cell_type": "code",
   "execution_count": 28,
   "id": "5340ecda",
   "metadata": {},
   "outputs": [
    {
     "data": {
      "text/html": [
       "<div>\n",
       "<style scoped>\n",
       "    .dataframe tbody tr th:only-of-type {\n",
       "        vertical-align: middle;\n",
       "    }\n",
       "\n",
       "    .dataframe tbody tr th {\n",
       "        vertical-align: top;\n",
       "    }\n",
       "\n",
       "    .dataframe thead th {\n",
       "        text-align: right;\n",
       "    }\n",
       "</style>\n",
       "<table border=\"1\" class=\"dataframe\">\n",
       "  <thead>\n",
       "    <tr style=\"text-align: right;\">\n",
       "      <th></th>\n",
       "      <th>headlines</th>\n",
       "      <th>text</th>\n",
       "      <th>decoder_input</th>\n",
       "      <th>decoder_target</th>\n",
       "    </tr>\n",
       "  </thead>\n",
       "  <tbody>\n",
       "    <tr>\n",
       "      <th>3</th>\n",
       "      <td>aegon life iterm insurance plan helps customer...</td>\n",
       "      <td>aegon life iterm insurance plan customers enjo...</td>\n",
       "      <td>sostoken aegon life iterm insurance plan helps...</td>\n",
       "      <td>aegon life iterm insurance plan helps customer...</td>\n",
       "    </tr>\n",
       "    <tr>\n",
       "      <th>5</th>\n",
       "      <td>rahat fateh ali khan denies getting notice for...</td>\n",
       "      <td>pakistani singer rahat fateh ali khan denied r...</td>\n",
       "      <td>sostoken rahat fateh ali khan denies getting n...</td>\n",
       "      <td>rahat fateh ali khan denies getting notice for...</td>\n",
       "    </tr>\n",
       "    <tr>\n",
       "      <th>9</th>\n",
       "      <td>cong wins ramgarh bypoll in rajasthan takes to...</td>\n",
       "      <td>congress candidate shafia zubair ramgarh assem...</td>\n",
       "      <td>sostoken cong wins ramgarh bypoll in rajasthan...</td>\n",
       "      <td>cong wins ramgarh bypoll in rajasthan takes to...</td>\n",
       "    </tr>\n",
       "    <tr>\n",
       "      <th>10</th>\n",
       "      <td>up cousins fed human excreta for friendship wi...</td>\n",
       "      <td>two minor cousins uttar pradesh gorakhpur alle...</td>\n",
       "      <td>sostoken up cousins fed human excreta for frie...</td>\n",
       "      <td>up cousins fed human excreta for friendship wi...</td>\n",
       "    </tr>\n",
       "    <tr>\n",
       "      <th>16</th>\n",
       "      <td>karan johar tabu turn showstoppers on opening ...</td>\n",
       "      <td>filmmaker karan johar actress tabu turned show...</td>\n",
       "      <td>sostoken karan johar tabu turn showstoppers on...</td>\n",
       "      <td>karan johar tabu turn showstoppers on opening ...</td>\n",
       "    </tr>\n",
       "  </tbody>\n",
       "</table>\n",
       "</div>"
      ],
      "text/plain": [
       "                                            headlines  \\\n",
       "3   aegon life iterm insurance plan helps customer...   \n",
       "5   rahat fateh ali khan denies getting notice for...   \n",
       "9   cong wins ramgarh bypoll in rajasthan takes to...   \n",
       "10  up cousins fed human excreta for friendship wi...   \n",
       "16  karan johar tabu turn showstoppers on opening ...   \n",
       "\n",
       "                                                 text  \\\n",
       "3   aegon life iterm insurance plan customers enjo...   \n",
       "5   pakistani singer rahat fateh ali khan denied r...   \n",
       "9   congress candidate shafia zubair ramgarh assem...   \n",
       "10  two minor cousins uttar pradesh gorakhpur alle...   \n",
       "16  filmmaker karan johar actress tabu turned show...   \n",
       "\n",
       "                                        decoder_input  \\\n",
       "3   sostoken aegon life iterm insurance plan helps...   \n",
       "5   sostoken rahat fateh ali khan denies getting n...   \n",
       "9   sostoken cong wins ramgarh bypoll in rajasthan...   \n",
       "10  sostoken up cousins fed human excreta for frie...   \n",
       "16  sostoken karan johar tabu turn showstoppers on...   \n",
       "\n",
       "                                       decoder_target  \n",
       "3   aegon life iterm insurance plan helps customer...  \n",
       "5   rahat fateh ali khan denies getting notice for...  \n",
       "9   cong wins ramgarh bypoll in rajasthan takes to...  \n",
       "10  up cousins fed human excreta for friendship wi...  \n",
       "16  karan johar tabu turn showstoppers on opening ...  "
      ]
     },
     "execution_count": 28,
     "metadata": {},
     "output_type": "execute_result"
    }
   ],
   "source": [
    "# 요약 데이터에는 시작 토큰과 종료 토큰을 추가.\n",
    "\n",
    "data['decoder_input'] = data['headlines'].apply(lambda x : 'sostoken '+ x)\n",
    "data['decoder_target'] = data['headlines'].apply(lambda x : x + ' eostoken')\n",
    "data.head()"
   ]
  },
  {
   "cell_type": "markdown",
   "id": "c811ac61",
   "metadata": {},
   "source": [
    "### <span style=\"background-color:#fff5b1\"> 훈련, 테스트 데이터 나누기 </span> "
   ]
  },
  {
   "cell_type": "code",
   "execution_count": 29,
   "id": "e052cf60",
   "metadata": {},
   "outputs": [],
   "source": [
    "# 인코더의 입력, 디코더의 입력과 레이블을 각각 다시 Numpy 타입으로 저장\n",
    "\n",
    "encoder_input = np.array(data['text']) # 인코더의 입력\n",
    "decoder_input = np.array(data['decoder_input']) # 디코더의 입력\n",
    "decoder_target = np.array(data['decoder_target']) # 디코더의 레이블"
   ]
  },
  {
   "cell_type": "code",
   "execution_count": 30,
   "id": "4e769fa0",
   "metadata": {},
   "outputs": [
    {
     "name": "stdout",
     "output_type": "stream",
     "text": [
      "[57773  2578 32185 ... 15091  9682  3110]\n"
     ]
    }
   ],
   "source": [
    "# 훈련 데이터 테스트 데이터 분리\n",
    "\n",
    "indices = np.arange(encoder_input.shape[0])  # encoder_input과 크기와 형태가 같은 정수 시퀀스 생성\n",
    "np.random.shuffle(indices)                   # 순서를 랜덤하게 섞어줍니다\n",
    "print(indices) # 랜덤한 정수 시퀀스 생성!"
   ]
  },
  {
   "cell_type": "code",
   "execution_count": 31,
   "id": "2e770f99",
   "metadata": {},
   "outputs": [],
   "source": [
    "# 샘플 순서를 랜덤 시퀀스를 이용해서 정의해줌\n",
    "\n",
    "encoder_input = encoder_input[indices]\n",
    "decoder_input = decoder_input[indices]\n",
    "decoder_target = decoder_target[indices]"
   ]
  },
  {
   "cell_type": "code",
   "execution_count": 32,
   "id": "a0efd9a9",
   "metadata": {},
   "outputs": [
    {
     "name": "stdout",
     "output_type": "stream",
     "text": [
      ">>> 테스트 데이터의 수 : 11787\n"
     ]
    }
   ],
   "source": [
    "# 8:2로 훈련셋 테스트셋 분리\n",
    "\n",
    "n_of_val = int(len(encoder_input)*0.2)\n",
    "print('>>> 테스트 데이터의 수 :', n_of_val)"
   ]
  },
  {
   "cell_type": "code",
   "execution_count": 33,
   "id": "5bbaf672",
   "metadata": {},
   "outputs": [
    {
     "name": "stdout",
     "output_type": "stream",
     "text": [
      ">>> 훈련 데이터의 개수 :  47148\n",
      ">>> 훈련 레이블의 개수 :  47148\n",
      ">>> 테스트 데이터의 개수 :  11787\n",
      ">>> 테스트 데이터의 개수 :  11787\n"
     ]
    }
   ],
   "source": [
    "# 테스트 데이터의 갯수를 이용해 전체 데이터를 양분해줌\n",
    "\n",
    "encoder_input_train = encoder_input[:-n_of_val] # 뒤로 n_of_val개 빼고 나머지\n",
    "decoder_input_train = decoder_input[:-n_of_val] \n",
    "decoder_target_train = decoder_target[:-n_of_val]\n",
    "\n",
    "encoder_input_test = encoder_input[-n_of_val:] # 앞에 n_of_val개 빼고 나머지\n",
    "decoder_input_test = decoder_input[-n_of_val:]\n",
    "decoder_target_test = decoder_target[-n_of_val:]\n",
    "\n",
    "print('>>> 훈련 데이터의 개수 : ', len(encoder_input_train))\n",
    "print('>>> 훈련 레이블의 개수 : ', len(decoder_input_train))\n",
    "print('>>> 테스트 데이터의 개수 : ', len(encoder_input_test))\n",
    "print('>>> 테스트 데이터의 개수 : ', len(decoder_input_test))"
   ]
  },
  {
   "cell_type": "code",
   "execution_count": 34,
   "id": "0cb85975",
   "metadata": {},
   "outputs": [],
   "source": [
    "def tokenizer_info(tokenizer, threshold = 1, rare_count = 0, total_freq = 0, rare_freq = 0):\n",
    "    '''\n",
    "    tokenizer의 정보를 출력해주는 함수\n",
    "    \n",
    "    Args:\n",
    "        threshold: 한계점\n",
    "        rare_count: 등장 빈도수가 threshold보다 작은 단어의 개수를 count\n",
    "        total_freq: 훈련 데이터의 전체 단어 빈도수 총 합\n",
    "        rare_freq: 등장 빈도수가 threshold보다 작은 단어의 등장 빈도수 총 합\n",
    "    '''\n",
    "\n",
    "    total_count = len(tokenizer.word_index)      # 단어의 수\n",
    "\n",
    "\n",
    "    # 단어와 빈도수의 쌍(pair)을 key와 value로 받음.\n",
    "    for key, value in tokenizer.word_counts.items():\n",
    "        total_freq = total_freq + value\n",
    "\n",
    "        # 단어의 등장 빈도수가 threshold보다 작으면\n",
    "        if (value < threshold) :\n",
    "            rare_count = rare_count + 1\n",
    "            rare_freq = rare_freq + value\n",
    "\n",
    "    print('>>> 단어 집합의 크기 : ', total_count)\n",
    "    print('>>> 등장 빈도가 %s번 이하인 희귀 단어의 수: %s'%(threshold - 1, rare_count))\n",
    "    print('>>> 단어 집합에서 희귀 단어를 제외시킬 경우의 단어 집합의 크기: %s'%(total_count - rare_count))\n",
    "    print(\">>> 단어 집합에서 희귀 단어의 비율:\", (rare_count / total_count)*100)\n",
    "    print(\">>> 전체 등장 빈도에서 희귀 단어 등장 빈도 비율:\", (rare_freq / total_freq)*100)"
   ]
  },
  {
   "cell_type": "markdown",
   "id": "b767f64e",
   "metadata": {},
   "source": [
    "### <span style=\"background-color:#fff5b1\"> text 데이터 토크나이저 생성 후 확인 </span> "
   ]
  },
  {
   "cell_type": "code",
   "execution_count": 35,
   "id": "a8bece8e",
   "metadata": {},
   "outputs": [],
   "source": [
    "src_tokenizer = Tokenizer()    # 토크나이저 생성 - 입력된 훈련 데이터로부터 단어집합 생성 가능하게 해줌\n",
    "src_tokenizer.fit_on_texts(encoder_input_train)       # 입력된 데이터로부터 단어 집합 생성"
   ]
  },
  {
   "cell_type": "code",
   "execution_count": 36,
   "id": "099f464d",
   "metadata": {},
   "outputs": [
    {
     "name": "stdout",
     "output_type": "stream",
     "text": [
      ">>> 단어 집합의 크기 :  54176\n",
      ">>> 등장 빈도가 7번 이하인 희귀 단어의 수: 38639\n",
      ">>> 단어 집합에서 희귀 단어를 제외시킬 경우의 단어 집합의 크기: 15537\n",
      ">>> 단어 집합에서 희귀 단어의 비율: 71.32124926166568\n",
      ">>> 전체 등장 빈도에서 희귀 단어 등장 빈도 비율: 5.383552877517789\n"
     ]
    }
   ],
   "source": [
    "tokenizer_info(src_tokenizer, 8)"
   ]
  },
  {
   "cell_type": "code",
   "execution_count": 37,
   "id": "feb6e214",
   "metadata": {},
   "outputs": [],
   "source": [
    "src_vocab = 17600 # 회귀 단어를 제외시킬 경우 집합의 크기가 17741\n",
    "src_tokenizer = Tokenizer(num_words = src_vocab) # 단어 집합의 크기를 17,600으로 제한\n",
    "src_tokenizer.fit_on_texts(encoder_input_train) # 단어 집합 재생성."
   ]
  },
  {
   "cell_type": "code",
   "execution_count": 38,
   "id": "77427016",
   "metadata": {},
   "outputs": [
    {
     "name": "stdout",
     "output_type": "stream",
     "text": [
      "1: [1533, 1070, 637, 3759, 6976, 206, 1404, 441, 142, 4, 131, 39, 271, 344, 69, 113, 1724, 97, 310, 4306, 1724, 51, 637, 1, 6976, 744, 777, 300, 80, 2188]\n",
      "2: [12, 532, 71, 507, 710, 371, 275, 465, 1964, 3181, 78, 3443, 885, 196, 3443, 16744, 12950, 199, 507, 1964, 1514, 104, 711, 288, 97, 384, 198, 492, 37, 126, 1369, 188, 3443, 62, 473, 2813]\n",
      "3: [25, 94, 1336, 523, 16745, 769, 4231, 6557, 1160, 68, 201, 404, 35, 60, 990, 1023, 237, 276, 404, 37, 6, 34, 12951, 356, 7631, 238, 2479, 1385, 1160, 1996, 1231, 598, 523]\n",
      "\n"
     ]
    }
   ],
   "source": [
    "# 텍스트 시퀀스를 정수 시퀀스로 변환\n",
    "encoder_input_train = src_tokenizer.texts_to_sequences(encoder_input_train)\n",
    "encoder_input_test = src_tokenizer.texts_to_sequences(encoder_input_test)\n",
    "\n",
    "# 잘 진행되었는지 샘플 출력\n",
    "LogTool.list_to_line(encoder_input_train[:3])"
   ]
  },
  {
   "cell_type": "markdown",
   "id": "98ed4ad4",
   "metadata": {},
   "source": [
    "### <span style=\"background-color:#fff5b1\"> Headline 데이터 토크나이저 생성 후 확인 </span> "
   ]
  },
  {
   "cell_type": "code",
   "execution_count": 39,
   "id": "73bacf30",
   "metadata": {},
   "outputs": [],
   "source": [
    "# headlines 에도 동일한 작업해주기\n",
    "tar_tokenizer = Tokenizer()\n",
    "tar_tokenizer.fit_on_texts(decoder_input_train)"
   ]
  },
  {
   "cell_type": "code",
   "execution_count": 40,
   "id": "4e7d323c",
   "metadata": {},
   "outputs": [
    {
     "name": "stdout",
     "output_type": "stream",
     "text": [
      ">>> 단어 집합의 크기 :  24784\n",
      ">>> 등장 빈도가 6번 이하인 희귀 단어의 수: 17696\n",
      ">>> 단어 집합에서 희귀 단어를 제외시킬 경우의 단어 집합의 크기: 7088\n",
      ">>> 단어 집합에서 희귀 단어의 비율: 71.40090380890898\n",
      ">>> 전체 등장 빈도에서 희귀 단어 등장 빈도 비율: 7.987488721285148\n"
     ]
    }
   ],
   "source": [
    "tokenizer_info(tar_tokenizer, 7)"
   ]
  },
  {
   "cell_type": "code",
   "execution_count": 41,
   "id": "0c2515ba",
   "metadata": {},
   "outputs": [],
   "source": [
    "tar_vocab = 8100\n",
    "tar_tokenizer = Tokenizer(num_words=tar_vocab) \n",
    "tar_tokenizer.fit_on_texts(decoder_input_train)\n",
    "tar_tokenizer.fit_on_texts(decoder_target_train)"
   ]
  },
  {
   "cell_type": "code",
   "execution_count": 42,
   "id": "73899fcc",
   "metadata": {},
   "outputs": [
    {
     "name": "stdout",
     "output_type": "stream",
     "text": [
      "input \n",
      "1: [1, 14, 3977, 32, 1342, 14, 3, 2584, 3, 316, 5193]\n",
      "2: [1, 193, 1343, 1071, 226, 3321, 4, 46, 59, 589, 58]\n",
      "3: [1, 1620, 167, 666, 78, 4, 413, 161]\n",
      "4: [1, 377, 472, 22, 949, 1508, 203, 3, 684]\n",
      "5: [1, 119, 14, 2686, 2786, 293, 2121, 3461, 7090, 601, 5561]\n",
      "\n",
      "target \n",
      "1: [14, 3977, 32, 1342, 14, 3, 2584, 3, 316, 5193, 2]\n",
      "2: [193, 1343, 1071, 226, 3321, 4, 46, 59, 589, 58, 2]\n",
      "3: [1620, 167, 666, 78, 4, 413, 161, 2]\n",
      "4: [377, 472, 22, 949, 1508, 203, 3, 684, 2]\n",
      "5: [119, 14, 2686, 2786, 293, 2121, 3461, 7090, 601, 5561, 2]\n",
      "\n"
     ]
    }
   ],
   "source": [
    "decoder_input_train = tar_tokenizer.texts_to_sequences(decoder_input_train) \n",
    "decoder_target_train = tar_tokenizer.texts_to_sequences(decoder_target_train)\n",
    "decoder_input_test = tar_tokenizer.texts_to_sequences(decoder_input_test)\n",
    "decoder_target_test = tar_tokenizer.texts_to_sequences(decoder_target_test)\n",
    "\n",
    "# 잘 변환되었는지 확인\n",
    "print('input ',)\n",
    "LogTool.list_to_line(decoder_input_train[:5])\n",
    "print('target ',)\n",
    "LogTool.list_to_line(decoder_target_train[:5])"
   ]
  },
  {
   "cell_type": "markdown",
   "id": "33116759",
   "metadata": {},
   "source": [
    "### <span style=\"background-color:#fff5b1\"> 삭제할 데이터 & 데이터 개수 확인 </span> "
   ]
  },
  {
   "cell_type": "code",
   "execution_count": 43,
   "id": "b19a82d3",
   "metadata": {},
   "outputs": [
    {
     "name": "stdout",
     "output_type": "stream",
     "text": [
      ">>> 삭제할 훈련 데이터의 개수 : 1\n",
      ">>> 삭제할 테스트 데이터의 개수 : 0\n",
      ">>> 훈련 데이터의 개수 : 47147\n",
      ">>> 훈련 레이블의 개수 : 47147\n",
      ">>> 테스트 데이터의 개수 : 11787\n",
      ">>> 테스트 레이블의 개수 : 11787\n"
     ]
    }
   ],
   "source": [
    "# headline의 길이가 1인 경우(실제로는 길이가 0)의 인덱스를 저장해보자\n",
    "drop_train = [index for index, sentence in enumerate(decoder_input_train) if len(sentence) == 1]\n",
    "drop_test = [index for index, sentence in enumerate(decoder_input_test) if len(sentence) == 1]\n",
    "\n",
    "print('>>> 삭제할 훈련 데이터의 개수 :',len(drop_train))\n",
    "print('>>> 삭제할 테스트 데이터의 개수 :',len(drop_test))\n",
    "\n",
    "encoder_input_train = np.delete(encoder_input_train, drop_train, axis=0)\n",
    "decoder_input_train = np.delete(decoder_input_train, drop_train, axis=0)\n",
    "decoder_target_train = np.delete(decoder_target_train, drop_train, axis=0)\n",
    "\n",
    "encoder_input_test = np.delete(encoder_input_test, drop_test, axis=0)\n",
    "decoder_input_test = np.delete(decoder_input_test, drop_test, axis=0)\n",
    "decoder_target_test = np.delete(decoder_target_test, drop_test, axis=0)\n",
    "\n",
    "print('>>> 훈련 데이터의 개수 :', len(encoder_input_train))\n",
    "print('>>> 훈련 레이블의 개수 :',len(decoder_input_train))\n",
    "print('>>> 테스트 데이터의 개수 :',len(encoder_input_test))\n",
    "print('>>> 테스트 레이블의 개수 :',len(decoder_input_test))"
   ]
  },
  {
   "cell_type": "markdown",
   "id": "4f5f15e8",
   "metadata": {},
   "source": [
    "### <span style=\"background-color:#fff5b1\"> 패딩 작업 </span> "
   ]
  },
  {
   "cell_type": "code",
   "execution_count": 44,
   "id": "0bd2f0b8",
   "metadata": {},
   "outputs": [],
   "source": [
    "# post padding. 뒤의 공간에 숫자 0을 넣어준다\n",
    "# 아까 지정해주었던 최대 길이로 패딩.\n",
    "encoder_input_train = pad_sequences(encoder_input_train, maxlen = text_max_len, padding='post')\n",
    "encoder_input_test = pad_sequences(encoder_input_test, maxlen = text_max_len, padding='post')\n",
    "decoder_input_train = pad_sequences(decoder_input_train, maxlen = headline_max_len, padding='post')\n",
    "decoder_target_train = pad_sequences(decoder_target_train, maxlen = headline_max_len, padding='post')\n",
    "decoder_input_test = pad_sequences(decoder_input_test, maxlen = headline_max_len, padding='post')\n",
    "decoder_target_test = pad_sequences(decoder_target_test, maxlen = headline_max_len, padding='post')"
   ]
  },
  {
   "cell_type": "markdown",
   "id": "9098fdab",
   "metadata": {},
   "source": [
    "<br/>\n",
    "\n",
    "---\n",
    "\n",
    "<br/>"
   ]
  },
  {
   "cell_type": "markdown",
   "id": "41971a4a",
   "metadata": {},
   "source": [
    "# <span style=\"background-color:#E6E6FA\"> 3. 어텐션 메커니즘 사용하기 (추상적 요약) </span>"
   ]
  },
  {
   "cell_type": "markdown",
   "id": "ddac66e4",
   "metadata": {},
   "source": [
    "### <span style=\"background-color:#fff5b1\"> 모델 설계 </span> "
   ]
  },
  {
   "cell_type": "code",
   "execution_count": 45,
   "id": "87fdd55c",
   "metadata": {},
   "outputs": [],
   "source": [
    "from tensorflow.keras.layers import Input, LSTM, Embedding, Dense, Concatenate, TimeDistributed\n",
    "from tensorflow.keras.models import Model\n",
    "from tensorflow.keras.callbacks import EarlyStopping, ModelCheckpoint\n",
    "\n",
    "\n",
    "# 인코더 설계 시작\n",
    "embedding_dim = 128\n",
    "hidden_size = 256\n",
    "\n",
    "# 인코더\n",
    "encoder_inputs = Input(shape=(text_max_len,))\n",
    "\n",
    "# 인코더의 임베딩 층\n",
    "enc_emb = Embedding(src_vocab, embedding_dim)(encoder_inputs)\n",
    "\n",
    "# 인코더의 LSTM 1\n",
    "encoder_lstm1 = LSTM(hidden_size, return_sequences=True, return_state=True ,dropout = 0.4)\n",
    "encoder_output1, state_h1, state_c1 = encoder_lstm1(enc_emb)\n",
    "\n",
    "# 인코더의 LSTM 2\n",
    "encoder_lstm2 = LSTM(hidden_size, return_sequences=True, return_state=True ,dropout = 0.4)\n",
    "encoder_output2, state_h2, state_c2 = encoder_lstm2(encoder_output1)\n",
    "\n",
    "# 인코더의 LSTM 3\n",
    "encoder_lstm3 = LSTM(hidden_size, return_sequences=True, return_state=True ,dropout = 0.4)\n",
    "encoder_outputs, state_h, state_c = encoder_lstm3(encoder_output2)"
   ]
  },
  {
   "cell_type": "markdown",
   "id": "93ad5d60",
   "metadata": {},
   "source": [
    "### <span style=\"background-color:#fff5b1\"> Decoder 설계 </span> "
   ]
  },
  {
   "cell_type": "code",
   "execution_count": 46,
   "id": "5213ddd7",
   "metadata": {},
   "outputs": [
    {
     "name": "stdout",
     "output_type": "stream",
     "text": [
      "WARNING:tensorflow:Layer lstm_3 will not use cuDNN kernels since it doesn't meet the criteria. It will use a generic GPU kernel as fallback when running on GPU.\n"
     ]
    }
   ],
   "source": [
    "# 디코더 설계\n",
    "\n",
    "decoder_inputs = Input(shape=(None,))\n",
    "\n",
    "# 디코더의 임베딩 층\n",
    "dec_emb_layer = Embedding(tar_vocab, embedding_dim)\n",
    "dec_emb = dec_emb_layer(decoder_inputs)\n",
    "\n",
    "# 디코더의 LSTM\n",
    "decoder_lstm = LSTM(hidden_size, return_sequences = True, return_state = True, dropout = 0.4, recurrent_dropout=0.2)\n",
    "decoder_outputs, _, _ = decoder_lstm(dec_emb, initial_state = [state_h, state_c])"
   ]
  },
  {
   "cell_type": "code",
   "execution_count": 47,
   "id": "a1992fb3",
   "metadata": {},
   "outputs": [
    {
     "name": "stdout",
     "output_type": "stream",
     "text": [
      "Model: \"model\"\n",
      "__________________________________________________________________________________________________\n",
      "Layer (type)                    Output Shape         Param #     Connected to                     \n",
      "==================================================================================================\n",
      "input_1 (InputLayer)            [(None, 37)]         0                                            \n",
      "__________________________________________________________________________________________________\n",
      "embedding (Embedding)           (None, 37, 128)      2252800     input_1[0][0]                    \n",
      "__________________________________________________________________________________________________\n",
      "lstm (LSTM)                     [(None, 37, 256), (N 394240      embedding[0][0]                  \n",
      "__________________________________________________________________________________________________\n",
      "input_2 (InputLayer)            [(None, None)]       0                                            \n",
      "__________________________________________________________________________________________________\n",
      "lstm_1 (LSTM)                   [(None, 37, 256), (N 525312      lstm[0][0]                       \n",
      "__________________________________________________________________________________________________\n",
      "embedding_1 (Embedding)         (None, None, 128)    1036800     input_2[0][0]                    \n",
      "__________________________________________________________________________________________________\n",
      "lstm_2 (LSTM)                   [(None, 37, 256), (N 525312      lstm_1[0][0]                     \n",
      "__________________________________________________________________________________________________\n",
      "lstm_3 (LSTM)                   [(None, None, 256),  394240      embedding_1[0][0]                \n",
      "                                                                 lstm_2[0][1]                     \n",
      "                                                                 lstm_2[0][2]                     \n",
      "__________________________________________________________________________________________________\n",
      "dense (Dense)                   (None, None, 8100)   2081700     lstm_3[0][0]                     \n",
      "==================================================================================================\n",
      "Total params: 7,210,404\n",
      "Trainable params: 7,210,404\n",
      "Non-trainable params: 0\n",
      "__________________________________________________________________________________________________\n"
     ]
    }
   ],
   "source": [
    "# 디코더의 출력층\n",
    "decoder_softmax_layer = Dense(tar_vocab, activation = 'softmax')\n",
    "decoder_softmax_outputs = decoder_softmax_layer(decoder_outputs) \n",
    "\n",
    "# 모델 정의\n",
    "model = Model([encoder_inputs, decoder_inputs], decoder_softmax_outputs)\n",
    "model.summary()\n"
   ]
  },
  {
   "cell_type": "markdown",
   "id": "d93a7891",
   "metadata": {},
   "source": [
    "### <span style=\"background-color:#fff5b1\"> 어텐션 메커니즘 적용 </span> "
   ]
  },
  {
   "cell_type": "code",
   "execution_count": 48,
   "id": "eed26fae",
   "metadata": {},
   "outputs": [
    {
     "name": "stdout",
     "output_type": "stream",
     "text": [
      "Model: \"model_1\"\n",
      "__________________________________________________________________________________________________\n",
      "Layer (type)                    Output Shape         Param #     Connected to                     \n",
      "==================================================================================================\n",
      "input_1 (InputLayer)            [(None, 37)]         0                                            \n",
      "__________________________________________________________________________________________________\n",
      "embedding (Embedding)           (None, 37, 128)      2252800     input_1[0][0]                    \n",
      "__________________________________________________________________________________________________\n",
      "lstm (LSTM)                     [(None, 37, 256), (N 394240      embedding[0][0]                  \n",
      "__________________________________________________________________________________________________\n",
      "input_2 (InputLayer)            [(None, None)]       0                                            \n",
      "__________________________________________________________________________________________________\n",
      "lstm_1 (LSTM)                   [(None, 37, 256), (N 525312      lstm[0][0]                       \n",
      "__________________________________________________________________________________________________\n",
      "embedding_1 (Embedding)         (None, None, 128)    1036800     input_2[0][0]                    \n",
      "__________________________________________________________________________________________________\n",
      "lstm_2 (LSTM)                   [(None, 37, 256), (N 525312      lstm_1[0][0]                     \n",
      "__________________________________________________________________________________________________\n",
      "lstm_3 (LSTM)                   [(None, None, 256),  394240      embedding_1[0][0]                \n",
      "                                                                 lstm_2[0][1]                     \n",
      "                                                                 lstm_2[0][2]                     \n",
      "__________________________________________________________________________________________________\n",
      "attention_layer (AdditiveAttent (None, None, 256)    256         lstm_3[0][0]                     \n",
      "                                                                 lstm_2[0][0]                     \n",
      "__________________________________________________________________________________________________\n",
      "concat_layer (Concatenate)      (None, None, 512)    0           lstm_3[0][0]                     \n",
      "                                                                 attention_layer[0][0]            \n",
      "__________________________________________________________________________________________________\n",
      "dense_1 (Dense)                 (None, None, 8100)   4155300     concat_layer[0][0]               \n",
      "==================================================================================================\n",
      "Total params: 9,284,260\n",
      "Trainable params: 9,284,260\n",
      "Non-trainable params: 0\n",
      "__________________________________________________________________________________________________\n"
     ]
    }
   ],
   "source": [
    "from tensorflow.keras.layers import AdditiveAttention\n",
    "\n",
    "# 어텐션 층(어텐션 함수)\n",
    "attn_layer = AdditiveAttention(name='attention_layer')\n",
    "\n",
    "# 인코더와 디코더의 모든 time step의 hidden state를 어텐션 층에 전달하고 결과를 리턴\n",
    "attn_out = attn_layer([decoder_outputs, encoder_outputs])\n",
    "\n",
    "\n",
    "# 어텐션의 결과와 디코더의 hidden state들을 연결\n",
    "decoder_concat_input = Concatenate(axis=-1, name='concat_layer')([decoder_outputs, attn_out])\n",
    "\n",
    "# 디코더의 출력층\n",
    "decoder_softmax_layer = Dense(tar_vocab, activation='softmax')\n",
    "decoder_softmax_outputs = decoder_softmax_layer(decoder_concat_input)\n",
    "\n",
    "# 모델 정의\n",
    "model = Model([encoder_inputs, decoder_inputs], decoder_softmax_outputs)\n",
    "model.summary()"
   ]
  },
  {
   "cell_type": "markdown",
   "id": "3540c01f",
   "metadata": {},
   "source": [
    "### <span style=\"background-color:#fff5b1\"> 모델 학습 </span> "
   ]
  },
  {
   "cell_type": "code",
   "execution_count": 49,
   "id": "26ac40ac",
   "metadata": {},
   "outputs": [
    {
     "name": "stdout",
     "output_type": "stream",
     "text": [
      "Epoch 1/40\n",
      "185/185 [==============================] - 25s 95ms/step - loss: 6.2815 - val_loss: 5.8817\n",
      "Epoch 2/40\n",
      "185/185 [==============================] - 17s 89ms/step - loss: 5.7784 - val_loss: 5.5804\n",
      "Epoch 3/40\n",
      "185/185 [==============================] - 17s 91ms/step - loss: 5.4760 - val_loss: 5.3517\n",
      "Epoch 4/40\n",
      "185/185 [==============================] - 17s 91ms/step - loss: 5.2328 - val_loss: 5.1925\n",
      "Epoch 5/40\n",
      "185/185 [==============================] - 17s 93ms/step - loss: 5.0224 - val_loss: 5.0385\n",
      "Epoch 6/40\n",
      "185/185 [==============================] - 17s 94ms/step - loss: 4.8288 - val_loss: 4.8908\n",
      "Epoch 7/40\n",
      "185/185 [==============================] - 17s 94ms/step - loss: 4.6493 - val_loss: 4.8177\n",
      "Epoch 8/40\n",
      "185/185 [==============================] - 17s 93ms/step - loss: 4.4913 - val_loss: 4.7085\n",
      "Epoch 9/40\n",
      "185/185 [==============================] - 17s 93ms/step - loss: 4.3479 - val_loss: 4.6271\n",
      "Epoch 10/40\n",
      "185/185 [==============================] - 17s 93ms/step - loss: 4.2187 - val_loss: 4.5612\n",
      "Epoch 11/40\n",
      "185/185 [==============================] - 17s 93ms/step - loss: 4.0996 - val_loss: 4.5015\n",
      "Epoch 12/40\n",
      "185/185 [==============================] - 17s 93ms/step - loss: 3.9906 - val_loss: 4.4710\n",
      "Epoch 13/40\n",
      "185/185 [==============================] - 17s 93ms/step - loss: 3.8871 - val_loss: 4.4378\n",
      "Epoch 14/40\n",
      "185/185 [==============================] - 17s 93ms/step - loss: 3.7905 - val_loss: 4.4085\n",
      "Epoch 15/40\n",
      "185/185 [==============================] - 17s 93ms/step - loss: 3.7002 - val_loss: 4.3575\n",
      "Epoch 16/40\n",
      "185/185 [==============================] - 17s 93ms/step - loss: 3.6154 - val_loss: 4.3508\n",
      "Epoch 17/40\n",
      "185/185 [==============================] - 17s 93ms/step - loss: 3.5371 - val_loss: 4.3214\n",
      "Epoch 18/40\n",
      "185/185 [==============================] - 17s 93ms/step - loss: 3.4627 - val_loss: 4.3131\n",
      "Epoch 19/40\n",
      "185/185 [==============================] - 17s 93ms/step - loss: 3.3916 - val_loss: 4.3106\n",
      "Epoch 20/40\n",
      "185/185 [==============================] - 17s 93ms/step - loss: 3.3229 - val_loss: 4.3074\n",
      "Epoch 21/40\n",
      "185/185 [==============================] - 17s 93ms/step - loss: 3.2598 - val_loss: 4.3027\n",
      "Epoch 22/40\n",
      "185/185 [==============================] - 17s 93ms/step - loss: 3.2001 - val_loss: 4.3042\n",
      "Epoch 23/40\n",
      "185/185 [==============================] - 17s 93ms/step - loss: 3.1450 - val_loss: 4.3010\n",
      "Epoch 24/40\n",
      "185/185 [==============================] - 17s 93ms/step - loss: 3.0887 - val_loss: 4.3062\n",
      "Epoch 25/40\n",
      "185/185 [==============================] - 17s 93ms/step - loss: 3.0362 - val_loss: 4.2861\n",
      "Epoch 26/40\n",
      "185/185 [==============================] - 17s 93ms/step - loss: 2.9855 - val_loss: 4.3005\n",
      "Epoch 27/40\n",
      "185/185 [==============================] - 17s 93ms/step - loss: 2.9353 - val_loss: 4.3086\n",
      "Epoch 00027: early stopping\n"
     ]
    }
   ],
   "source": [
    "BATCH_SIZE = 256\n",
    "EPOCHS = 40\n",
    "\n",
    "model.compile(optimizer='rmsprop', loss='sparse_categorical_crossentropy')\n",
    "es = EarlyStopping(monitor='val_loss', patience=2, verbose=1)\n",
    "history = model.fit(x=[encoder_input_train, decoder_input_train], y=decoder_target_train, \\\n",
    "          validation_data=([encoder_input_test, decoder_input_test], decoder_target_test), \\\n",
    "          batch_size=BATCH_SIZE, callbacks=[es], epochs=EPOCHS)"
   ]
  },
  {
   "cell_type": "markdown",
   "id": "52f66573",
   "metadata": {},
   "source": [
    "### <span style=\"background-color:#fff5b1\"> 모델 학습 그래프 출력 </span> "
   ]
  },
  {
   "cell_type": "code",
   "execution_count": 50,
   "id": "529ff432",
   "metadata": {},
   "outputs": [
    {
     "data": {
      "image/png": "[encoded data removed]",
      "text/plain": [
       "<Figure size 432x288 with 1 Axes>"
      ]
     },
     "metadata": {
      "needs_background": "light"
     },
     "output_type": "display_data"
    }
   ],
   "source": [
    "# train, test loss \n",
    "plt.plot(history.history['loss'], label='train')\n",
    "plt.plot(history.history['val_loss'], label='test')\n",
    "plt.legend()\n",
    "plt.show()"
   ]
  },
  {
   "cell_type": "code",
   "execution_count": 51,
   "id": "12dc9f6b",
   "metadata": {},
   "outputs": [],
   "source": [
    "# 정수 인덱스로 되어있던 텍스트 데이터를 실제 데이터로 복원하기\n",
    "\n",
    "src_index_to_word = src_tokenizer.index_word    # 원문 단어 집합에서 정수 -> 단어를 얻음\n",
    "tar_word_to_index = tar_tokenizer.word_index    # 요약 단어 집합에서 단어 -> 정수를 얻음\n",
    "tar_index_to_word = tar_tokenizer.index_word    # 요약 던어 집합에서 정수 -> 단어를 얻음"
   ]
  },
  {
   "cell_type": "code",
   "execution_count": 52,
   "id": "0a6efc4e",
   "metadata": {},
   "outputs": [],
   "source": [
    "# 인퍼런스 단계에서는 인코더 모델과 디코더 모델 분리해서 설계\n",
    "\n",
    "# 인코더 설계\n",
    "encoder_model = Model(inputs=encoder_inputs, outputs=[encoder_outputs, state_h, state_c])\n",
    "\n",
    "# 이전 시점의 상태들을 저장하는 텐서\n",
    "decoder_state_input_h = Input(shape=(hidden_size,))\n",
    "decoder_state_input_c = Input(shape=(hidden_size,))\n",
    "\n",
    "dec_emb2 = dec_emb_layer(decoder_inputs)\n",
    "# 문장의 다음 단어를 예측하기 위해 초기 상태를 이전 시점 상태로 사용. 이는 뒤의 함수 decode_sequence()에 구현\n",
    "# 훈련과정과 달리 LSTM의 리턴하는 은닉 상태와 셀 상태인 state_h, state_c 를 버리지 않음\n",
    "decoder_outputs2, state_h2, state_c2 = decoder_lstm(dec_emb2, initial_state=[decoder_state_input_h, decoder_state_input_c])"
   ]
  },
  {
   "cell_type": "code",
   "execution_count": 53,
   "id": "a9b888c5",
   "metadata": {},
   "outputs": [],
   "source": [
    "# 어텐션 함수\n",
    "decoder_hidden_state_input = Input(shape=(text_max_len, hidden_size))\n",
    "attn_out_inf = attn_layer([decoder_outputs2, decoder_hidden_state_input])\n",
    "decoder_inf_concat = Concatenate(axis=-1, name='concat')([decoder_outputs2, attn_out_inf])\n",
    "\n",
    "# 디코더의 출력층\n",
    "decoder_outputs2 = decoder_softmax_layer(decoder_inf_concat) \n",
    "\n",
    "# 최종 디코더 모델\n",
    "decoder_model = Model(\n",
    "    [decoder_inputs] + [decoder_hidden_state_input,decoder_state_input_h, decoder_state_input_c],\n",
    "    [decoder_outputs2] + [state_h2, state_c2])"
   ]
  },
  {
   "cell_type": "markdown",
   "id": "d4872d7f",
   "metadata": {},
   "source": [
    "# <span style=\"background-color:#E6E6FA\"> 4-0. 요약문 출력하기 위한 함수 정리 (추상적 요약) </span>"
   ]
  },
  {
   "cell_type": "code",
   "execution_count": 72,
   "id": "2eb6e101",
   "metadata": {},
   "outputs": [],
   "source": [
    "def decode_sequence(input_seq):\n",
    "    # 입력으로부터 인코더의 상태를 얻음\n",
    "    e_out, e_h, e_c = encoder_model.predict(input_seq)\n",
    "\n",
    "     # <SOS>에 해당하는 토큰 생성\n",
    "    target_seq = np.zeros((1,1))\n",
    "    target_seq[0, 0] = tar_word_to_index['sostoken']\n",
    "\n",
    "    stop_condition = False\n",
    "    decoded_sentence = ''\n",
    "    while not stop_condition: # stop_condition이 True가 될 때까지 루프 반복\n",
    "\n",
    "        output_tokens, h, c = decoder_model.predict([target_seq] + [e_out, e_h, e_c])\n",
    "        sampled_token_index = np.argmax(output_tokens[0, -1, :])\n",
    "        sampled_token = tar_index_to_word[sampled_token_index]\n",
    "\n",
    "        if(sampled_token!='eostoken'):\n",
    "            decoded_sentence += ' '+sampled_token\n",
    "\n",
    "        #  <eos>에 도달하거나 최대 길이를 넘으면 중단.\n",
    "        if (sampled_token == 'eostoken'  or len(decoded_sentence.split()) >= (headline_max_len-1)):\n",
    "            stop_condition = True\n",
    "\n",
    "        # 길이가 1인 타겟 시퀀스를 업데이트\n",
    "        target_seq = np.zeros((1,1))\n",
    "        target_seq[0, 0] = sampled_token_index\n",
    "\n",
    "        # 상태를 업데이트 합니다.\n",
    "        e_h, e_c = h, c\n",
    "\n",
    "    return decoded_sentence\n",
    "\n",
    "# 원문의 정수 시퀀스를 텍스트 시퀀스로 변환\n",
    "def seq2text(input_seq):\n",
    "    temp=''\n",
    "    for i in input_seq:\n",
    "        if(i!=0):\n",
    "            temp = temp + src_index_to_word[i]+' '\n",
    "    return temp\n",
    "\n",
    "# 요약문의 정수 시퀀스를 텍스트 시퀀스로 변환\n",
    "def seq2summary(input_seq):\n",
    "    temp=''\n",
    "    for i in input_seq:\n",
    "        if((i!=0 and i!=tar_word_to_index['sostoken']) and i!=tar_word_to_index['eostoken']):\n",
    "            temp = temp + tar_index_to_word[i] + ' '\n",
    "    return temp\n",
    "\n",
    "def pred_headline(encoder_input_test, decoder_input_test, max_len = 38, strt_num = 50, end_num= 100):\n",
    "    '''\n",
    "    헤드라인을 요약해주는 함수\n",
    "    '''\n",
    "    \n",
    "    start_time = check_time()\n",
    "    \n",
    "    for i in range(strt_num, end_num):\n",
    "        \n",
    "        real_summary = seq2summary(decoder_input_test[i])\n",
    "        pred_summary = decode_sequence(encoder_input_test[i].reshape(1, max_len))\n",
    "        \n",
    "        print(\">>> 원문 :\", seq2text(encoder_input_test[i]))\n",
    "        print(\">>> 실제 요약 :\", real_summary)\n",
    "        print(\">>> 예측 요약 :\", pred_summary)\n",
    "        print(\">>> 실제와 예측에 포함되는 단어 :\", find_same_word(real_summary, pred_summary))\n",
    "        print(\"\\n\")\n",
    "        \n",
    "    end_time = check_time()\n",
    "    print(f\"{end_num-strt_num}개 추출에 걸리는 시간: {end_time - start_time:.5f} sec\")\n",
    "        \n",
    "def find_same_word(real_sentence, pred_sentence):\n",
    "    '''\n",
    "    두개의 문장을 비교해서 같은 단어가 있는지 찾는 함수\n",
    "    \n",
    "    Args:\n",
    "        real_sentence: 실제 요약\n",
    "        pred_sentence: 예측 요약\n",
    "    '''\n",
    "    pred_word_list = pred_sentence.split() # 예측한 문장을 단어로 분리해서 찾음\n",
    "    \n",
    "    find_word_list = set()\n",
    "    \n",
    "    for pred_word in pred_word_list:\n",
    "        if pred_word in real_sentence:\n",
    "            find_word_list.add(pred_word)\n",
    "            \n",
    "    return find_word_list if len(find_word_list) != 0 else '없음'\n",
    "\n",
    "\n",
    "def check_time():\n",
    "    return time.time()"
   ]
  },
  {
   "cell_type": "markdown",
   "id": "95d35cf8",
   "metadata": {},
   "source": [
    "# <span style=\"background-color:#E6E6FA\"> 4. 실제 결과와 요약문 비교하기 (추상적 요약) </span>"
   ]
  },
  {
   "cell_type": "code",
   "execution_count": 73,
   "id": "487060ce",
   "metadata": {},
   "outputs": [
    {
     "name": "stdout",
     "output_type": "stream",
     "text": [
      ">>> 원문 : mba student hanged hostel hyderabad video call boyfriend police said rushed hospital declared dead arrival police officials said recovered victim mobile phone investigating suicide \n",
      ">>> 실제 요약 : mba student hangs herself during video call with boyfriend \n",
      ">>> 예측 요약 :  girl jumps off self after she was hangs him\n",
      ">>> 실제와 예측에 포함되는 단어 : {'self', 'hangs'}\n",
      "\n",
      "\n",
      ">>> 원문 : rumour amazon start accepting bitcoin retail platform partially led value cryptocurrency bitcoin hit record high week according reports according analysts speculation china may reverse ban cryptocurrency exchanges also served reason friday bitcoin price reached time high \n",
      ">>> 실제 요약 : amazon rumour led to record high surge in bitcoin price \n",
      ">>> 예측 요약 :  amazon buys mn in billion startup\n",
      ">>> 실제와 예측에 포함되는 단어 : {'in', 'amazon'}\n",
      "\n",
      "\n",
      ">>> 원문 : year old woman killed allegedly husband laws mumbai body parts dumped different areas city victim priyanka went missing april husband registered missing person complaint police later recovered severed head forest near thane torso drain \n",
      ">>> 실제 요약 : woman killed body parts found in different areas of city \n",
      ">>> 예측 요약 :  woman kills husband after being given her her\n",
      ">>> 실제와 예측에 포함되는 단어 : {'woman'}\n",
      "\n",
      "\n",
      ">>> 원문 : ex bigg boss contestant sofia hayat announced separation husband wrote came disguised face angel tried rape added said interior designer designed lied debt wanted steal wanted everything \n",
      ">>> 실제 요약 : as on separation from husband \n",
      ">>> 예측 요약 :  bigg boss contestant contestant marries her girl\n",
      ">>> 실제와 예측에 포함되는 단어 : 없음\n",
      "\n",
      "\n",
      ">>> 원문 : mumbai based online ticketing platform bookmyshow acquired local restaurant discovery platform slump sale reported amount lakh network paid crore buy according network net worth one india oldest food tech businesses stood negative crore march \n",
      ">>> 실제 요약 : bookmyshow buys restaurant search engine for lakh \n",
      ">>> 예측 요약 :  mumbai startup buys crore in mumbai startup\n",
      ">>> 실제와 예측에 포함되는 단어 : {'in', 'buys'}\n",
      "\n",
      "\n",
      ">>> 원문 : man beaten death haryana sonipat allegedly sharing pictures clicked family members whatsapp group victim brother said accidentally shared pictures group angered one recipient accused invited man family home attacked rods bricks \n",
      ">>> 실제 요약 : man killed over sharing family pics on whatsapp group \n",
      ">>> 예측 요약 :  man beaten up for asking to death with him\n",
      ">>> 실제와 예측에 포함되는 단어 : {'up', 'man'}\n",
      "\n",
      "\n",
      ">>> 원문 : carmaker aston martin building first apartment block united states miami prices ranging million storey tower feature total two movie theatres spa virtual golf room infinity pool expected completed \n",
      ">>> 실제 요약 : aston martin building apartment block with movie pool \n",
      ">>> 예측 요약 :  ferrari makes million from the world\n",
      ">>> 실제와 예측에 포함되는 단어 : 없음\n",
      "\n",
      "\n",
      ">>> 원문 : supreme court stayed clause cattle slaughter law prohibited slaughter cattle religious purposes original prevention cruelty animals act stated offence kill animal manner required religion community court reiterated clause days ahead bakrid \n",
      ">>> 실제 요약 : no ban on cattle slaughter for religious sc \n",
      ">>> 예측 요약 :  sc upholds centre notice for cow slaughter\n",
      ">>> 실제와 예측에 포함되는 단어 : {'sc', 'for', 'slaughter'}\n",
      "\n",
      "\n",
      ">>> 원문 : mexico incoming president andr manuel pez said need bodyguards people country would protect fights justice nothing fear added earlier pledged sell presidential plane saying cannot rich government poor people \n",
      ">>> 실제 요약 : citizens will protect me mexico prez elect \n",
      ">>> 예측 요약 :  we are not russia and russia on russia russia\n",
      ">>> 실제와 예측에 포함되는 단어 : 없음\n",
      "\n",
      "\n",
      ">>> 원문 : congress mla karan singh dalal served legal notice haryana assembly speaker kanwar pal former suspended assembly session one year allegedly using expressions notice seeks immediate withdrawal illegal order grounds member suspended period remainder session \n",
      ">>> 실제 요약 : congress mla serves legal notice to haryana assembly speaker \n",
      ">>> 예측 요약 :  bjp mla claims taka assembly to protest against\n",
      ">>> 실제와 예측에 포함되는 단어 : {'to', 'mla', 'assembly'}\n",
      "\n",
      "\n",
      "10개 추출에 걸리는 시간: 3.93646 sec\n"
     ]
    }
   ],
   "source": [
    "START_NUM = 10\n",
    "END_NUM = 20\n",
    "\n",
    "pred_headline(encoder_input_test, decoder_input_test, text_max_len, START_NUM, END_NUM)"
   ]
  },
  {
   "cell_type": "markdown",
   "id": "08b4d843",
   "metadata": {},
   "source": [
    "# <span style=\"background-color:#E6E6FA\"> 5. Summa을 이용해서 추출적 요약해보기 </span>"
   ]
  },
  {
   "cell_type": "markdown",
   "id": "43668ca3",
   "metadata": {},
   "source": [
    "### <span style=\"background-color:#fff5b1\"> text 데이터 가져오기 </span> "
   ]
  },
  {
   "cell_type": "code",
   "execution_count": 56,
   "id": "835de8a1",
   "metadata": {},
   "outputs": [],
   "source": [
    "from summa.summarizer import summarize\n",
    "\n",
    "urllib.request.urlretrieve(\"https://raw.githubusercontent.com/sunnysai12345/News_Summary/master/news_summary_more.csv\", filename=\"news_summary_more.csv\")\n",
    "data = pd.read_csv('news_summary_more.csv', encoding='iso-8859-1')"
   ]
  },
  {
   "cell_type": "markdown",
   "id": "3012d03d",
   "metadata": {},
   "source": [
    "### <span style=\"background-color:#fff5b1\"> summarize를 사용한 추출적 요약 함수 </span> "
   ]
  },
  {
   "cell_type": "code",
   "execution_count": 74,
   "id": "68995647",
   "metadata": {},
   "outputs": [],
   "source": [
    "def pred_summarize_ratio(data, strt_num = 10, end_num= 20, ratio = 0.2):\n",
    "    '''\n",
    "    Args:\n",
    "        text (str) : 요약할 테스트.\n",
    "        ratio (float, optional) – 요약문에서 원본에서 선택되는 문장 비율. 0~1 사이값\n",
    "        words (int or None, optional) – 출력에 포함할 단어 수.\n",
    "        만약, ratio와 함께 두 파라미터가 모두 제공되는 경우 ratio는 무시한다.\n",
    "        split (bool, optional) – True면 문장 list / False는 조인(join)된 문자열을 반환\n",
    "    '''\n",
    "\n",
    "    start_time = check_time()\n",
    "\n",
    "    for i in range(strt_num, end_num):\n",
    "        \n",
    "        real_summary = data['headlines'][i]\n",
    "        pred_summary = summarize(data['text'][i], ratio=ratio)\n",
    "        \n",
    "        print(\">>> 원문 :\", data['text'][i])\n",
    "        print(\">>> 실제 헤드라인 :\", data['headlines'][i])\n",
    "        print(\">>> 예측 헤드라인 :\", summarize(data['text'][i], ratio=ratio))\n",
    "        print(\">>> 실제와 예측에 포함되는 단어 :\", find_same_word(real_summary, pred_summary))\n",
    "        print(\"\\n\")\n",
    "    end_time = check_time()\n",
    "    print(f\"{end_num-strt_num}개 추출에 걸리는 시간: {end_time - start_time:.5f} sec\")\n",
    "        \n",
    "def pred_summarize_word(data, strt_num = 10, end_num= 20, words = 30):\n",
    "    \n",
    "    start_time = check_time()\n",
    "    \n",
    "    for i in range(strt_num, end_num):\n",
    "        \n",
    "        real_summary = data['headlines'][i]\n",
    "        pred_summary = summarize(data['text'][i], words=words)\n",
    "        \n",
    "        print(\">>> 원문 :\", data['text'][i])\n",
    "        print(\">>> 실제 헤드라인 :\", data['headlines'][i])\n",
    "        print(\">>> 예측 헤드라인 :\", summarize(data['text'][i], words=words))\n",
    "        print(\">>> 실제와 예측에 포함되는 단어 :\", find_same_word(real_summary, pred_summary))\n",
    "        print(\"\\n\")\n",
    "        \n",
    "    end_time = check_time()\n",
    "    print(f\"{end_num-strt_num}개 추출에 걸리는 시간: {end_time - start_time:.5f} sec\")"
   ]
  },
  {
   "cell_type": "markdown",
   "id": "4de34f7e",
   "metadata": {},
   "source": [
    "### <span style=\"background-color:#fff5b1\"> 비율로 예측 헤드라인 출력 </span> "
   ]
  },
  {
   "cell_type": "code",
   "execution_count": 75,
   "id": "38811edd",
   "metadata": {},
   "outputs": [
    {
     "name": "stdout",
     "output_type": "stream",
     "text": [
      ">>> 원문 : Two minor cousins in Uttar Pradesh's Gorakhpur were allegedly repeatedly burnt with tongs and forced to eat human excreta by their family for being friends with two boys from the same school. The cousins revealed their ordeal to the police and Child Welfare Committee after being brought back to Gorakhpur from Nepal, where they had fled to escape the torture.\n",
      ">>> 실제 헤드라인 : UP cousins fed human excreta for friendship with boys\n",
      ">>> 예측 헤드라인 : \n",
      ">>> 실제와 예측에 포함되는 단어 : 없음\n",
      "\n",
      "\n",
      ">>> 원문 : Isha Ghosh, an 81-year-old member of Bharat Scouts and Guides (BSG), has been imparting physical and mental training to schoolchildren in Jharkhand for several decades. Chaibasa-based Ghosh reportedly walks seven kilometres daily and spends eight hours conducting physical training, apart from climbing and yoga sessions. She says, \"One should do something for society till one's last breath.\"\n",
      ">>> 실제 헤드라인 : 81-yr-old woman conducts physical training in J'khand schools\n",
      ">>> 예측 헤드라인 : Isha Ghosh, an 81-year-old member of Bharat Scouts and Guides (BSG), has been imparting physical and mental training to schoolchildren in Jharkhand for several decades.\n",
      ">>> 실제와 예측에 포함되는 단어 : {'physical', 'an', 'in', 'training', 'and'}\n",
      "\n",
      "\n",
      ">>> 원문 : Urging saints and seers at the Kumbh Mela to quit smoking, Yoga guru Ramdev said, \"We follow Ram and Krishna who never smoked in their life then why should we?\" Making them take a pledge to quit tobacco, he collected chillum (clay pipe) from several sadhus. He said he will deposit the chillums for display at a museum he'll build.\n",
      ">>> 실제 헤드라인 : Ram, Krishna didn't smoke, why should we: Ramdev to sadhus at Kumbh\n",
      ">>> 예측 헤드라인 : \n",
      ">>> 실제와 예측에 포함되는 단어 : 없음\n",
      "\n",
      "\n",
      ">>> 원문 : Former stripper and regional sales director of a pharmaceutical company, Sunrise Lee, gave a doctor a lap dance in a nightclub to persuade him to prescribe an addictive fentanyl spray in 2012, the company's sales representative told a US court. She said she saw Lee \"sitting on [doctor's] lap, kind of bouncing around.\" Lee has been accused of bribing doctors.\n",
      ">>> 실제 헤드라인 : Pharma exec gave doctor a lap dance to sell medicine in US: Witness\n",
      ">>> 예측 헤드라인 : \n",
      ">>> 실제와 예측에 포함되는 단어 : 없음\n",
      "\n",
      "\n",
      ">>> 원문 : Reliance Industries' Chairman Mukesh Ambani's daughter Isha Ambani, who got married last month, said she only cried at her 'bidaai' because she felt peer pressure as everyone was crying, especially her parents. \"I was emotional too but everyone around me would cry all the time,\" she added. \"It was a very emotional affair for everyone in my family,\" said Isha.\n",
      ">>> 실제 헤드라인 :  I only cried at my 'bidaai' as I felt peer pressure: Isha Ambani\n",
      ">>> 예측 헤드라인 : \"It was a very emotional affair for everyone in my family,\" said Isha.\n",
      ">>> 실제와 예측에 포함되는 단어 : {'a', 'my'}\n",
      "\n",
      "\n",
      ">>> 원문 : Louis Vuitton owner LVMH, which makes high-end beverages like MoÃÂ«t & Chandon champagne and Hennessy cognac, said it's stockpiling four months' worth of wine and spirits in UK in preparation for Brexit. \"We're ready for worst case scenario if there are difficulties with deliveries,\" the French luxury giant said. The UK is scheduled to leave the EU on March 29.\n",
      ">>> 실제 헤드라인 : Louis Vuitton owner to stockpile 4 months of wine, spirits in UK\n",
      ">>> 예측 헤드라인 : Louis Vuitton owner LVMH, which makes high-end beverages like MoÃÂ«t & Chandon champagne and Hennessy cognac, said it's stockpiling four months' worth of wine and spirits in UK in preparation for Brexit.\n",
      ">>> 실제와 예측에 포함되는 단어 : {'Vuitton', 'UK', 'owner', 'Louis', 'of', 'in', 'spirits', 'wine'}\n",
      "\n",
      "\n",
      ">>> 원문 : Filmmaker Karan Johar and actress Tabu turned showstoppers for Gaurav Gupta on the opening night of LakmÃÂ© Fashion Week Summer/ Resort 2019. While Johar wore a red sequinned jacket with black pants, Tabu walked the ramp in a grey embellished gown. The fashion show, which began on January 29, will continue till February 3.\n",
      ">>> 실제 헤드라인 : Karan Johar, Tabu turn showstoppers on opening night of LFW\n",
      ">>> 예측 헤드라인 : Filmmaker Karan Johar and actress Tabu turned showstoppers for Gaurav Gupta on the opening night of LakmÃÂ© Fashion Week Summer/ Resort 2019.\n",
      ">>> 실제와 예측에 포함되는 단어 : {'night', 'Karan', 'showstoppers', 'of', 'Tabu', 'Johar', 'on', 'opening'}\n",
      "\n",
      "\n",
      ">>> 원문 : In a jibe at Congress President Rahul Gandhi, PM Narendra Modi on Wednesday said those on \"bail will have to go to jail.\" PM Modi added, \"He is out on bail and his associates too are facing charges...I know they will be convicted one day.\" The PM claimed he'd waged a war on corruption because he's from a common household. \n",
      ">>> 실제 헤드라인 : Those on bail will go to jail: PM Modi takes jibe at Rahul\n",
      ">>> 예측 헤드라인 : \n",
      ">>> 실제와 예측에 포함되는 단어 : 없음\n",
      "\n",
      "\n",
      ">>> 원문 : Days after he threatened to step down from his post if Congress MLAs continue \"crossing the line,\" Karnataka Chief Minister HD Kumaraswamy accused them of taking potshots and asked, \"How many more days can I tolerate such stuff?\" Kumaraswamy, who made the statements after a Congress MLA demanded that Siddaramaiah be made CM again, said, \"Power is ephemeral.\"\n",
      ">>> 실제 헤드라인 : How long can I tolerate Congress leaders' potshots: K'taka CM\n",
      ">>> 예측 헤드라인 : \n",
      ">>> 실제와 예측에 포함되는 단어 : 없음\n",
      "\n",
      "\n",
      ">>> 원문 : Union Minister Dharmendra Pradhan on Wednesday claimed the illegal mining mafia in Odisha operates under the control of CM Naveen Patnaik and state Congress chief Niranjan Patnaik. He added, \"The time has come for the people of Odisha to put a full stop to their activities...The time has come for us to ask for an explanation from this corrupt government.\"\n",
      ">>> 실제 헤드라인 : Odisha CM Patnaik controls mining mafia: Union Minister\n",
      ">>> 예측 헤드라인 : \n",
      ">>> 실제와 예측에 포함되는 단어 : 없음\n",
      "\n",
      "\n",
      "10개 추출에 걸리는 시간: 0.03223 sec\n"
     ]
    }
   ],
   "source": [
    "RATIO = 0.45\n",
    "\n",
    "pred_summarize_ratio(data, 10, 20, RATIO)"
   ]
  },
  {
   "cell_type": "markdown",
   "id": "1be2ae2d",
   "metadata": {},
   "source": [
    "### <span style=\"background-color:#fff5b1\"> 단어 개수로 예측 헤드라인 출력 </span> "
   ]
  },
  {
   "cell_type": "code",
   "execution_count": 76,
   "id": "228ac378",
   "metadata": {},
   "outputs": [
    {
     "name": "stdout",
     "output_type": "stream",
     "text": [
      ">>> 원문 : Two minor cousins in Uttar Pradesh's Gorakhpur were allegedly repeatedly burnt with tongs and forced to eat human excreta by their family for being friends with two boys from the same school. The cousins revealed their ordeal to the police and Child Welfare Committee after being brought back to Gorakhpur from Nepal, where they had fled to escape the torture.\n",
      ">>> 실제 헤드라인 : UP cousins fed human excreta for friendship with boys\n",
      ">>> 예측 헤드라인 : \n",
      ">>> 실제와 예측에 포함되는 단어 : 없음\n",
      "\n",
      "\n",
      ">>> 원문 : Isha Ghosh, an 81-year-old member of Bharat Scouts and Guides (BSG), has been imparting physical and mental training to schoolchildren in Jharkhand for several decades. Chaibasa-based Ghosh reportedly walks seven kilometres daily and spends eight hours conducting physical training, apart from climbing and yoga sessions. She says, \"One should do something for society till one's last breath.\"\n",
      ">>> 실제 헤드라인 : 81-yr-old woman conducts physical training in J'khand schools\n",
      ">>> 예측 헤드라인 : Isha Ghosh, an 81-year-old member of Bharat Scouts and Guides (BSG), has been imparting physical and mental training to schoolchildren in Jharkhand for several decades.\n",
      ">>> 실제와 예측에 포함되는 단어 : {'physical', 'an', 'in', 'training', 'and'}\n",
      "\n",
      "\n",
      ">>> 원문 : Urging saints and seers at the Kumbh Mela to quit smoking, Yoga guru Ramdev said, \"We follow Ram and Krishna who never smoked in their life then why should we?\" Making them take a pledge to quit tobacco, he collected chillum (clay pipe) from several sadhus. He said he will deposit the chillums for display at a museum he'll build.\n",
      ">>> 실제 헤드라인 : Ram, Krishna didn't smoke, why should we: Ramdev to sadhus at Kumbh\n",
      ">>> 예측 헤드라인 : \n",
      ">>> 실제와 예측에 포함되는 단어 : 없음\n",
      "\n",
      "\n",
      ">>> 원문 : Former stripper and regional sales director of a pharmaceutical company, Sunrise Lee, gave a doctor a lap dance in a nightclub to persuade him to prescribe an addictive fentanyl spray in 2012, the company's sales representative told a US court. She said she saw Lee \"sitting on [doctor's] lap, kind of bouncing around.\" Lee has been accused of bribing doctors.\n",
      ">>> 실제 헤드라인 : Pharma exec gave doctor a lap dance to sell medicine in US: Witness\n",
      ">>> 예측 헤드라인 : \n",
      ">>> 실제와 예측에 포함되는 단어 : 없음\n",
      "\n",
      "\n",
      ">>> 원문 : Reliance Industries' Chairman Mukesh Ambani's daughter Isha Ambani, who got married last month, said she only cried at her 'bidaai' because she felt peer pressure as everyone was crying, especially her parents. \"I was emotional too but everyone around me would cry all the time,\" she added. \"It was a very emotional affair for everyone in my family,\" said Isha.\n",
      ">>> 실제 헤드라인 :  I only cried at my 'bidaai' as I felt peer pressure: Isha Ambani\n",
      ">>> 예측 헤드라인 : \"It was a very emotional affair for everyone in my family,\" said Isha.\n",
      ">>> 실제와 예측에 포함되는 단어 : {'a', 'my'}\n",
      "\n",
      "\n",
      ">>> 원문 : Louis Vuitton owner LVMH, which makes high-end beverages like MoÃÂ«t & Chandon champagne and Hennessy cognac, said it's stockpiling four months' worth of wine and spirits in UK in preparation for Brexit. \"We're ready for worst case scenario if there are difficulties with deliveries,\" the French luxury giant said. The UK is scheduled to leave the EU on March 29.\n",
      ">>> 실제 헤드라인 : Louis Vuitton owner to stockpile 4 months of wine, spirits in UK\n",
      ">>> 예측 헤드라인 : \n",
      ">>> 실제와 예측에 포함되는 단어 : 없음\n",
      "\n",
      "\n",
      ">>> 원문 : Filmmaker Karan Johar and actress Tabu turned showstoppers for Gaurav Gupta on the opening night of LakmÃÂ© Fashion Week Summer/ Resort 2019. While Johar wore a red sequinned jacket with black pants, Tabu walked the ramp in a grey embellished gown. The fashion show, which began on January 29, will continue till February 3.\n",
      ">>> 실제 헤드라인 : Karan Johar, Tabu turn showstoppers on opening night of LFW\n",
      ">>> 예측 헤드라인 : Filmmaker Karan Johar and actress Tabu turned showstoppers for Gaurav Gupta on the opening night of LakmÃÂ© Fashion Week Summer/ Resort 2019.\n",
      ">>> 실제와 예측에 포함되는 단어 : {'night', 'Karan', 'showstoppers', 'of', 'Tabu', 'Johar', 'on', 'opening'}\n",
      "\n",
      "\n",
      ">>> 원문 : In a jibe at Congress President Rahul Gandhi, PM Narendra Modi on Wednesday said those on \"bail will have to go to jail.\" PM Modi added, \"He is out on bail and his associates too are facing charges...I know they will be convicted one day.\" The PM claimed he'd waged a war on corruption because he's from a common household. \n",
      ">>> 실제 헤드라인 : Those on bail will go to jail: PM Modi takes jibe at Rahul\n",
      ">>> 예측 헤드라인 : \n",
      ">>> 실제와 예측에 포함되는 단어 : 없음\n",
      "\n",
      "\n",
      ">>> 원문 : Days after he threatened to step down from his post if Congress MLAs continue \"crossing the line,\" Karnataka Chief Minister HD Kumaraswamy accused them of taking potshots and asked, \"How many more days can I tolerate such stuff?\" Kumaraswamy, who made the statements after a Congress MLA demanded that Siddaramaiah be made CM again, said, \"Power is ephemeral.\"\n",
      ">>> 실제 헤드라인 : How long can I tolerate Congress leaders' potshots: K'taka CM\n",
      ">>> 예측 헤드라인 : \n",
      ">>> 실제와 예측에 포함되는 단어 : 없음\n",
      "\n",
      "\n",
      ">>> 원문 : Union Minister Dharmendra Pradhan on Wednesday claimed the illegal mining mafia in Odisha operates under the control of CM Naveen Patnaik and state Congress chief Niranjan Patnaik. He added, \"The time has come for the people of Odisha to put a full stop to their activities...The time has come for us to ask for an explanation from this corrupt government.\"\n",
      ">>> 실제 헤드라인 : Odisha CM Patnaik controls mining mafia: Union Minister\n",
      ">>> 예측 헤드라인 : Union Minister Dharmendra Pradhan on Wednesday claimed the illegal mining mafia in Odisha operates under the control of CM Naveen Patnaik and state Congress chief Niranjan Patnaik.\n",
      ">>> 실제와 예측에 포함되는 단어 : {'mafia', 'Union', 'CM', 'in', 'Patnaik', 'Odisha', 'control', 'mining', 'on', 'Minister'}\n",
      "\n",
      "\n",
      "10개 추출에 걸리는 시간: 0.03525 sec\n"
     ]
    }
   ],
   "source": [
    "WORDS = 15\n",
    "\n",
    "pred_summarize_word(data, 10, 20, WORDS)"
   ]
  },
  {
   "attachments": {
    "image-2.png": {
     "image/png": "[encoded data removed]"
    },
    "image-4.png": {
     "image/png": "[encoded data removed]"
    },
    "image-5.png": {
     "image/png": "[encoded data removed]"
    },
    "image-6.png": {
     "image/png": "[encoded data removed]"
    },
    "image.png": {
     "image/png": "[encoded data removed]"
    }
   },
   "cell_type": "markdown",
   "id": "3709195d",
   "metadata": {},
   "source": [
    "# <span style=\"background-color:#C0FFFF\"> Extractive, Abstractive 요약 결과 비교 </span>\n",
    "\n",
    "두 요약 결과를 문법완성도 측면과 핵심단어 포함 측면으로 나누어 비교하고 분석 결과를 표로 정리하여 제시하였다.\n",
    "\n",
    "Abstractive  \n",
    "\n",
    "   - 장점\n",
    "      1. 원문의 표현을 재구성하기 때문에 더욱 폭넓은 요약이 가능해 보인다.\n",
    "      \n",
    "      2. 문장의 길이를 조절할 수 있다.\n",
    "    \n",
    "   - 단점\n",
    "      1. 새로운 문장을 만들기 때문에 문법이 어색하다.\n",
    "  \n",
    "      2. summarize를 사용할 때보다 계산하는데 시간이 오래 걸리는 것을 볼 수 있다.\n",
    "\n",
    "<br/>\n",
    "\n",
    "![image-2.png](attachment:image-2.png) <br/> *[문장이 다르지만 특정 단어가 출력되는 것을 볼 수 있다.]*\n",
    "\n",
    "---\n",
    "\n",
    "![image-5.png](attachment:image-5.png) <br/> *[10개 추출에 걸리는 시간]*\n",
    "\n",
    "<br/>\n",
    "\n",
    "---\n",
    "\n",
    "Extractive\n",
    "\n",
    "   - 장점 \n",
    "      1. 기사의 내용이 짧고 핵심적인 내용으로만 이루어져 있을 경우 요약 기능이 향상된다.\n",
    "\n",
    "      2. 내용에서 추출하는 방식이기 때문에 문법적인 측면에서는 더 나은 결과를 보여준다.\n",
    "    \n",
    "   - 단점\n",
    "      1.  같이 Ratio, Words의 비율이 너무 작을 경우 예상값이 출력이 안되는 경우가 많았는데 오늘 요약을 하려는 데이터에서는 Ratio는 0.45보다는 큰 값을 입력해야 예측 헤드라인이 잘 출력되는 것을 볼 수 있었다.\n",
    "      \n",
    "      2. 같은 단어가 연속으로 출력되는 문제가 있다.\n",
    "\n",
    "<br/>\n",
    "\n",
    "![image.png](attachment:image.png) <br/> *[비율 설정]* |![image-4.png](attachment:image-4.png) <br/> *[예상이 출력 안되는 문제]*\n",
    "--- | --- | \n",
    "\n",
    "---\n",
    "\n",
    "![image-6.png](attachment:image-6.png) <br/> *[10개 추출에 걸리는 시간]*\n"
   ]
  },
  {
   "cell_type": "markdown",
   "id": "af27124f",
   "metadata": {},
   "source": [
    "# <span style=\"background-color:#C0FFFF\"> 회고 </span>\n",
    "\n",
    "이번 프로젝트에서는 뉴스를 추상적, 추출적 요약 내용을 만들어 보았는데 추상적 요약의 경우에 어텐션 메커니즘을 적용하여 가중치를 주는 부분에 대해서 신기하면서도 조금 더 이해가 필요하다고 생각했다.\n",
    "\n",
    "그리고 오랜만에 코드를 정리하면서 작성했더니 할 때는 힘들었지만 만들고 보니 뿌듯하다."
   ]
  }
 ],
 "metadata": {
  "kernelspec": {
   "display_name": "Python 3 (ipykernel)",
   "language": "python",
   "name": "python3"
  },
  "language_info": {
   "codemirror_mode": {
    "name": "ipython",
    "version": 3
   },
   "file_extension": ".py",
   "mimetype": "text/x-python",
   "name": "python",
   "nbconvert_exporter": "python",
   "pygments_lexer": "ipython3",
   "version": "3.9.7"
  }
 },
 "nbformat": 4,
 "nbformat_minor": 5
}
