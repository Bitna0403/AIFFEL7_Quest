{
 "cells": [
  {
   "cell_type": "markdown",
   "id": "c583432b",
   "metadata": {},
   "source": [
    "# Quest07: 인물사진을 만들어 보자\n",
    "\n",
    "### 평가문항에 맞춰서 작성\n",
    "**1. Abstractive 모델 구성을 위한 텍스트 전처리 단계가 체계적으로 진행되었다.**  \n",
    "-> 분석단계, 정제단계, 정규화와 불용어 제거, 데이터셋 분리, 인코딩 과정이 빠짐없이 체계적으로 진행되었다.\n",
    "\n",
    "**2. 텍스트 요약모델이 성공적으로 학습되었음을 확인하였다.**  \n",
    "-> 모델 학습이 진행되면서 train loss와 validation loss가 감소하는 경향을 그래프를 통해 확인했으며, 실제 요약문에 있는 핵심 단어들이 요약 문장 안에 포함되었다.\n",
    "\n",
    "**3. Extractive 요약을 시도해 보고 Abstractive 요약 결과과 함께 비교해 보았다.**  \n",
    "-> 두 요약 결과를 문법완성도 측면과 핵심단어 포함 측면으로 나누어 비교하고 분석 결과를 표로 정리하여 제시하였다."
   ]
  },
  {
   "cell_type": "markdown",
   "id": "c8d637a4",
   "metadata": {},
   "source": [
    "# Import"
   ]
  },
  {
   "cell_type": "code",
   "execution_count": 1,
   "id": "411c3ed4",
   "metadata": {},
   "outputs": [
    {
     "name": "stderr",
     "output_type": "stream",
     "text": [
      "[nltk_data] Downloading package stopwords to /aiffel/nltk_data...\n",
      "[nltk_data]   Package stopwords is already up-to-date!\n"
     ]
    }
   ],
   "source": [
    "from importlib.metadata import version\n",
    "import nltk\n",
    "nltk.download('stopwords')\n",
    "import summa\n",
    "import pandas as pd\n",
    "import numpy as np\n",
    "import os\n",
    "import re\n",
    "import matplotlib.pyplot as plt\n",
    "from nltk.corpus import stopwords\n",
    "from bs4 import BeautifulSoup \n",
    "from tensorflow.keras.preprocessing.text import Tokenizer \n",
    "from tensorflow.keras.preprocessing.sequence import pad_sequences\n",
    "import urllib.request\n",
    "import warnings"
   ]
  },
  {
   "cell_type": "markdown",
   "id": "45ecc290",
   "metadata": {},
   "source": [
    "<br/>\n",
    "\n",
    "---\n",
    "\n",
    "<br/>"
   ]
  },
  {
   "cell_type": "markdown",
   "id": "540b3cae",
   "metadata": {},
   "source": [
    "# <span style=\"background-color:#E6E6FA\">  1. 데이터 수집하기  </span>"
   ]
  },
  {
   "cell_type": "code",
   "execution_count": 2,
   "id": "44e5dda1",
   "metadata": {},
   "outputs": [],
   "source": [
    "import urllib.request\n",
    "urllib.request.urlretrieve(\"https://raw.githubusercontent.com/sunnysai12345/News_Summary/master/news_summary_more.csv\", filename=\"news_summary_more.csv\")\n",
    "data = pd.read_csv('news_summary_more.csv', encoding='iso-8859-1')"
   ]
  },
  {
   "cell_type": "code",
   "execution_count": 3,
   "id": "d1481f58",
   "metadata": {},
   "outputs": [
    {
     "data": {
      "text/html": [
       "<div>\n",
       "<style scoped>\n",
       "    .dataframe tbody tr th:only-of-type {\n",
       "        vertical-align: middle;\n",
       "    }\n",
       "\n",
       "    .dataframe tbody tr th {\n",
       "        vertical-align: top;\n",
       "    }\n",
       "\n",
       "    .dataframe thead th {\n",
       "        text-align: right;\n",
       "    }\n",
       "</style>\n",
       "<table border=\"1\" class=\"dataframe\">\n",
       "  <thead>\n",
       "    <tr style=\"text-align: right;\">\n",
       "      <th></th>\n",
       "      <th>headlines</th>\n",
       "      <th>text</th>\n",
       "    </tr>\n",
       "  </thead>\n",
       "  <tbody>\n",
       "    <tr>\n",
       "      <th>57330</th>\n",
       "      <td>24 Chhattisgarh students fall sick after eatin...</td>\n",
       "      <td>At least 24 students of a government school on...</td>\n",
       "    </tr>\n",
       "    <tr>\n",
       "      <th>27467</th>\n",
       "      <td>Dabbawalas feed 1,000 poor people affected by ...</td>\n",
       "      <td>After stopping their deliveries for a day due ...</td>\n",
       "    </tr>\n",
       "    <tr>\n",
       "      <th>45840</th>\n",
       "      <td>Chinese man moves firm from US to China, gets ...</td>\n",
       "      <td>Founder of online security firm Qihoo 360, Zho...</td>\n",
       "    </tr>\n",
       "    <tr>\n",
       "      <th>76947</th>\n",
       "      <td>BMC to train Ganesh mandal volunteers in disas...</td>\n",
       "      <td>The Brihanmumbai Municipal Corporation (BMC) w...</td>\n",
       "    </tr>\n",
       "    <tr>\n",
       "      <th>18721</th>\n",
       "      <td>3 held for doing Kiki challenge, told to make ...</td>\n",
       "      <td>A Mumbai court on Tuesday acquitted the three ...</td>\n",
       "    </tr>\n",
       "    <tr>\n",
       "      <th>26275</th>\n",
       "      <td>Thailand thanks India for helping rescue kids ...</td>\n",
       "      <td>The Thai Ministry of Foreign Affairs thanked I...</td>\n",
       "    </tr>\n",
       "    <tr>\n",
       "      <th>63033</th>\n",
       "      <td>Who are the most powerful women in business?</td>\n",
       "      <td>General Motors CEO Mary Barra is the highest-r...</td>\n",
       "    </tr>\n",
       "    <tr>\n",
       "      <th>46121</th>\n",
       "      <td>N Korea slams US VP over comments on Kim Jong-...</td>\n",
       "      <td>Slamming US Vice President Mike Pence for call...</td>\n",
       "    </tr>\n",
       "    <tr>\n",
       "      <th>74487</th>\n",
       "      <td>Mumbai's Ganpati mandals to promote organ dona...</td>\n",
       "      <td>Over 30 Ganesh Mandals in Mumbai have announce...</td>\n",
       "    </tr>\n",
       "    <tr>\n",
       "      <th>46488</th>\n",
       "      <td>New release date of Salman's brother-in-law's ...</td>\n",
       "      <td>Salman Khan took to Twitter to announce the ne...</td>\n",
       "    </tr>\n",
       "  </tbody>\n",
       "</table>\n",
       "</div>"
      ],
      "text/plain": [
       "                                               headlines  \\\n",
       "57330  24 Chhattisgarh students fall sick after eatin...   \n",
       "27467  Dabbawalas feed 1,000 poor people affected by ...   \n",
       "45840  Chinese man moves firm from US to China, gets ...   \n",
       "76947  BMC to train Ganesh mandal volunteers in disas...   \n",
       "18721  3 held for doing Kiki challenge, told to make ...   \n",
       "26275  Thailand thanks India for helping rescue kids ...   \n",
       "63033       Who are the most powerful women in business?   \n",
       "46121  N Korea slams US VP over comments on Kim Jong-...   \n",
       "74487  Mumbai's Ganpati mandals to promote organ dona...   \n",
       "46488  New release date of Salman's brother-in-law's ...   \n",
       "\n",
       "                                                    text  \n",
       "57330  At least 24 students of a government school on...  \n",
       "27467  After stopping their deliveries for a day due ...  \n",
       "45840  Founder of online security firm Qihoo 360, Zho...  \n",
       "76947  The Brihanmumbai Municipal Corporation (BMC) w...  \n",
       "18721  A Mumbai court on Tuesday acquitted the three ...  \n",
       "26275  The Thai Ministry of Foreign Affairs thanked I...  \n",
       "63033  General Motors CEO Mary Barra is the highest-r...  \n",
       "46121  Slamming US Vice President Mike Pence for call...  \n",
       "74487  Over 30 Ganesh Mandals in Mumbai have announce...  \n",
       "46488  Salman Khan took to Twitter to announce the ne...  "
      ]
     },
     "execution_count": 3,
     "metadata": {},
     "output_type": "execute_result"
    }
   ],
   "source": [
    "# 데이터 확인\n",
    "data.sample(10) # headlines, text"
   ]
  },
  {
   "cell_type": "markdown",
   "id": "f785ed6e",
   "metadata": {},
   "source": [
    "# <span style=\"background-color:#E6E6FA\"> 1-0 편의를 위해 사용한 함수 정리 </span>"
   ]
  },
  {
   "cell_type": "code",
   "execution_count": 4,
   "id": "abcb667e",
   "metadata": {},
   "outputs": [],
   "source": [
    "class LogTool():\n",
    "    \n",
    "    \n",
    "    def list_to_line(list: list):\n",
    "        '''\n",
    "        리스트\n",
    "\n",
    "        Args:\n",
    "            list: list를 line으로 출력\n",
    "        '''\n",
    "        msg = \"\"\n",
    "        \n",
    "        for i, e in enumerate(list):\n",
    "            msg += str(i+1) + ': ' + str(e) + '\\n'\n",
    "            \n",
    "        print(msg)\n",
    "\n",
    "# test_list = ['asdasd','asdbfbfbfb','hthdd','asyryry']\n",
    "# LogTool.list_to_line(test_list)"
   ]
  },
  {
   "cell_type": "markdown",
   "id": "69da7de8",
   "metadata": {},
   "source": [
    "# <span style=\"background-color:#E6E6FA\"> 2-0 데이터 전처리에 사용한 def 정리 </span>"
   ]
  },
  {
   "cell_type": "code",
   "execution_count": 5,
   "id": "c98bc50e",
   "metadata": {},
   "outputs": [],
   "source": [
    "def check_unique_data(data, col='all'):\n",
    "    '''\n",
    "    데이터의 유니크한 데이터 수를 출력하는 함수\n",
    "    \n",
    "    Args:\n",
    "        data: 데이터 프레임을 받음\n",
    "        col: 데이터 프레임의 컬럼명을 받음\n",
    "    '''\n",
    "    \n",
    "    if col == 'all':\n",
    "        try:\n",
    "            for x in data.columns:\n",
    "                print(f'>>> {x}의 유니크한 데이터 수: ', data[x].nunique())\n",
    "        except:\n",
    "            print('>>> 올바른 데이터 형식이 아닙니다.')\n",
    "\n",
    "    else:\n",
    "        try:\n",
    "            print(f'>>> {col}의 유니크한 데이터 수: ', data[col].nunique())\n",
    "        except:\n",
    "            print('>>> 올바른 데이터 형식이 아니거나 포함되지 않은 컬럼입니다.')\n",
    "        \n",
    "        \n",
    "def preprocess_sentence(sentence, remove_stopwords=True):\n",
    "    '''\n",
    "    문장에서 아래와 같은 전처리를 해주는 함수\n",
    "    \n",
    "     Args:\n",
    "        sentence: 문장 데이터를 받음\n",
    "        remove_stopwords: 불용어를 처리할지 말지를 정하는 값(True: 처리O, False: 처리X)\n",
    "    \n",
    "    '''\n",
    "    \n",
    "    sentence = sentence.lower()    # 텍스트 소문자화\n",
    "    sentence = BeautifulSoup(sentence, \"lxml\").text   # <> 등 html 태그 제거\n",
    "    sentence = re.sub(r'\\([^)]*\\)', '', sentence) # 괄호로 닫힌 문자열 (~~) 제거\n",
    "    sentence = re.sub('\"\"', '', sentence) # 쌍따옴표 \" 제거\n",
    "    sentence = ' '.join([contractions[t] if t in contractions else t for t in sentence.split(\" \")])  # 약어 정규화\n",
    "    sentence = re.sub(r\"'s\\b\", \"\", sentence)  # 소유격 제거. Her's => Her\n",
    "    sentence = re.sub(\"[^a-zA-Z]\", \" \", sentence)   # 영어 외 문자(숫자, 특수문자 등) 공백으로 변환\n",
    "    sentence = re.sub('[m]{2,}', 'mm', sentence)   # m이 3개 이상이면 2개로 변경 ummmm 이런거\n",
    "    \n",
    "    # 불용어 제거 (in text)\n",
    "    if remove_stopwords:\n",
    "        tokens = ' '.join(word for word in sentence.split() if not word in stopwords.words('english') if len(word) > 1)\n",
    "    \n",
    "    # 불용어 미제거 (in headlines) 제거하면 오히려 어색함\n",
    "    else:\n",
    "        tokens = ' '.join(word for word in sentence.split() if len(word) > 1)\n",
    "    return tokens"
   ]
  },
  {
   "cell_type": "markdown",
   "id": "80100a88",
   "metadata": {},
   "source": [
    "<br/>\n",
    "\n",
    "---\n",
    "\n",
    "<br/>"
   ]
  },
  {
   "cell_type": "markdown",
   "id": "5bf42186",
   "metadata": {},
   "source": [
    "# <span style=\"background-color:#E6E6FA\"> 2. 데이터 전처리하기 (추상적 요약) </span>"
   ]
  },
  {
   "cell_type": "markdown",
   "id": "6bac4e1f",
   "metadata": {},
   "source": [
    "### <span style=\"background-color:#fff5b1\"> 유니크한 데이터 수 파악(중복값 제거를 위한 작업) </span>"
   ]
  },
  {
   "cell_type": "code",
   "execution_count": 6,
   "id": "b308d00d",
   "metadata": {
    "scrolled": false
   },
   "outputs": [
    {
     "name": "stdout",
     "output_type": "stream",
     "text": [
      ">>> headlines의 유니크한 데이터 수:  98280\n",
      ">>> text의 유니크한 데이터 수:  98360\n"
     ]
    }
   ],
   "source": [
    "# check_unique_data(data, 'text')\n",
    "check_unique_data(data) # data 전체의 유니크한 데이터 출력"
   ]
  },
  {
   "cell_type": "markdown",
   "id": "a7579c86",
   "metadata": {},
   "source": [
    "### <span style=\"background-color:#fff5b1\"> text는 본문이기 때문에 중복값 제거 </span> "
   ]
  },
  {
   "cell_type": "code",
   "execution_count": 7,
   "id": "144614ea",
   "metadata": {
    "scrolled": true
   },
   "outputs": [
    {
     "name": "stdout",
     "output_type": "stream",
     "text": [
      ">>> 전체 샘플수 : 98360\n"
     ]
    }
   ],
   "source": [
    "data.drop_duplicates(subset = ['text'], inplace = True)\n",
    "print('>>> 전체 샘플수 :',(len(data)))"
   ]
  },
  {
   "cell_type": "markdown",
   "id": "470b2029",
   "metadata": {},
   "source": [
    "### <span style=\"background-color:#fff5b1\"> 결측치(null)값 확인 및 제거 </span> "
   ]
  },
  {
   "cell_type": "code",
   "execution_count": 8,
   "id": "852d0d35",
   "metadata": {},
   "outputs": [
    {
     "name": "stdout",
     "output_type": "stream",
     "text": [
      "headlines    0\n",
      "text         0\n",
      "dtype: int64\n"
     ]
    }
   ],
   "source": [
    "print(data.isnull().sum())"
   ]
  },
  {
   "cell_type": "markdown",
   "id": "12d9c161",
   "metadata": {},
   "source": [
    "### <span style=\"background-color:#fff5b1\"> 텍스트 정규화 및 불용어 제거 </span> "
   ]
  },
  {
   "cell_type": "code",
   "execution_count": 9,
   "id": "ab593fb0",
   "metadata": {},
   "outputs": [
    {
     "name": "stdout",
     "output_type": "stream",
     "text": [
      ">>> 정규화 사전의 수:  120\n"
     ]
    }
   ],
   "source": [
    "contractions = {\"ain't\": \"is not\", \"aren't\": \"are not\",\"can't\": \"cannot\", \"'cause\": \"because\", \"could've\": \"could have\", \"couldn't\": \"could not\",\n",
    "                           \"didn't\": \"did not\",  \"doesn't\": \"does not\", \"don't\": \"do not\", \"hadn't\": \"had not\", \"hasn't\": \"has not\", \"haven't\": \"have not\",\n",
    "                           \"he'd\": \"he would\",\"he'll\": \"he will\", \"he's\": \"he is\", \"how'd\": \"how did\", \"how'd'y\": \"how do you\", \"how'll\": \"how will\", \"how's\": \"how is\",\n",
    "                           \"I'd\": \"I would\", \"I'd've\": \"I would have\", \"I'll\": \"I will\", \"I'll've\": \"I will have\",\"I'm\": \"I am\", \"I've\": \"I have\", \"i'd\": \"i would\",\n",
    "                           \"i'd've\": \"i would have\", \"i'll\": \"i will\",  \"i'll've\": \"i will have\",\"i'm\": \"i am\", \"i've\": \"i have\", \"isn't\": \"is not\", \"it'd\": \"it would\",\n",
    "                           \"it'd've\": \"it would have\", \"it'll\": \"it will\", \"it'll've\": \"it will have\",\"it's\": \"it is\", \"let's\": \"let us\", \"ma'am\": \"madam\",\n",
    "                           \"mayn't\": \"may not\", \"might've\": \"might have\",\"mightn't\": \"might not\",\"mightn't've\": \"might not have\", \"must've\": \"must have\",\n",
    "                           \"mustn't\": \"must not\", \"mustn't've\": \"must not have\", \"needn't\": \"need not\", \"needn't've\": \"need not have\",\"o'clock\": \"of the clock\",\n",
    "                           \"oughtn't\": \"ought not\", \"oughtn't've\": \"ought not have\", \"shan't\": \"shall not\", \"sha'n't\": \"shall not\", \"shan't've\": \"shall not have\",\n",
    "                           \"she'd\": \"she would\", \"she'd've\": \"she would have\", \"she'll\": \"she will\", \"she'll've\": \"she will have\", \"she's\": \"she is\",\n",
    "                           \"should've\": \"should have\", \"shouldn't\": \"should not\", \"shouldn't've\": \"should not have\", \"so've\": \"so have\",\"so's\": \"so as\",\n",
    "                           \"this's\": \"this is\",\"that'd\": \"that would\", \"that'd've\": \"that would have\", \"that's\": \"that is\", \"there'd\": \"there would\",\n",
    "                           \"there'd've\": \"there would have\", \"there's\": \"there is\", \"here's\": \"here is\",\"they'd\": \"they would\", \"they'd've\": \"they would have\",\n",
    "                           \"they'll\": \"they will\", \"they'll've\": \"they will have\", \"they're\": \"they are\", \"they've\": \"they have\", \"to've\": \"to have\",\n",
    "                           \"wasn't\": \"was not\", \"we'd\": \"we would\", \"we'd've\": \"we would have\", \"we'll\": \"we will\", \"we'll've\": \"we will have\", \"we're\": \"we are\",\n",
    "                           \"we've\": \"we have\", \"weren't\": \"were not\", \"what'll\": \"what will\", \"what'll've\": \"what will have\", \"what're\": \"what are\",\n",
    "                           \"what's\": \"what is\", \"what've\": \"what have\", \"when's\": \"when is\", \"when've\": \"when have\", \"where'd\": \"where did\", \"where's\": \"where is\",\n",
    "                           \"where've\": \"where have\", \"who'll\": \"who will\", \"who'll've\": \"who will have\", \"who's\": \"who is\", \"who've\": \"who have\",\n",
    "                           \"why's\": \"why is\", \"why've\": \"why have\", \"will've\": \"will have\", \"won't\": \"will not\", \"won't've\": \"will not have\",\n",
    "                           \"would've\": \"would have\", \"wouldn't\": \"would not\", \"wouldn't've\": \"would not have\", \"y'all\": \"you all\",\n",
    "                           \"y'all'd\": \"you all would\",\"y'all'd've\": \"you all would have\",\"y'all're\": \"you all are\",\"y'all've\": \"you all have\",\n",
    "                           \"you'd\": \"you would\", \"you'd've\": \"you would have\", \"you'll\": \"you will\", \"you'll've\": \"you will have\",\n",
    "                           \"you're\": \"you are\", \"you've\": \"you have\"}\n",
    "\n",
    "print(\">>> 정규화 사전의 수: \",len(contractions))"
   ]
  },
  {
   "cell_type": "code",
   "execution_count": 10,
   "id": "dbf88e3e",
   "metadata": {},
   "outputs": [
    {
     "name": "stdout",
     "output_type": "stream",
     "text": [
      ">>> 불용어 개수 : 179\n",
      "['i', 'me', 'my', 'myself', 'we', 'our', 'ours', 'ourselves', 'you', \"you're\", \"you've\", \"you'll\", \"you'd\", 'your', 'yours', 'yourself', 'yourselves', 'he', 'him', 'his', 'himself', 'she', \"she's\", 'her', 'hers', 'herself', 'it', \"it's\", 'its', 'itself', 'they', 'them', 'their', 'theirs', 'themselves', 'what', 'which', 'who', 'whom', 'this', 'that', \"that'll\", 'these', 'those', 'am', 'is', 'are', 'was', 'were', 'be', 'been', 'being', 'have', 'has', 'had', 'having', 'do', 'does', 'did', 'doing', 'a', 'an', 'the', 'and', 'but', 'if', 'or', 'because', 'as', 'until', 'while', 'of', 'at', 'by', 'for', 'with', 'about', 'against', 'between', 'into', 'through', 'during', 'before', 'after', 'above', 'below', 'to', 'from', 'up', 'down', 'in', 'out', 'on', 'off', 'over', 'under', 'again', 'further', 'then', 'once', 'here', 'there', 'when', 'where', 'why', 'how', 'all', 'any', 'both', 'each', 'few', 'more', 'most', 'other', 'some', 'such', 'no', 'nor', 'not', 'only', 'own', 'same', 'so', 'than', 'too', 'very', 's', 't', 'can', 'will', 'just', 'don', \"don't\", 'should', \"should've\", 'now', 'd', 'll', 'm', 'o', 're', 've', 'y', 'ain', 'aren', \"aren't\", 'couldn', \"couldn't\", 'didn', \"didn't\", 'doesn', \"doesn't\", 'hadn', \"hadn't\", 'hasn', \"hasn't\", 'haven', \"haven't\", 'isn', \"isn't\", 'ma', 'mightn', \"mightn't\", 'mustn', \"mustn't\", 'needn', \"needn't\", 'shan', \"shan't\", 'shouldn', \"shouldn't\", 'wasn', \"wasn't\", 'weren', \"weren't\", 'won', \"won't\", 'wouldn', \"wouldn't\"]\n"
     ]
    }
   ],
   "source": [
    "print('>>> 불용어 개수 :', len(stopwords.words('english') ))\n",
    "print(stopwords.words('english'))"
   ]
  },
  {
   "cell_type": "markdown",
   "id": "a2432467",
   "metadata": {},
   "source": [
    "### <span style=\"background-color:#fff5b1\"> 데이터 전처리 결과를 확인하기 위해 임의의 데이터 호출 </span> "
   ]
  },
  {
   "cell_type": "code",
   "execution_count": 11,
   "id": "52b6e51e",
   "metadata": {},
   "outputs": [
    {
     "name": "stdout",
     "output_type": "stream",
     "text": [
      ">>> text:  everything bought great infact ordered twice third ordered wasfor mother father\n",
      ">>> headline: great way to start the day\n"
     ]
    }
   ],
   "source": [
    "temp_text = 'Everything I bought was great, infact I ordered twice and the third ordered was<br />for my mother and father.'\n",
    "temp_headline = 'Great way to start (or finish) the day!!!'\n",
    "\n",
    "print(\">>> text: \", preprocess_sentence(temp_text))\n",
    "print(\">>> headline:\", preprocess_sentence(temp_headline, False))  "
   ]
  },
  {
   "cell_type": "markdown",
   "id": "641a8fd1",
   "metadata": {},
   "source": [
    "### <span style=\"background-color:#fff5b1\"> 본문 데이터인 text는 불용어를 제거하는 전처리를 진행 </span> "
   ]
  },
  {
   "cell_type": "code",
   "execution_count": 12,
   "id": "72b68cf3",
   "metadata": {},
   "outputs": [
    {
     "name": "stdout",
     "output_type": "stream",
     "text": [
      "1: saurav kant alumnus upgrad iiit pg program machine learning artificial intelligence sr systems engineer infosys almost years work experience program upgrad degree career support helped transition data scientist tech mahindra salary hike upgrad online power learning powered lakh careers\n",
      "2: kunal shah credit card bill payment platform cred gave users chance win free food swiggy one year pranav kaushik delhi techie bagged reward spending cred coins users get one cred coin per rupee bill paid used avail rewards brands like ixigo bookmyshow ubereats cult fit\n",
      "3: new zealand defeated india wickets fourth odi hamilton thursday win first match five match odi series india lost international match rohit sharma captaincy consecutive victories dating back march match witnessed india getting seventh lowest total odi cricket history\n",
      "4: aegon life iterm insurance plan customers enjoy tax benefits premiums paid save taxes plan provides life cover age years also customers options insure critical illnesses disability accidental death benefit rider life cover age years\n",
      "5: speaking sexual harassment allegations rajkumar hirani sonam kapoor said known hirani many years true metoo movement get derailed metoo movement always believe woman case need reserve judgment added hirani accused assistant worked sanju\n",
      "\n"
     ]
    }
   ],
   "source": [
    "clean_text = []\n",
    "\n",
    "# 전체 Text 데이터에 대한 전처리 \n",
    "for s in data['text']:\n",
    "    clean_text.append(preprocess_sentence(s))\n",
    "\n",
    "# 전처리 후 출력\n",
    "LogTool.list_to_line(clean_text[:5])"
   ]
  },
  {
   "cell_type": "code",
   "execution_count": 13,
   "id": "cb52b213",
   "metadata": {},
   "outputs": [],
   "source": [
    "# 전처리 데이터 백업\n",
    "clean_text_backup = clean_text"
   ]
  },
  {
   "cell_type": "code",
   "execution_count": 14,
   "id": "9aa34104",
   "metadata": {},
   "outputs": [],
   "source": [
    "# 전처리 데이터 불러오기\n",
    "# clean_text = clean_text_backup"
   ]
  },
  {
   "cell_type": "markdown",
   "id": "5875111c",
   "metadata": {},
   "source": [
    "### <span style=\"background-color:#fff5b1\"> 제목 데이터인 headline은 불용어를 제거하지 않는 전처리를 진행 </span> "
   ]
  },
  {
   "cell_type": "code",
   "execution_count": 15,
   "id": "422e4e26",
   "metadata": {},
   "outputs": [
    {
     "name": "stdout",
     "output_type": "stream",
     "text": [
      "1: upgrad learner switches to career in ml al with salary hike\n",
      "2: delhi techie wins free food from swiggy for one year on cred\n",
      "3: new zealand end rohit sharma led india match winning streak\n",
      "4: aegon life iterm insurance plan helps customers save tax\n",
      "5: have known hirani for yrs what if metoo claims are not true sonam\n",
      "\n"
     ]
    }
   ],
   "source": [
    "clean_headline = []\n",
    "\n",
    "# 전체 Summary 데이터에 대한 전처리 \n",
    "for s in data['headlines']:\n",
    "    clean_headline.append(preprocess_sentence(s, False))\n",
    "\n",
    "# 전처리 후 출력\n",
    "LogTool.list_to_line(clean_headline[:5])"
   ]
  },
  {
   "cell_type": "code",
   "execution_count": 16,
   "id": "242e53db",
   "metadata": {},
   "outputs": [],
   "source": [
    "# 전처리 데이터 백업\n",
    "clean_headline_backup = clean_headline"
   ]
  },
  {
   "cell_type": "code",
   "execution_count": 17,
   "id": "054dbcbb",
   "metadata": {},
   "outputs": [],
   "source": [
    "# 전처리 데이터 불러오기\n",
    "# clean_headline = clean_headline_backup"
   ]
  },
  {
   "cell_type": "markdown",
   "id": "eafddac4",
   "metadata": {},
   "source": [
    "### <span style=\"background-color:#fff5b1\"> 빈값 변환 및 처리 </span> "
   ]
  },
  {
   "cell_type": "code",
   "execution_count": 18,
   "id": "d0870eaf",
   "metadata": {},
   "outputs": [],
   "source": [
    "data['text'] = clean_text\n",
    "data['headlines'] = clean_headline\n",
    "\n",
    "# 빈 값을 Null 값으로 변환\n",
    "data.replace('', np.nan, inplace=True)"
   ]
  },
  {
   "cell_type": "code",
   "execution_count": 19,
   "id": "a80f6429",
   "metadata": {},
   "outputs": [
    {
     "data": {
      "text/plain": [
       "headlines    0\n",
       "text         0\n",
       "dtype: int64"
      ]
     },
     "execution_count": 19,
     "metadata": {},
     "output_type": "execute_result"
    }
   ],
   "source": [
    "data.isnull().sum()"
   ]
  },
  {
   "cell_type": "markdown",
   "id": "75675f26",
   "metadata": {},
   "source": [
    "### <span style=\"background-color:#fff5b1\"> 샘플 최대 길이 설정(분포 확인) </span> "
   ]
  },
  {
   "cell_type": "code",
   "execution_count": 20,
   "id": "51eb0f7a",
   "metadata": {},
   "outputs": [
    {
     "name": "stdout",
     "output_type": "stream",
     "text": [
      "텍스트의 최소 길이 : 1\n",
      "텍스트의 최대 길이 : 60\n",
      "텍스트의 평균 길이 : 35.097763318422125\n",
      "요약의 최소 길이 : 1\n",
      "요약의 최대 길이 : 16\n",
      "요약의 평균 길이 : 9.29956283041887\n"
     ]
    },
    {
     "data": {
      "image/png": "[encoded data removed]",
      "text/plain": [
       "<Figure size 432x288 with 2 Axes>"
      ]
     },
     "metadata": {
      "needs_background": "light"
     },
     "output_type": "display_data"
    },
    {
     "data": {
      "image/png": "[encoded data removed]",
      "text/plain": [
       "<Figure size 432x288 with 1 Axes>"
      ]
     },
     "metadata": {
      "needs_background": "light"
     },
     "output_type": "display_data"
    },
    {
     "data": {
      "image/png": "[encoded data removed]",
      "text/plain": [
       "<Figure size 432x288 with 1 Axes>"
      ]
     },
     "metadata": {
      "needs_background": "light"
     },
     "output_type": "display_data"
    }
   ],
   "source": [
    "text_len = [len(s.split()) for s in data['text']]\n",
    "headline_len = [len(s.split()) for s in data['headlines']]\n",
    "\n",
    "print('텍스트의 최소 길이 : {}'.format(np.min(text_len)))\n",
    "print('텍스트의 최대 길이 : {}'.format(np.max(text_len)))\n",
    "print('텍스트의 평균 길이 : {}'.format(np.mean(text_len)))\n",
    "print('요약의 최소 길이 : {}'.format(np.min(headline_len)))\n",
    "print('요약의 최대 길이 : {}'.format(np.max(headline_len)))\n",
    "print('요약의 평균 길이 : {}'.format(np.mean(headline_len)))\n",
    "\n",
    "plt.subplot(1,2,1)\n",
    "plt.boxplot(headline_len)\n",
    "plt.title('headline')\n",
    "plt.subplot(1,2,2)\n",
    "plt.boxplot(text_len)\n",
    "plt.title('text')\n",
    "plt.tight_layout()\n",
    "plt.show()\n",
    "\n",
    "plt.title('headline')\n",
    "plt.hist(headline_len, bins = 40)\n",
    "plt.xlabel('length of samples')\n",
    "plt.ylabel('number of samples')\n",
    "plt.show()\n",
    "\n",
    "plt.title('text')\n",
    "plt.hist(text_len, bins = 40)\n",
    "plt.xlabel('length of samples')\n",
    "plt.ylabel('number of samples')\n",
    "plt.show()"
   ]
  },
  {
   "cell_type": "markdown",
   "id": "d5704615",
   "metadata": {},
   "source": [
    "### <span style=\"background-color:#fff5b1\"> 샘플 최대 길이 설정(변수 설정) </span> "
   ]
  },
  {
   "cell_type": "code",
   "execution_count": 21,
   "id": "a845b11e",
   "metadata": {},
   "outputs": [],
   "source": [
    "# 평균보다 조금 크고 최대보다 작은 값으로 설정\n",
    "text_max_len = 37\n",
    "headline_max_len = 10"
   ]
  },
  {
   "cell_type": "code",
   "execution_count": 22,
   "id": "f4d8870c",
   "metadata": {},
   "outputs": [],
   "source": [
    "def below_threshold_len(max_len, nested_list):\n",
    "    cnt = 0\n",
    "    for s in nested_list:\n",
    "        if (len(s.split()) <= max_len):\n",
    "            cnt = cnt + 1\n",
    "    print('>>> 전체 샘플 중 길이가 %s 이하인 샘플의 비율: %s'%(max_len, (cnt / len(nested_list))))"
   ]
  },
  {
   "cell_type": "code",
   "execution_count": 23,
   "id": "b15c8e8a",
   "metadata": {},
   "outputs": [
    {
     "name": "stdout",
     "output_type": "stream",
     "text": [
      ">>> 전체 샘플 중 길이가 37 이하인 샘플의 비율: 0.7381049206994713\n",
      ">>> 전체 샘플 중 길이가 10 이하인 샘플의 비율: 0.8162972753151687\n"
     ]
    }
   ],
   "source": [
    "below_threshold_len(text_max_len, data['text'])\n",
    "below_threshold_len(headline_max_len,  data['headlines'])"
   ]
  },
  {
   "cell_type": "markdown",
   "id": "231b99ea",
   "metadata": {},
   "source": [
    "### <span style=\"background-color:#fff5b1\"> 최대 길이보다 작은 값으로 데이터 수정 </span> "
   ]
  },
  {
   "cell_type": "code",
   "execution_count": 24,
   "id": "4fd0e9ff",
   "metadata": {},
   "outputs": [],
   "source": [
    "def below_maxlen_data(data, max_len: int, col: str):\n",
    "    '''\n",
    "    maxlen 보다 짧은 단어를 골라내는 함수\n",
    "    \n",
    "    Args:\n",
    "        data: 데이터 프레임을 받음\n",
    "        max_len: 최대 길이를 받음\n",
    "        col: 데이터 프레임의 컬럼명을 받음\n",
    "    '''\n",
    "    print(f'>>> {col}의 처리 전 갯수: ', len(data[col]))\n",
    "    data = data[data[col].apply(lambda x: len(x.split()) <= max_len)]\n",
    "    print(f'<<< {col}의 처리 후 갯수: ', len(data[col]))\n",
    "    \n",
    "    return data"
   ]
  },
  {
   "cell_type": "code",
   "execution_count": 25,
   "id": "f6f29bf1",
   "metadata": {},
   "outputs": [
    {
     "name": "stdout",
     "output_type": "stream",
     "text": [
      ">>> text의 처리 전 갯수:  98360\n",
      "<<< text의 처리 후 갯수:  72600\n"
     ]
    }
   ],
   "source": [
    "# text값 최대 길이로 처리\n",
    "data = below_maxlen_data(data, text_max_len, 'text')"
   ]
  },
  {
   "cell_type": "code",
   "execution_count": 26,
   "id": "07217347",
   "metadata": {},
   "outputs": [
    {
     "name": "stdout",
     "output_type": "stream",
     "text": [
      ">>> headlines의 처리 전 갯수:  72600\n",
      "<<< headlines의 처리 후 갯수:  58935\n"
     ]
    }
   ],
   "source": [
    "# headlines값 최대 길이로 처리\n",
    "data = below_maxlen_data(data, headline_max_len, 'headlines')"
   ]
  },
  {
   "cell_type": "code",
   "execution_count": 27,
   "id": "2f5fc618",
   "metadata": {},
   "outputs": [
    {
     "name": "stdout",
     "output_type": "stream",
     "text": [
      "전체 샘플수 : 58935\n"
     ]
    }
   ],
   "source": [
    "print('전체 샘플수 :',(len(data)))"
   ]
  },
  {
   "cell_type": "markdown",
   "id": "523df3a8",
   "metadata": {},
   "source": [
    "### <span style=\"background-color:#fff5b1\"> 시작 & 종료 토큰 추가하기 </span> "
   ]
  },
  {
   "cell_type": "code",
   "execution_count": 28,
   "id": "036e8b57",
   "metadata": {},
   "outputs": [
    {
     "data": {
      "text/html": [
       "<div>\n",
       "<style scoped>\n",
       "    .dataframe tbody tr th:only-of-type {\n",
       "        vertical-align: middle;\n",
       "    }\n",
       "\n",
       "    .dataframe tbody tr th {\n",
       "        vertical-align: top;\n",
       "    }\n",
       "\n",
       "    .dataframe thead th {\n",
       "        text-align: right;\n",
       "    }\n",
       "</style>\n",
       "<table border=\"1\" class=\"dataframe\">\n",
       "  <thead>\n",
       "    <tr style=\"text-align: right;\">\n",
       "      <th></th>\n",
       "      <th>headlines</th>\n",
       "      <th>text</th>\n",
       "      <th>decoder_input</th>\n",
       "      <th>decoder_target</th>\n",
       "    </tr>\n",
       "  </thead>\n",
       "  <tbody>\n",
       "    <tr>\n",
       "      <th>3</th>\n",
       "      <td>aegon life iterm insurance plan helps customer...</td>\n",
       "      <td>aegon life iterm insurance plan customers enjo...</td>\n",
       "      <td>sostoken aegon life iterm insurance plan helps...</td>\n",
       "      <td>aegon life iterm insurance plan helps customer...</td>\n",
       "    </tr>\n",
       "    <tr>\n",
       "      <th>5</th>\n",
       "      <td>rahat fateh ali khan denies getting notice for...</td>\n",
       "      <td>pakistani singer rahat fateh ali khan denied r...</td>\n",
       "      <td>sostoken rahat fateh ali khan denies getting n...</td>\n",
       "      <td>rahat fateh ali khan denies getting notice for...</td>\n",
       "    </tr>\n",
       "    <tr>\n",
       "      <th>9</th>\n",
       "      <td>cong wins ramgarh bypoll in rajasthan takes to...</td>\n",
       "      <td>congress candidate shafia zubair ramgarh assem...</td>\n",
       "      <td>sostoken cong wins ramgarh bypoll in rajasthan...</td>\n",
       "      <td>cong wins ramgarh bypoll in rajasthan takes to...</td>\n",
       "    </tr>\n",
       "    <tr>\n",
       "      <th>10</th>\n",
       "      <td>up cousins fed human excreta for friendship wi...</td>\n",
       "      <td>two minor cousins uttar pradesh gorakhpur alle...</td>\n",
       "      <td>sostoken up cousins fed human excreta for frie...</td>\n",
       "      <td>up cousins fed human excreta for friendship wi...</td>\n",
       "    </tr>\n",
       "    <tr>\n",
       "      <th>16</th>\n",
       "      <td>karan johar tabu turn showstoppers on opening ...</td>\n",
       "      <td>filmmaker karan johar actress tabu turned show...</td>\n",
       "      <td>sostoken karan johar tabu turn showstoppers on...</td>\n",
       "      <td>karan johar tabu turn showstoppers on opening ...</td>\n",
       "    </tr>\n",
       "  </tbody>\n",
       "</table>\n",
       "</div>"
      ],
      "text/plain": [
       "                                            headlines  \\\n",
       "3   aegon life iterm insurance plan helps customer...   \n",
       "5   rahat fateh ali khan denies getting notice for...   \n",
       "9   cong wins ramgarh bypoll in rajasthan takes to...   \n",
       "10  up cousins fed human excreta for friendship wi...   \n",
       "16  karan johar tabu turn showstoppers on opening ...   \n",
       "\n",
       "                                                 text  \\\n",
       "3   aegon life iterm insurance plan customers enjo...   \n",
       "5   pakistani singer rahat fateh ali khan denied r...   \n",
       "9   congress candidate shafia zubair ramgarh assem...   \n",
       "10  two minor cousins uttar pradesh gorakhpur alle...   \n",
       "16  filmmaker karan johar actress tabu turned show...   \n",
       "\n",
       "                                        decoder_input  \\\n",
       "3   sostoken aegon life iterm insurance plan helps...   \n",
       "5   sostoken rahat fateh ali khan denies getting n...   \n",
       "9   sostoken cong wins ramgarh bypoll in rajasthan...   \n",
       "10  sostoken up cousins fed human excreta for frie...   \n",
       "16  sostoken karan johar tabu turn showstoppers on...   \n",
       "\n",
       "                                       decoder_target  \n",
       "3   aegon life iterm insurance plan helps customer...  \n",
       "5   rahat fateh ali khan denies getting notice for...  \n",
       "9   cong wins ramgarh bypoll in rajasthan takes to...  \n",
       "10  up cousins fed human excreta for friendship wi...  \n",
       "16  karan johar tabu turn showstoppers on opening ...  "
      ]
     },
     "execution_count": 28,
     "metadata": {},
     "output_type": "execute_result"
    }
   ],
   "source": [
    "# 요약 데이터에는 시작 토큰과 종료 토큰을 추가.\n",
    "\n",
    "data['decoder_input'] = data['headlines'].apply(lambda x : 'sostoken '+ x)\n",
    "data['decoder_target'] = data['headlines'].apply(lambda x : x + ' eostoken')\n",
    "data.head()"
   ]
  },
  {
   "cell_type": "markdown",
   "id": "efe89c04",
   "metadata": {},
   "source": [
    "### <span style=\"background-color:#fff5b1\"> 훈련, 테스트 데이터 나누기 </span> "
   ]
  },
  {
   "cell_type": "code",
   "execution_count": 29,
   "id": "2cf4c233",
   "metadata": {},
   "outputs": [],
   "source": [
    "# 인코더의 입력, 디코더의 입력과 레이블을 각각 다시 Numpy 타입으로 저장\n",
    "\n",
    "encoder_input = np.array(data['text']) # 인코더의 입력\n",
    "decoder_input = np.array(data['decoder_input']) # 디코더의 입력\n",
    "decoder_target = np.array(data['decoder_target']) # 디코더의 레이블"
   ]
  },
  {
   "cell_type": "code",
   "execution_count": 30,
   "id": "82490d67",
   "metadata": {},
   "outputs": [
    {
     "name": "stdout",
     "output_type": "stream",
     "text": [
      "[17889 53994 36578 ... 45954 22451 17721]\n"
     ]
    }
   ],
   "source": [
    "# 훈련 데이터 테스트 데이터 분리\n",
    "\n",
    "indices = np.arange(encoder_input.shape[0])  # encoder_input과 크기와 형태가 같은 정수 시퀀스 생성\n",
    "np.random.shuffle(indices)                   # 순서를 랜덤하게 섞어줍니다\n",
    "print(indices) # 랜덤한 정수 시퀀스 생성!"
   ]
  },
  {
   "cell_type": "code",
   "execution_count": 31,
   "id": "a012dc91",
   "metadata": {},
   "outputs": [],
   "source": [
    "# 샘플 순서를 랜덤 시퀀스를 이용해서 정의해줌\n",
    "\n",
    "encoder_input = encoder_input[indices]\n",
    "decoder_input = decoder_input[indices]\n",
    "decoder_target = decoder_target[indices]"
   ]
  },
  {
   "cell_type": "code",
   "execution_count": 32,
   "id": "41706d43",
   "metadata": {},
   "outputs": [
    {
     "name": "stdout",
     "output_type": "stream",
     "text": [
      "테스트 데이터의 수 : 11787\n"
     ]
    }
   ],
   "source": [
    "# 8:2로 훈련셋 테스트셋 분리\n",
    "\n",
    "n_of_val = int(len(encoder_input)*0.2)\n",
    "print('테스트 데이터의 수 :', n_of_val)"
   ]
  },
  {
   "cell_type": "code",
   "execution_count": 33,
   "id": "c7542642",
   "metadata": {},
   "outputs": [
    {
     "name": "stdout",
     "output_type": "stream",
     "text": [
      "훈련 데이터의 개수 :  47148\n",
      "훈련 레이블의 개수 :  47148\n",
      "테스트 데이터의 개수 :  11787\n",
      "테스트 데이터의 개수 :  11787\n"
     ]
    }
   ],
   "source": [
    "# 테스트 데이터의 갯수를 이용해 전체 데이터를 양분해줌\n",
    "\n",
    "encoder_input_train = encoder_input[:-n_of_val] # 뒤로 n_of_val개 빼고 나머지\n",
    "decoder_input_train = decoder_input[:-n_of_val] \n",
    "decoder_target_train = decoder_target[:-n_of_val]\n",
    "\n",
    "encoder_input_test = encoder_input[-n_of_val:] # 앞에 n_of_val개 빼고 나머지\n",
    "decoder_input_test = decoder_input[-n_of_val:]\n",
    "decoder_target_test = decoder_target[-n_of_val:]\n",
    "\n",
    "print('훈련 데이터의 개수 : ', len(encoder_input_train))\n",
    "print('훈련 레이블의 개수 : ', len(decoder_input_train))\n",
    "print('테스트 데이터의 개수 : ', len(encoder_input_test))\n",
    "print('테스트 데이터의 개수 : ', len(decoder_input_test))"
   ]
  },
  {
   "cell_type": "code",
   "execution_count": 34,
   "id": "183b51b2",
   "metadata": {},
   "outputs": [],
   "source": [
    "def tokenizer_info(tokenizer, threshold = 1, rare_count = 0, total_freq = 0, rare_freq = 0):\n",
    "    '''\n",
    "    tokenizer의 정보를 출력해주는 함수\n",
    "    \n",
    "    Args:\n",
    "        threshold: 한계점\n",
    "        rare_count: 등장 빈도수가 threshold보다 작은 단어의 개수를 count\n",
    "        total_freq: 훈련 데이터의 전체 단어 빈도수 총 합\n",
    "        rare_freq: 등장 빈도수가 threshold보다 작은 단어의 등장 빈도수 총 합\n",
    "        '''\n",
    "\n",
    "    total_count = len(tokenizer.word_index)      # 단어의 수\n",
    "\n",
    "\n",
    "    # 단어와 빈도수의 쌍(pair)을 key와 value로 받음.\n",
    "    for key, value in tokenizer.word_counts.items():\n",
    "        total_freq = total_freq + value\n",
    "\n",
    "        # 단어의 등장 빈도수가 threshold보다 작으면\n",
    "        if (value < threshold) :\n",
    "            rare_count = rare_count + 1\n",
    "            rare_freq = rare_freq + value\n",
    "\n",
    "    print('>>> 단어 집합의 크기 : ', total_count)\n",
    "    print('>>> 등장 빈도가 %s번 이하인 희귀 단어의 수: %s'%(threshold - 1, rare_count))\n",
    "    print('>>> 단어 집합에서 희귀 단어를 제외시킬 경우의 단어 집합의 크기: %s'%(total_count - rare_count))\n",
    "    print(\">>> 단어 집합에서 희귀 단어의 비율:\", (rare_count / total_count)*100)\n",
    "    print(\">>> 전체 등장 빈도에서 희귀 단어 등장 빈도 비율:\", (rare_freq / total_freq)*100)"
   ]
  },
  {
   "cell_type": "markdown",
   "id": "45e2f1e4",
   "metadata": {},
   "source": [
    "### <span style=\"background-color:#fff5b1\"> text 데이터 토크나이저 생성 후 확인 </span> "
   ]
  },
  {
   "cell_type": "code",
   "execution_count": 35,
   "id": "14b45cd5",
   "metadata": {},
   "outputs": [],
   "source": [
    "src_tokenizer = Tokenizer()    # 토크나이저 생성 - 입력된 훈련 데이터로부터 단어집합 생성 가능하게 해줌\n",
    "src_tokenizer.fit_on_texts(encoder_input_train)       # 입력된 데이터로부터 단어 집합 생성"
   ]
  },
  {
   "cell_type": "code",
   "execution_count": 36,
   "id": "481bc930",
   "metadata": {},
   "outputs": [
    {
     "name": "stdout",
     "output_type": "stream",
     "text": [
      ">>> 단어 집합의 크기 :  54262\n",
      ">>> 등장 빈도가 7번 이하인 희귀 단어의 수: 38694\n",
      ">>> 단어 집합에서 희귀 단어를 제외시킬 경우의 단어 집합의 크기: 15568\n",
      ">>> 단어 집합에서 희귀 단어의 비율: 71.30957207622276\n",
      ">>> 전체 등장 빈도에서 희귀 단어 등장 빈도 비율: 5.373438727166781\n"
     ]
    }
   ],
   "source": [
    "tokenizer_info(src_tokenizer, 8)"
   ]
  },
  {
   "cell_type": "code",
   "execution_count": 37,
   "id": "de52a75a",
   "metadata": {},
   "outputs": [],
   "source": [
    "src_vocab = 17600 # 회귀 단어를 제외시킬 경우 집합의 크기가 17741\n",
    "src_tokenizer = Tokenizer(num_words = src_vocab) # 단어 집합의 크기를 17,600으로 제한\n",
    "src_tokenizer.fit_on_texts(encoder_input_train) # 단어 집합 재생성."
   ]
  },
  {
   "cell_type": "code",
   "execution_count": 38,
   "id": "c6034ce7",
   "metadata": {},
   "outputs": [
    {
     "name": "stdout",
     "output_type": "stream",
     "text": [
      "1: [500, 31, 874, 315, 22, 839, 33, 11, 275, 3805, 363, 5208, 70, 3202, 40, 2752, 1171, 363, 5208, 291, 1260, 4282, 363, 5208, 11720, 51]\n",
      "2: [592, 5, 52, 61, 243, 454, 814, 178, 137, 39, 642, 358, 3634, 67, 34, 295, 305, 152, 16802, 2899, 178, 2900, 16803, 5, 1, 67, 346, 178, 103, 95, 295, 2673, 3634]\n",
      "3: [1742, 668, 713, 49, 782, 7115, 3266, 4588, 194, 15, 3009, 3296, 1536, 12297, 259, 14537, 713, 521, 1, 40, 6175, 3266, 1043, 782, 3848, 597, 3093, 3883, 2951, 9930, 192, 787, 24, 1]\n",
      "\n"
     ]
    }
   ],
   "source": [
    "# 텍스트 시퀀스를 정수 시퀀스로 변환\n",
    "encoder_input_train = src_tokenizer.texts_to_sequences(encoder_input_train)\n",
    "encoder_input_test = src_tokenizer.texts_to_sequences(encoder_input_test)\n",
    "\n",
    "# 잘 진행되었는지 샘플 출력\n",
    "LogTool.list_to_line(encoder_input_train[:3])"
   ]
  },
  {
   "cell_type": "markdown",
   "id": "5e78be03",
   "metadata": {},
   "source": [
    "### <span style=\"background-color:#fff5b1\"> Headline 데이터 토크나이저 생성 후 확인 </span> "
   ]
  },
  {
   "cell_type": "code",
   "execution_count": 39,
   "id": "6d41b6d0",
   "metadata": {},
   "outputs": [],
   "source": [
    "# headlines 에도 동일한 작업해주기\n",
    "tar_tokenizer = Tokenizer()\n",
    "tar_tokenizer.fit_on_texts(decoder_input_train)"
   ]
  },
  {
   "cell_type": "code",
   "execution_count": 40,
   "id": "c6d8c6d6",
   "metadata": {},
   "outputs": [
    {
     "name": "stdout",
     "output_type": "stream",
     "text": [
      ">>> 단어 집합의 크기 :  24681\n",
      ">>> 등장 빈도가 6번 이하인 희귀 단어의 수: 17560\n",
      ">>> 단어 집합에서 희귀 단어를 제외시킬 경우의 단어 집합의 크기: 7121\n",
      ">>> 단어 집합에서 희귀 단어의 비율: 71.14784652161582\n",
      ">>> 전체 등장 빈도에서 희귀 단어 등장 빈도 비율: 7.927728056526121\n"
     ]
    }
   ],
   "source": [
    "tokenizer_info(tar_tokenizer, 7)"
   ]
  },
  {
   "cell_type": "code",
   "execution_count": 41,
   "id": "00ddb9aa",
   "metadata": {},
   "outputs": [],
   "source": [
    "tar_vocab = 8100\n",
    "tar_tokenizer = Tokenizer(num_words=tar_vocab) \n",
    "tar_tokenizer.fit_on_texts(decoder_input_train)\n",
    "tar_tokenizer.fit_on_texts(decoder_target_train)"
   ]
  },
  {
   "cell_type": "code",
   "execution_count": 42,
   "id": "f1b003b8",
   "metadata": {},
   "outputs": [
    {
     "name": "stdout",
     "output_type": "stream",
     "text": [
      "input \n",
      "1: [1, 19, 437, 5, 106, 4, 68, 58, 318, 1780, 3066]\n",
      "2: [1, 143, 1235, 55, 4, 2487, 62, 11, 122, 195]\n",
      "3: [1, 3480, 132, 22, 526, 425, 41]\n",
      "4: [1, 60, 1335, 59, 7889, 560, 69, 46, 6001, 592]\n",
      "5: [1, 4, 722, 684, 14, 608, 21]\n",
      "\n",
      "target \n",
      "1: [19, 437, 5, 106, 4, 68, 58, 318, 1780, 3066, 2]\n",
      "2: [143, 1235, 55, 4, 2487, 62, 11, 122, 195, 2]\n",
      "3: [3480, 132, 22, 526, 425, 41, 2]\n",
      "4: [60, 1335, 59, 7889, 560, 69, 46, 6001, 592, 2]\n",
      "5: [4, 722, 684, 14, 608, 21, 2]\n",
      "\n"
     ]
    }
   ],
   "source": [
    "decoder_input_train = tar_tokenizer.texts_to_sequences(decoder_input_train) \n",
    "decoder_target_train = tar_tokenizer.texts_to_sequences(decoder_target_train)\n",
    "decoder_input_test = tar_tokenizer.texts_to_sequences(decoder_input_test)\n",
    "decoder_target_test = tar_tokenizer.texts_to_sequences(decoder_target_test)\n",
    "\n",
    "# 잘 변환되었는지 확인\n",
    "print('input ',)\n",
    "LogTool.list_to_line(decoder_input_train[:5])\n",
    "print('target ',)\n",
    "LogTool.list_to_line(decoder_target_train[:5])"
   ]
  },
  {
   "cell_type": "markdown",
   "id": "8330b2c4",
   "metadata": {},
   "source": [
    "### <span style=\"background-color:#fff5b1\"> 삭제할 데이터 & 데이터 개수 확인 </span> "
   ]
  },
  {
   "cell_type": "code",
   "execution_count": 43,
   "id": "7ba46a59",
   "metadata": {},
   "outputs": [
    {
     "name": "stdout",
     "output_type": "stream",
     "text": [
      "삭제할 훈련 데이터의 개수 : 0\n",
      "삭제할 테스트 데이터의 개수 : 0\n",
      "훈련 데이터의 개수 : 47148\n",
      "훈련 레이블의 개수 : 47148\n",
      "테스트 데이터의 개수 : 11787\n",
      "테스트 레이블의 개수 : 11787\n"
     ]
    }
   ],
   "source": [
    "# headline의 길이가 1인 경우(실제로는 길이가 0)의 인덱스를 저장해보자\n",
    "drop_train = [index for index, sentence in enumerate(decoder_input_train) if len(sentence) == 1]\n",
    "drop_test = [index for index, sentence in enumerate(decoder_input_test) if len(sentence) == 1]\n",
    "\n",
    "print('삭제할 훈련 데이터의 개수 :',len(drop_train))\n",
    "print('삭제할 테스트 데이터의 개수 :',len(drop_test))\n",
    "\n",
    "encoder_input_train = np.delete(encoder_input_train, drop_train, axis=0)\n",
    "decoder_input_train = np.delete(decoder_input_train, drop_train, axis=0)\n",
    "decoder_target_train = np.delete(decoder_target_train, drop_train, axis=0)\n",
    "\n",
    "encoder_input_test = np.delete(encoder_input_test, drop_test, axis=0)\n",
    "decoder_input_test = np.delete(decoder_input_test, drop_test, axis=0)\n",
    "decoder_target_test = np.delete(decoder_target_test, drop_test, axis=0)\n",
    "\n",
    "print('훈련 데이터의 개수 :', len(encoder_input_train))\n",
    "print('훈련 레이블의 개수 :',len(decoder_input_train))\n",
    "print('테스트 데이터의 개수 :',len(encoder_input_test))\n",
    "print('테스트 레이블의 개수 :',len(decoder_input_test))"
   ]
  },
  {
   "cell_type": "markdown",
   "id": "77007b40",
   "metadata": {},
   "source": [
    "### <span style=\"background-color:#fff5b1\"> 패딩 작업 </span> "
   ]
  },
  {
   "cell_type": "code",
   "execution_count": 44,
   "id": "7a2fe414",
   "metadata": {},
   "outputs": [],
   "source": [
    "# post padding. 뒤의 공간에 숫자 0을 넣어준다\n",
    "# 아까 지정해주었던 최대 길이로 패딩.\n",
    "encoder_input_train = pad_sequences(encoder_input_train, maxlen = text_max_len, padding='post')\n",
    "encoder_input_test = pad_sequences(encoder_input_test, maxlen = text_max_len, padding='post')\n",
    "decoder_input_train = pad_sequences(decoder_input_train, maxlen = headline_max_len, padding='post')\n",
    "decoder_target_train = pad_sequences(decoder_target_train, maxlen = headline_max_len, padding='post')\n",
    "decoder_input_test = pad_sequences(decoder_input_test, maxlen = headline_max_len, padding='post')\n",
    "decoder_target_test = pad_sequences(decoder_target_test, maxlen = headline_max_len, padding='post')"
   ]
  },
  {
   "cell_type": "markdown",
   "id": "6dcbfd90",
   "metadata": {},
   "source": [
    "<br/>\n",
    "\n",
    "---\n",
    "\n",
    "<br/>"
   ]
  },
  {
   "cell_type": "markdown",
   "id": "40927cf1",
   "metadata": {},
   "source": [
    "# <span style=\"background-color:#E6E6FA\"> 3. 어텐션 메커니즘 사용하기 (추상적 요약) </span>"
   ]
  },
  {
   "cell_type": "markdown",
   "id": "b408cef0",
   "metadata": {},
   "source": [
    "### <span style=\"background-color:#fff5b1\"> 모델 설계 </span> "
   ]
  },
  {
   "cell_type": "code",
   "execution_count": 45,
   "id": "48fac8f3",
   "metadata": {},
   "outputs": [],
   "source": [
    "from tensorflow.keras.layers import Input, LSTM, Embedding, Dense, Concatenate, TimeDistributed\n",
    "from tensorflow.keras.models import Model\n",
    "from tensorflow.keras.callbacks import EarlyStopping, ModelCheckpoint\n",
    "\n",
    "\n",
    "# 인코더 설계 시작\n",
    "embedding_dim = 128\n",
    "hidden_size = 256\n",
    "\n",
    "# 인코더\n",
    "encoder_inputs = Input(shape=(text_max_len,))\n",
    "\n",
    "# 인코더의 임베딩 층\n",
    "enc_emb = Embedding(src_vocab, embedding_dim)(encoder_inputs)\n",
    "\n",
    "# 인코더의 LSTM 1\n",
    "encoder_lstm1 = LSTM(hidden_size, return_sequences=True, return_state=True ,dropout = 0.4)\n",
    "encoder_output1, state_h1, state_c1 = encoder_lstm1(enc_emb)\n",
    "\n",
    "# 인코더의 LSTM 2\n",
    "encoder_lstm2 = LSTM(hidden_size, return_sequences=True, return_state=True ,dropout = 0.4)\n",
    "encoder_output2, state_h2, state_c2 = encoder_lstm2(encoder_output1)\n",
    "\n",
    "# 인코더의 LSTM 3\n",
    "encoder_lstm3 = LSTM(hidden_size, return_sequences=True, return_state=True ,dropout = 0.4)\n",
    "encoder_outputs, state_h, state_c = encoder_lstm3(encoder_output2)"
   ]
  },
  {
   "cell_type": "markdown",
   "id": "5f390c06",
   "metadata": {},
   "source": [
    "### <span style=\"background-color:#fff5b1\"> Decoder 설계 </span> "
   ]
  },
  {
   "cell_type": "code",
   "execution_count": 46,
   "id": "4b36b8a9",
   "metadata": {},
   "outputs": [
    {
     "name": "stdout",
     "output_type": "stream",
     "text": [
      "WARNING:tensorflow:Layer lstm_3 will not use cuDNN kernels since it doesn't meet the criteria. It will use a generic GPU kernel as fallback when running on GPU.\n"
     ]
    }
   ],
   "source": [
    "# 디코더 설계\n",
    "\n",
    "decoder_inputs = Input(shape=(None,))\n",
    "\n",
    "# 디코더의 임베딩 층\n",
    "dec_emb_layer = Embedding(tar_vocab, embedding_dim)\n",
    "dec_emb = dec_emb_layer(decoder_inputs)\n",
    "\n",
    "# 디코더의 LSTM\n",
    "decoder_lstm = LSTM(hidden_size, return_sequences = True, return_state = True, dropout = 0.4, recurrent_dropout=0.2)\n",
    "decoder_outputs, _, _ = decoder_lstm(dec_emb, initial_state = [state_h, state_c])"
   ]
  },
  {
   "cell_type": "code",
   "execution_count": 47,
   "id": "f21bc535",
   "metadata": {},
   "outputs": [
    {
     "name": "stdout",
     "output_type": "stream",
     "text": [
      "Model: \"model\"\n",
      "__________________________________________________________________________________________________\n",
      "Layer (type)                    Output Shape         Param #     Connected to                     \n",
      "==================================================================================================\n",
      "input_1 (InputLayer)            [(None, 37)]         0                                            \n",
      "__________________________________________________________________________________________________\n",
      "embedding (Embedding)           (None, 37, 128)      2252800     input_1[0][0]                    \n",
      "__________________________________________________________________________________________________\n",
      "lstm (LSTM)                     [(None, 37, 256), (N 394240      embedding[0][0]                  \n",
      "__________________________________________________________________________________________________\n",
      "input_2 (InputLayer)            [(None, None)]       0                                            \n",
      "__________________________________________________________________________________________________\n",
      "lstm_1 (LSTM)                   [(None, 37, 256), (N 525312      lstm[0][0]                       \n",
      "__________________________________________________________________________________________________\n",
      "embedding_1 (Embedding)         (None, None, 128)    1036800     input_2[0][0]                    \n",
      "__________________________________________________________________________________________________\n",
      "lstm_2 (LSTM)                   [(None, 37, 256), (N 525312      lstm_1[0][0]                     \n",
      "__________________________________________________________________________________________________\n",
      "lstm_3 (LSTM)                   [(None, None, 256),  394240      embedding_1[0][0]                \n",
      "                                                                 lstm_2[0][1]                     \n",
      "                                                                 lstm_2[0][2]                     \n",
      "__________________________________________________________________________________________________\n",
      "dense (Dense)                   (None, None, 8100)   2081700     lstm_3[0][0]                     \n",
      "==================================================================================================\n",
      "Total params: 7,210,404\n",
      "Trainable params: 7,210,404\n",
      "Non-trainable params: 0\n",
      "__________________________________________________________________________________________________\n"
     ]
    }
   ],
   "source": [
    "# 디코더의 출력층\n",
    "decoder_softmax_layer = Dense(tar_vocab, activation = 'softmax')\n",
    "decoder_softmax_outputs = decoder_softmax_layer(decoder_outputs) \n",
    "\n",
    "# 모델 정의\n",
    "model = Model([encoder_inputs, decoder_inputs], decoder_softmax_outputs)\n",
    "model.summary()\n"
   ]
  },
  {
   "cell_type": "markdown",
   "id": "3698c145",
   "metadata": {},
   "source": [
    "### <span style=\"background-color:#fff5b1\"> 어텐션 메커니즘 적용 </span> "
   ]
  },
  {
   "cell_type": "code",
   "execution_count": 48,
   "id": "ee42a823",
   "metadata": {},
   "outputs": [
    {
     "name": "stdout",
     "output_type": "stream",
     "text": [
      "Model: \"model_1\"\n",
      "__________________________________________________________________________________________________\n",
      "Layer (type)                    Output Shape         Param #     Connected to                     \n",
      "==================================================================================================\n",
      "input_1 (InputLayer)            [(None, 37)]         0                                            \n",
      "__________________________________________________________________________________________________\n",
      "embedding (Embedding)           (None, 37, 128)      2252800     input_1[0][0]                    \n",
      "__________________________________________________________________________________________________\n",
      "lstm (LSTM)                     [(None, 37, 256), (N 394240      embedding[0][0]                  \n",
      "__________________________________________________________________________________________________\n",
      "input_2 (InputLayer)            [(None, None)]       0                                            \n",
      "__________________________________________________________________________________________________\n",
      "lstm_1 (LSTM)                   [(None, 37, 256), (N 525312      lstm[0][0]                       \n",
      "__________________________________________________________________________________________________\n",
      "embedding_1 (Embedding)         (None, None, 128)    1036800     input_2[0][0]                    \n",
      "__________________________________________________________________________________________________\n",
      "lstm_2 (LSTM)                   [(None, 37, 256), (N 525312      lstm_1[0][0]                     \n",
      "__________________________________________________________________________________________________\n",
      "lstm_3 (LSTM)                   [(None, None, 256),  394240      embedding_1[0][0]                \n",
      "                                                                 lstm_2[0][1]                     \n",
      "                                                                 lstm_2[0][2]                     \n",
      "__________________________________________________________________________________________________\n",
      "attention_layer (AdditiveAttent (None, None, 256)    256         lstm_3[0][0]                     \n",
      "                                                                 lstm_2[0][0]                     \n",
      "__________________________________________________________________________________________________\n",
      "concat_layer (Concatenate)      (None, None, 512)    0           lstm_3[0][0]                     \n",
      "                                                                 attention_layer[0][0]            \n",
      "__________________________________________________________________________________________________\n",
      "dense_1 (Dense)                 (None, None, 8100)   4155300     concat_layer[0][0]               \n",
      "==================================================================================================\n",
      "Total params: 9,284,260\n",
      "Trainable params: 9,284,260\n",
      "Non-trainable params: 0\n",
      "__________________________________________________________________________________________________\n"
     ]
    }
   ],
   "source": [
    "from tensorflow.keras.layers import AdditiveAttention\n",
    "\n",
    "# 어텐션 층(어텐션 함수)\n",
    "attn_layer = AdditiveAttention(name='attention_layer')\n",
    "\n",
    "# 인코더와 디코더의 모든 time step의 hidden state를 어텐션 층에 전달하고 결과를 리턴\n",
    "attn_out = attn_layer([decoder_outputs, encoder_outputs])\n",
    "\n",
    "\n",
    "# 어텐션의 결과와 디코더의 hidden state들을 연결\n",
    "decoder_concat_input = Concatenate(axis=-1, name='concat_layer')([decoder_outputs, attn_out])\n",
    "\n",
    "# 디코더의 출력층\n",
    "decoder_softmax_layer = Dense(tar_vocab, activation='softmax')\n",
    "decoder_softmax_outputs = decoder_softmax_layer(decoder_concat_input)\n",
    "\n",
    "# 모델 정의\n",
    "model = Model([encoder_inputs, decoder_inputs], decoder_softmax_outputs)\n",
    "model.summary()"
   ]
  },
  {
   "cell_type": "markdown",
   "id": "580587c2",
   "metadata": {},
   "source": [
    "### <span style=\"background-color:#fff5b1\"> 모델 학습 </span> "
   ]
  },
  {
   "cell_type": "code",
   "execution_count": 49,
   "id": "a0e9ec3b",
   "metadata": {},
   "outputs": [
    {
     "name": "stdout",
     "output_type": "stream",
     "text": [
      "Epoch 1/40\n",
      "185/185 [==============================] - 25s 95ms/step - loss: 6.2794 - val_loss: 5.8293\n",
      "Epoch 2/40\n",
      "185/185 [==============================] - 16s 89ms/step - loss: 5.7723 - val_loss: 5.5834\n",
      "Epoch 3/40\n",
      "185/185 [==============================] - 16s 89ms/step - loss: 5.5072 - val_loss: 5.3269\n",
      "Epoch 4/40\n",
      "185/185 [==============================] - 17s 89ms/step - loss: 5.2404 - val_loss: 5.1589\n",
      "Epoch 5/40\n",
      "185/185 [==============================] - 16s 89ms/step - loss: 5.0104 - val_loss: 5.0165\n",
      "Epoch 6/40\n",
      "185/185 [==============================] - 17s 90ms/step - loss: 4.8091 - val_loss: 4.8728\n",
      "Epoch 7/40\n",
      "185/185 [==============================] - 17s 90ms/step - loss: 4.6297 - val_loss: 4.7557\n",
      "Epoch 8/40\n",
      "185/185 [==============================] - 17s 90ms/step - loss: 4.4731 - val_loss: 4.6703\n",
      "Epoch 9/40\n",
      "185/185 [==============================] - 17s 91ms/step - loss: 4.3323 - val_loss: 4.6111\n",
      "Epoch 10/40\n",
      "185/185 [==============================] - 17s 91ms/step - loss: 4.2057 - val_loss: 4.5532\n",
      "Epoch 11/40\n",
      "185/185 [==============================] - 17s 92ms/step - loss: 4.0866 - val_loss: 4.5030\n",
      "Epoch 12/40\n",
      "185/185 [==============================] - 17s 91ms/step - loss: 3.9782 - val_loss: 4.4434\n",
      "Epoch 13/40\n",
      "185/185 [==============================] - 17s 92ms/step - loss: 3.8760 - val_loss: 4.4309\n",
      "Epoch 14/40\n",
      "185/185 [==============================] - 17s 93ms/step - loss: 3.7820 - val_loss: 4.3991\n",
      "Epoch 15/40\n",
      "185/185 [==============================] - 17s 93ms/step - loss: 3.6923 - val_loss: 4.3634\n",
      "Epoch 16/40\n",
      "185/185 [==============================] - 17s 93ms/step - loss: 3.6060 - val_loss: 4.3346\n",
      "Epoch 17/40\n",
      "185/185 [==============================] - 17s 93ms/step - loss: 3.5268 - val_loss: 4.3343\n",
      "Epoch 18/40\n",
      "185/185 [==============================] - 17s 93ms/step - loss: 3.4518 - val_loss: 4.3324\n",
      "Epoch 19/40\n",
      "185/185 [==============================] - 17s 92ms/step - loss: 3.3786 - val_loss: 4.3061\n",
      "Epoch 20/40\n",
      "185/185 [==============================] - 17s 92ms/step - loss: 3.3085 - val_loss: 4.3009\n",
      "Epoch 21/40\n",
      "185/185 [==============================] - 17s 93ms/step - loss: 3.2432 - val_loss: 4.2934\n",
      "Epoch 22/40\n",
      "185/185 [==============================] - 17s 93ms/step - loss: 3.1809 - val_loss: 4.2985\n",
      "Epoch 23/40\n",
      "185/185 [==============================] - 17s 93ms/step - loss: 3.1219 - val_loss: 4.2777\n",
      "Epoch 24/40\n",
      "185/185 [==============================] - 17s 93ms/step - loss: 3.0653 - val_loss: 4.2879\n",
      "Epoch 25/40\n",
      "185/185 [==============================] - 17s 93ms/step - loss: 3.0115 - val_loss: 4.2947\n",
      "Epoch 00025: early stopping\n"
     ]
    }
   ],
   "source": [
    "BATCH_SIZE = 256\n",
    "EPOCHS = 40\n",
    "\n",
    "model.compile(optimizer='rmsprop', loss='sparse_categorical_crossentropy')\n",
    "es = EarlyStopping(monitor='val_loss', patience=2, verbose=1)\n",
    "history = model.fit(x=[encoder_input_train, decoder_input_train], y=decoder_target_train, \\\n",
    "          validation_data=([encoder_input_test, decoder_input_test], decoder_target_test), \\\n",
    "          batch_size=BATCH_SIZE, callbacks=[es], epochs=EPOCHS)"
   ]
  },
  {
   "cell_type": "markdown",
   "id": "775c0971",
   "metadata": {},
   "source": [
    "### <span style=\"background-color:#fff5b1\"> 모델 학습 그래프 출력 </span> "
   ]
  },
  {
   "cell_type": "code",
   "execution_count": 50,
   "id": "1c2045ea",
   "metadata": {},
   "outputs": [
    {
     "data": {
      "image/png": "[encoded data removed]",
      "text/plain": [
       "<Figure size 432x288 with 1 Axes>"
      ]
     },
     "metadata": {
      "needs_background": "light"
     },
     "output_type": "display_data"
    }
   ],
   "source": [
    "# train, test loss \n",
    "plt.plot(history.history['loss'], label='train')\n",
    "plt.plot(history.history['val_loss'], label='test')\n",
    "plt.legend()\n",
    "plt.show()"
   ]
  },
  {
   "cell_type": "code",
   "execution_count": 51,
   "id": "80cd3b8f",
   "metadata": {},
   "outputs": [],
   "source": [
    "# 정수 인덱스로 되어있던 텍스트 데이터를 실제 데이터로 복원하기\n",
    "\n",
    "src_index_to_word = src_tokenizer.index_word    # 원문 단어 집합에서 정수 -> 단어를 얻음\n",
    "tar_word_to_index = tar_tokenizer.word_index    # 요약 단어 집합에서 단어 -> 정수를 얻음\n",
    "tar_index_to_word = tar_tokenizer.index_word    # 요약 던어 집합에서 정수 -> 단어를 얻음"
   ]
  },
  {
   "cell_type": "code",
   "execution_count": 52,
   "id": "7c9abc73",
   "metadata": {},
   "outputs": [],
   "source": [
    "# 인퍼런스 단계에서는 인코더 모델과 디코더 모델 분리해서 설계\n",
    "\n",
    "# 인코더 설계\n",
    "encoder_model = Model(inputs=encoder_inputs, outputs=[encoder_outputs, state_h, state_c])\n",
    "\n",
    "# 이전 시점의 상태들을 저장하는 텐서\n",
    "decoder_state_input_h = Input(shape=(hidden_size,))\n",
    "decoder_state_input_c = Input(shape=(hidden_size,))\n",
    "\n",
    "dec_emb2 = dec_emb_layer(decoder_inputs)\n",
    "# 문장의 다음 단어를 예측하기 위해 초기 상태를 이전 시점 상태로 사용. 이는 뒤의 함수 decode_sequence()에 구현\n",
    "# 훈련과정과 달리 LSTM의 리턴하는 은닉 상태와 셀 상태인 state_h, state_c 를 버리지 않음\n",
    "decoder_outputs2, state_h2, state_c2 = decoder_lstm(dec_emb2, initial_state=[decoder_state_input_h, decoder_state_input_c])"
   ]
  },
  {
   "cell_type": "code",
   "execution_count": 53,
   "id": "a227ffbc",
   "metadata": {},
   "outputs": [],
   "source": [
    "# 어텐션 함수\n",
    "decoder_hidden_state_input = Input(shape=(text_max_len, hidden_size))\n",
    "attn_out_inf = attn_layer([decoder_outputs2, decoder_hidden_state_input])\n",
    "decoder_inf_concat = Concatenate(axis=-1, name='concat')([decoder_outputs2, attn_out_inf])\n",
    "\n",
    "# 디코더의 출력층\n",
    "decoder_outputs2 = decoder_softmax_layer(decoder_inf_concat) \n",
    "\n",
    "# 최종 디코더 모델\n",
    "decoder_model = Model(\n",
    "    [decoder_inputs] + [decoder_hidden_state_input,decoder_state_input_h, decoder_state_input_c],\n",
    "    [decoder_outputs2] + [state_h2, state_c2])"
   ]
  },
  {
   "cell_type": "markdown",
   "id": "fbf553d2",
   "metadata": {},
   "source": [
    "# <span style=\"background-color:#E6E6FA\"> 4-0. 요약문 출력하기 위한 함수 정리 (추상적 요약) </span>"
   ]
  },
  {
   "cell_type": "code",
   "execution_count": 72,
   "id": "ba95bf09",
   "metadata": {},
   "outputs": [],
   "source": [
    "def decode_sequence(input_seq):\n",
    "    # 입력으로부터 인코더의 상태를 얻음\n",
    "    e_out, e_h, e_c = encoder_model.predict(input_seq)\n",
    "\n",
    "     # <SOS>에 해당하는 토큰 생성\n",
    "    target_seq = np.zeros((1,1))\n",
    "    target_seq[0, 0] = tar_word_to_index['sostoken']\n",
    "\n",
    "    stop_condition = False\n",
    "    decoded_sentence = ''\n",
    "    while not stop_condition: # stop_condition이 True가 될 때까지 루프 반복\n",
    "\n",
    "        output_tokens, h, c = decoder_model.predict([target_seq] + [e_out, e_h, e_c])\n",
    "        sampled_token_index = np.argmax(output_tokens[0, -1, :])\n",
    "        sampled_token = tar_index_to_word[sampled_token_index]\n",
    "\n",
    "        if(sampled_token!='eostoken'):\n",
    "            decoded_sentence += ' '+sampled_token\n",
    "\n",
    "        #  <eos>에 도달하거나 최대 길이를 넘으면 중단.\n",
    "        if (sampled_token == 'eostoken'  or len(decoded_sentence.split()) >= (headline_max_len-1)):\n",
    "            stop_condition = True\n",
    "\n",
    "        # 길이가 1인 타겟 시퀀스를 업데이트\n",
    "        target_seq = np.zeros((1,1))\n",
    "        target_seq[0, 0] = sampled_token_index\n",
    "\n",
    "        # 상태를 업데이트 합니다.\n",
    "        e_h, e_c = h, c\n",
    "\n",
    "    return decoded_sentence\n",
    "\n",
    "# 원문의 정수 시퀀스를 텍스트 시퀀스로 변환\n",
    "def seq2text(input_seq):\n",
    "    temp=''\n",
    "    for i in input_seq:\n",
    "        if(i!=0):\n",
    "            temp = temp + src_index_to_word[i]+' '\n",
    "    return temp\n",
    "\n",
    "# 요약문의 정수 시퀀스를 텍스트 시퀀스로 변환\n",
    "def seq2summary(input_seq):\n",
    "    temp=''\n",
    "    for i in input_seq:\n",
    "        if((i!=0 and i!=tar_word_to_index['sostoken']) and i!=tar_word_to_index['eostoken']):\n",
    "            temp = temp + tar_index_to_word[i] + ' '\n",
    "    return temp\n",
    "\n",
    "def pred_headline(encoder_input_test, decoder_input_test, max_len = 38, strt_num = 50, end_num= 100):\n",
    "    '''\n",
    "    헤드라인을 요약해주는 함수\n",
    "    '''\n",
    "    \n",
    "    for i in range(strt_num, end_num):\n",
    "        \n",
    "        real_summary = seq2summary(decoder_input_test[i])\n",
    "        pred_summary = decode_sequence(encoder_input_test[i].reshape(1, max_len))\n",
    "        \n",
    "        print(\"원문 :\", seq2text(encoder_input_test[i]))\n",
    "        print(\"실제 요약 :\", real_summary)\n",
    "        print(\"예측 요약 :\", pred_summary)\n",
    "        print(\"실제와 예측에 포함되는 단어 :\", find_same_word(real_summary, pred_summary))\n",
    "        print(\"\\n\")\n",
    "        \n",
    "def find_same_word(real_sentence, pred_sentence):\n",
    "    '''\n",
    "    두개의 문장을 비교해서 같은 단어가 있는지 찾는 함수\n",
    "    \n",
    "    Args:\n",
    "        real_sentence: 실제 요약\n",
    "        pred_sentence: 예측 요약\n",
    "    '''\n",
    "    pred_word_list = pred_sentence.split()\n",
    "    \n",
    "    find_word_list = set()\n",
    "    \n",
    "    for pred_word in pred_word_list:\n",
    "        if pred_word in real_sentence:\n",
    "            find_word_list.add(pred_word)\n",
    "            \n",
    "    return find_word_list if len(find_word_list) != 0 else '없음'"
   ]
  },
  {
   "cell_type": "markdown",
   "id": "fde54e37",
   "metadata": {},
   "source": [
    "# <span style=\"background-color:#E6E6FA\"> 4. 실제 결과와 요약문 비교하기 (추상적 요약) </span>"
   ]
  },
  {
   "cell_type": "code",
   "execution_count": 73,
   "id": "71acaf17",
   "metadata": {},
   "outputs": [
    {
     "name": "stdout",
     "output_type": "stream",
     "text": [
      "원문 : around constables deployed patrolling purposes night gurugram haryana cm manohar lal khattar said deployment eastern part gurugram particularly golf course road sector mg road cyber city since witnesses maximum movement gurugram police commissioner sandeep said \n",
      "실제 요약 : gurugram to get cops only for at night \n",
      "예측 요약 :  bihar police to stop liquor from liquor\n",
      "실제와 예측에 포함되는 단어 : {'to'}\n",
      "\n",
      "\n",
      "원문 : aircraft manufacturer airbus shared video shows users able hail project self flying taxis shows computer generated figure using app request flight california taxi reaches nearby airport vertical take landing aircraft video minute ride costs \n",
      "실제 요약 : airbus shares how users will its flying taxis \n",
      "예측 요약 :  startup makes robot that he can be made\n",
      "실제와 예측에 포함되는 단어 : 없음\n",
      "\n",
      "\n",
      "원문 : farmers collected stray cows locked school following students forced return home demanded cow shelter negotiating police blamed increase stray animals ban said hoped prevent animals destroying crops \n",
      "실제 요약 : angry farmers lock cows in school send students home \n",
      "예측 요약 :  bihar govt orders cow on cow slaughter\n",
      "실제와 예측에 포함되는 단어 : {'cow'}\n",
      "\n",
      "\n",
      "원문 : senior cardiac surgeon sued max super hospital punjab mohali alleging asked pay money patients referred surgeries claimed hospital first stopped referring patients terminated contract told hospital would buy patients \n",
      "실제 요약 : doc sues max hospital alleges was asked to buy patients \n",
      "예측 요약 :  hospital found hanging from hospital in delhi\n",
      "실제와 예측에 포함되는 단어 : {'hospital'}\n",
      "\n",
      "\n",
      "원문 : google added support new languages including hindi bengali camera mode google translate app app allows users translate texts real time support languages including kannada punjabi arabic vietnamese google added visual translation feature translate app support different languages \n",
      "실제 요약 : google adds real time for hindi others \n",
      "예측 요약 :  google adds google assistant to check assistant\n",
      "실제와 예측에 포함되는 단어 : {'adds', 'google'}\n",
      "\n",
      "\n",
      "원문 : virginia state board elections directed discontinue use direct recording electronic voting machines concerns hacked touchscreen machines replaced devices produce paper trail audit results decision came department elections recommended voting machines \n",
      "실제 요약 : us state to replace voting machines over hacking concerns \n",
      "예측 요약 :  evms in poll not evms evms\n",
      "실제와 예측에 포함되는 단어 : {'in'}\n",
      "\n",
      "\n",
      "원문 : government data revealed five complaints student safety breach received schools across country two haryana including class boy murder gurugram ryan international school gangrape girl student sonepat another complaint regarding rajasthan school staff allegedly sexually assaulting girl student \n",
      "실제 요약 : complaints of student safety breach in government \n",
      "예측 요약 :  school school arrested for using student in school\n",
      "실제와 예측에 포함되는 단어 : {'student', 'in'}\n",
      "\n",
      "\n",
      "원문 : food discovery ordering startup zomato raised million chinese commerce giant alibaba payment affiliate ant financial filing revealed round info edge would stake gurugram based startup worth million deal values zomato billion according reports \n",
      "실제 요약 : zomato raises million from alibaba payment \n",
      "예측 요약 :  zomato raises mn from softbank others\n",
      "실제와 예측에 포함되는 단어 : {'zomato', 'raises', 'from'}\n",
      "\n",
      "\n",
      "원문 : actress swara bhaskar revealed groped rajkot airport promotion film prem ratan dhan added around people airport see salman khan despite fact security people got anupam kher made sure got car \n",
      "실제 요약 : was groped at an airport during film promotion swara \n",
      "예측 요약 :  baahubali director to be held on emergency\n",
      "실제와 예측에 포함되는 단어 : {'on'}\n",
      "\n",
      "\n",
      "원문 : goa government ordered removal condom advertisements featuring bollywood actress sunny leone buses state claiming bring shame comes several women protested asking lawmakers pass ruling displaying ads condoms following mla francis brought issue goa assembly \n",
      "실제 요약 : goa govt orders removal of leone condom ads from buses \n",
      "예측 요약 :  govt bans kannada film for vulgar kannada\n",
      "실제와 예측에 포함되는 단어 : {'govt'}\n",
      "\n",
      "\n"
     ]
    }
   ],
   "source": [
    "START_NUM = 10\n",
    "END_NUM = 20\n",
    "\n",
    "pred_headline(encoder_input_test, decoder_input_test, text_max_len, START_NUM, END_NUM)"
   ]
  },
  {
   "cell_type": "markdown",
   "id": "d9fc8261",
   "metadata": {},
   "source": [
    "# <span style=\"background-color:#E6E6FA\"> 5. Summa을 이용해서 추출적 요약해보기 </span>"
   ]
  },
  {
   "cell_type": "markdown",
   "id": "bfd3d9be",
   "metadata": {},
   "source": [
    "### <span style=\"background-color:#fff5b1\"> text 데이터 가져오기 </span> "
   ]
  },
  {
   "cell_type": "code",
   "execution_count": 56,
   "id": "21a3c80b",
   "metadata": {},
   "outputs": [],
   "source": [
    "from summa.summarizer import summarize\n",
    "\n",
    "urllib.request.urlretrieve(\"https://raw.githubusercontent.com/sunnysai12345/News_Summary/master/news_summary_more.csv\", filename=\"news_summary_more.csv\")\n",
    "data = pd.read_csv('news_summary_more.csv', encoding='iso-8859-1')"
   ]
  },
  {
   "cell_type": "markdown",
   "id": "e4d6dfa9",
   "metadata": {},
   "source": [
    "### <span style=\"background-color:#fff5b1\"> summarize를 사용한 추출적 요약 함수 </span> "
   ]
  },
  {
   "cell_type": "code",
   "execution_count": 76,
   "id": "398ae63a",
   "metadata": {},
   "outputs": [],
   "source": [
    "def pred_summarize_ratio(data, strt_num = 10, end_num= 20, ratio = 0.2):\n",
    "    '''\n",
    "    Args:\n",
    "        text (str) : 요약할 테스트.\n",
    "        ratio (float, optional) – 요약문에서 원본에서 선택되는 문장 비율. 0~1 사이값\n",
    "        words (int or None, optional) – 출력에 포함할 단어 수.\n",
    "        만약, ratio와 함께 두 파라미터가 모두 제공되는 경우 ratio는 무시한다.\n",
    "        split (bool, optional) – True면 문장 list / False는 조인(join)된 문자열을 반환\n",
    "    '''\n",
    "    \n",
    "    for i in range(strt_num, end_num):\n",
    "        \n",
    "        real_summary = data['headlines'][i]\n",
    "        pred_summary = summarize(data['text'][i], ratio=ratio)\n",
    "        \n",
    "        print(\">>> 원문 :\", data['text'][i])\n",
    "        print(\">>> 실제 헤드라인 :\", data['headlines'][i])\n",
    "        print(\">>> 예측 헤드라인 :\", summarize(data['text'][i], ratio=ratio))\n",
    "        print(\"실제와 예측에 포함되는 단어 :\", find_same_word(real_summary, pred_summary))\n",
    "        print(\"\\n\")\n",
    "        \n",
    "def pred_summarize_word(data, strt_num = 10, end_num= 20, words = 30):\n",
    "    \n",
    "    for i in range(strt_num, end_num):\n",
    "        \n",
    "        real_summary = data['headlines'][i]\n",
    "        pred_summary = summarize(data['text'][i], words=words)\n",
    "        \n",
    "        print(\">>> 원문 :\", data['text'][i])\n",
    "        print(\">>> 실제 헤드라인 :\", data['headlines'][i])\n",
    "        print(\">>> 예측 헤드라인 :\", summarize(data['text'][i], words=words))\n",
    "        print(\"실제와 예측에 포함되는 단어 :\", find_same_word(real_summary, pred_summary))\n",
    "        print(\"\\n\")"
   ]
  },
  {
   "cell_type": "markdown",
   "id": "a9ed91cf",
   "metadata": {},
   "source": [
    "### <span style=\"background-color:#fff5b1\"> 비율로 예측 헤드라인 출력 </span> "
   ]
  },
  {
   "cell_type": "code",
   "execution_count": 77,
   "id": "8ac779c4",
   "metadata": {},
   "outputs": [
    {
     "name": "stdout",
     "output_type": "stream",
     "text": [
      ">>> 원문 : Two minor cousins in Uttar Pradesh's Gorakhpur were allegedly repeatedly burnt with tongs and forced to eat human excreta by their family for being friends with two boys from the same school. The cousins revealed their ordeal to the police and Child Welfare Committee after being brought back to Gorakhpur from Nepal, where they had fled to escape the torture.\n",
      ">>> 실제 헤드라인 : UP cousins fed human excreta for friendship with boys\n",
      ">>> 예측 헤드라인 : \n",
      "실제와 예측에 포함되는 단어 : 없음\n",
      "\n",
      "\n",
      ">>> 원문 : Isha Ghosh, an 81-year-old member of Bharat Scouts and Guides (BSG), has been imparting physical and mental training to schoolchildren in Jharkhand for several decades. Chaibasa-based Ghosh reportedly walks seven kilometres daily and spends eight hours conducting physical training, apart from climbing and yoga sessions. She says, \"One should do something for society till one's last breath.\"\n",
      ">>> 실제 헤드라인 : 81-yr-old woman conducts physical training in J'khand schools\n",
      ">>> 예측 헤드라인 : Isha Ghosh, an 81-year-old member of Bharat Scouts and Guides (BSG), has been imparting physical and mental training to schoolchildren in Jharkhand for several decades.\n",
      "실제와 예측에 포함되는 단어 : {'training', 'an', 'physical', 'and', 'in'}\n",
      "\n",
      "\n",
      ">>> 원문 : Urging saints and seers at the Kumbh Mela to quit smoking, Yoga guru Ramdev said, \"We follow Ram and Krishna who never smoked in their life then why should we?\" Making them take a pledge to quit tobacco, he collected chillum (clay pipe) from several sadhus. He said he will deposit the chillums for display at a museum he'll build.\n",
      ">>> 실제 헤드라인 : Ram, Krishna didn't smoke, why should we: Ramdev to sadhus at Kumbh\n",
      ">>> 예측 헤드라인 : \n",
      "실제와 예측에 포함되는 단어 : 없음\n",
      "\n",
      "\n",
      ">>> 원문 : Former stripper and regional sales director of a pharmaceutical company, Sunrise Lee, gave a doctor a lap dance in a nightclub to persuade him to prescribe an addictive fentanyl spray in 2012, the company's sales representative told a US court. She said she saw Lee \"sitting on [doctor's] lap, kind of bouncing around.\" Lee has been accused of bribing doctors.\n",
      ">>> 실제 헤드라인 : Pharma exec gave doctor a lap dance to sell medicine in US: Witness\n",
      ">>> 예측 헤드라인 : \n",
      "실제와 예측에 포함되는 단어 : 없음\n",
      "\n",
      "\n",
      ">>> 원문 : Reliance Industries' Chairman Mukesh Ambani's daughter Isha Ambani, who got married last month, said she only cried at her 'bidaai' because she felt peer pressure as everyone was crying, especially her parents. \"I was emotional too but everyone around me would cry all the time,\" she added. \"It was a very emotional affair for everyone in my family,\" said Isha.\n",
      ">>> 실제 헤드라인 :  I only cried at my 'bidaai' as I felt peer pressure: Isha Ambani\n",
      ">>> 예측 헤드라인 : \"It was a very emotional affair for everyone in my family,\" said Isha.\n",
      "실제와 예측에 포함되는 단어 : {'my', 'a'}\n",
      "\n",
      "\n",
      ">>> 원문 : Louis Vuitton owner LVMH, which makes high-end beverages like MoÃÂ«t & Chandon champagne and Hennessy cognac, said it's stockpiling four months' worth of wine and spirits in UK in preparation for Brexit. \"We're ready for worst case scenario if there are difficulties with deliveries,\" the French luxury giant said. The UK is scheduled to leave the EU on March 29.\n",
      ">>> 실제 헤드라인 : Louis Vuitton owner to stockpile 4 months of wine, spirits in UK\n",
      ">>> 예측 헤드라인 : Louis Vuitton owner LVMH, which makes high-end beverages like MoÃÂ«t & Chandon champagne and Hennessy cognac, said it's stockpiling four months' worth of wine and spirits in UK in preparation for Brexit.\n",
      "실제와 예측에 포함되는 단어 : {'owner', 'of', 'spirits', 'Louis', 'Vuitton', 'UK', 'wine', 'in'}\n",
      "\n",
      "\n",
      ">>> 원문 : Filmmaker Karan Johar and actress Tabu turned showstoppers for Gaurav Gupta on the opening night of LakmÃÂ© Fashion Week Summer/ Resort 2019. While Johar wore a red sequinned jacket with black pants, Tabu walked the ramp in a grey embellished gown. The fashion show, which began on January 29, will continue till February 3.\n",
      ">>> 실제 헤드라인 : Karan Johar, Tabu turn showstoppers on opening night of LFW\n",
      ">>> 예측 헤드라인 : Filmmaker Karan Johar and actress Tabu turned showstoppers for Gaurav Gupta on the opening night of LakmÃÂ© Fashion Week Summer/ Resort 2019.\n",
      "실제와 예측에 포함되는 단어 : {'night', 'showstoppers', 'opening', 'Tabu', 'of', 'Karan', 'on', 'Johar'}\n",
      "\n",
      "\n",
      ">>> 원문 : In a jibe at Congress President Rahul Gandhi, PM Narendra Modi on Wednesday said those on \"bail will have to go to jail.\" PM Modi added, \"He is out on bail and his associates too are facing charges...I know they will be convicted one day.\" The PM claimed he'd waged a war on corruption because he's from a common household. \n",
      ">>> 실제 헤드라인 : Those on bail will go to jail: PM Modi takes jibe at Rahul\n",
      ">>> 예측 헤드라인 : \n",
      "실제와 예측에 포함되는 단어 : 없음\n",
      "\n",
      "\n",
      ">>> 원문 : Days after he threatened to step down from his post if Congress MLAs continue \"crossing the line,\" Karnataka Chief Minister HD Kumaraswamy accused them of taking potshots and asked, \"How many more days can I tolerate such stuff?\" Kumaraswamy, who made the statements after a Congress MLA demanded that Siddaramaiah be made CM again, said, \"Power is ephemeral.\"\n",
      ">>> 실제 헤드라인 : How long can I tolerate Congress leaders' potshots: K'taka CM\n",
      ">>> 예측 헤드라인 : \n",
      "실제와 예측에 포함되는 단어 : 없음\n",
      "\n",
      "\n",
      ">>> 원문 : Union Minister Dharmendra Pradhan on Wednesday claimed the illegal mining mafia in Odisha operates under the control of CM Naveen Patnaik and state Congress chief Niranjan Patnaik. He added, \"The time has come for the people of Odisha to put a full stop to their activities...The time has come for us to ask for an explanation from this corrupt government.\"\n",
      ">>> 실제 헤드라인 : Odisha CM Patnaik controls mining mafia: Union Minister\n",
      ">>> 예측 헤드라인 : \n",
      "실제와 예측에 포함되는 단어 : 없음\n",
      "\n",
      "\n"
     ]
    }
   ],
   "source": [
    "RATIO = 0.45\n",
    "\n",
    "pred_summarize_ratio(data, 10, 20, RATIO)"
   ]
  },
  {
   "cell_type": "markdown",
   "id": "d8b26021",
   "metadata": {},
   "source": [
    "### <span style=\"background-color:#fff5b1\"> 단어 개수로 예측 헤드라인 출력 </span> "
   ]
  },
  {
   "cell_type": "code",
   "execution_count": 78,
   "id": "0fff927a",
   "metadata": {},
   "outputs": [
    {
     "name": "stdout",
     "output_type": "stream",
     "text": [
      ">>> 원문 : Two minor cousins in Uttar Pradesh's Gorakhpur were allegedly repeatedly burnt with tongs and forced to eat human excreta by their family for being friends with two boys from the same school. The cousins revealed their ordeal to the police and Child Welfare Committee after being brought back to Gorakhpur from Nepal, where they had fled to escape the torture.\n",
      ">>> 실제 헤드라인 : UP cousins fed human excreta for friendship with boys\n",
      ">>> 예측 헤드라인 : \n",
      "실제와 예측에 포함되는 단어 : 없음\n",
      "\n",
      "\n",
      ">>> 원문 : Isha Ghosh, an 81-year-old member of Bharat Scouts and Guides (BSG), has been imparting physical and mental training to schoolchildren in Jharkhand for several decades. Chaibasa-based Ghosh reportedly walks seven kilometres daily and spends eight hours conducting physical training, apart from climbing and yoga sessions. She says, \"One should do something for society till one's last breath.\"\n",
      ">>> 실제 헤드라인 : 81-yr-old woman conducts physical training in J'khand schools\n",
      ">>> 예측 헤드라인 : Isha Ghosh, an 81-year-old member of Bharat Scouts and Guides (BSG), has been imparting physical and mental training to schoolchildren in Jharkhand for several decades.\n",
      "실제와 예측에 포함되는 단어 : {'training', 'an', 'physical', 'and', 'in'}\n",
      "\n",
      "\n",
      ">>> 원문 : Urging saints and seers at the Kumbh Mela to quit smoking, Yoga guru Ramdev said, \"We follow Ram and Krishna who never smoked in their life then why should we?\" Making them take a pledge to quit tobacco, he collected chillum (clay pipe) from several sadhus. He said he will deposit the chillums for display at a museum he'll build.\n",
      ">>> 실제 헤드라인 : Ram, Krishna didn't smoke, why should we: Ramdev to sadhus at Kumbh\n",
      ">>> 예측 헤드라인 : \n",
      "실제와 예측에 포함되는 단어 : 없음\n",
      "\n",
      "\n",
      ">>> 원문 : Former stripper and regional sales director of a pharmaceutical company, Sunrise Lee, gave a doctor a lap dance in a nightclub to persuade him to prescribe an addictive fentanyl spray in 2012, the company's sales representative told a US court. She said she saw Lee \"sitting on [doctor's] lap, kind of bouncing around.\" Lee has been accused of bribing doctors.\n",
      ">>> 실제 헤드라인 : Pharma exec gave doctor a lap dance to sell medicine in US: Witness\n",
      ">>> 예측 헤드라인 : \n",
      "실제와 예측에 포함되는 단어 : 없음\n",
      "\n",
      "\n",
      ">>> 원문 : Reliance Industries' Chairman Mukesh Ambani's daughter Isha Ambani, who got married last month, said she only cried at her 'bidaai' because she felt peer pressure as everyone was crying, especially her parents. \"I was emotional too but everyone around me would cry all the time,\" she added. \"It was a very emotional affair for everyone in my family,\" said Isha.\n",
      ">>> 실제 헤드라인 :  I only cried at my 'bidaai' as I felt peer pressure: Isha Ambani\n",
      ">>> 예측 헤드라인 : \"It was a very emotional affair for everyone in my family,\" said Isha.\n",
      "실제와 예측에 포함되는 단어 : {'my', 'a'}\n",
      "\n",
      "\n",
      ">>> 원문 : Louis Vuitton owner LVMH, which makes high-end beverages like MoÃÂ«t & Chandon champagne and Hennessy cognac, said it's stockpiling four months' worth of wine and spirits in UK in preparation for Brexit. \"We're ready for worst case scenario if there are difficulties with deliveries,\" the French luxury giant said. The UK is scheduled to leave the EU on March 29.\n",
      ">>> 실제 헤드라인 : Louis Vuitton owner to stockpile 4 months of wine, spirits in UK\n",
      ">>> 예측 헤드라인 : \n",
      "실제와 예측에 포함되는 단어 : 없음\n",
      "\n",
      "\n",
      ">>> 원문 : Filmmaker Karan Johar and actress Tabu turned showstoppers for Gaurav Gupta on the opening night of LakmÃÂ© Fashion Week Summer/ Resort 2019. While Johar wore a red sequinned jacket with black pants, Tabu walked the ramp in a grey embellished gown. The fashion show, which began on January 29, will continue till February 3.\n",
      ">>> 실제 헤드라인 : Karan Johar, Tabu turn showstoppers on opening night of LFW\n",
      ">>> 예측 헤드라인 : Filmmaker Karan Johar and actress Tabu turned showstoppers for Gaurav Gupta on the opening night of LakmÃÂ© Fashion Week Summer/ Resort 2019.\n",
      "실제와 예측에 포함되는 단어 : {'night', 'showstoppers', 'opening', 'Tabu', 'of', 'Karan', 'on', 'Johar'}\n",
      "\n",
      "\n",
      ">>> 원문 : In a jibe at Congress President Rahul Gandhi, PM Narendra Modi on Wednesday said those on \"bail will have to go to jail.\" PM Modi added, \"He is out on bail and his associates too are facing charges...I know they will be convicted one day.\" The PM claimed he'd waged a war on corruption because he's from a common household. \n",
      ">>> 실제 헤드라인 : Those on bail will go to jail: PM Modi takes jibe at Rahul\n",
      ">>> 예측 헤드라인 : \n",
      "실제와 예측에 포함되는 단어 : 없음\n",
      "\n",
      "\n",
      ">>> 원문 : Days after he threatened to step down from his post if Congress MLAs continue \"crossing the line,\" Karnataka Chief Minister HD Kumaraswamy accused them of taking potshots and asked, \"How many more days can I tolerate such stuff?\" Kumaraswamy, who made the statements after a Congress MLA demanded that Siddaramaiah be made CM again, said, \"Power is ephemeral.\"\n",
      ">>> 실제 헤드라인 : How long can I tolerate Congress leaders' potshots: K'taka CM\n",
      ">>> 예측 헤드라인 : \n",
      "실제와 예측에 포함되는 단어 : 없음\n",
      "\n",
      "\n",
      ">>> 원문 : Union Minister Dharmendra Pradhan on Wednesday claimed the illegal mining mafia in Odisha operates under the control of CM Naveen Patnaik and state Congress chief Niranjan Patnaik. He added, \"The time has come for the people of Odisha to put a full stop to their activities...The time has come for us to ask for an explanation from this corrupt government.\"\n",
      ">>> 실제 헤드라인 : Odisha CM Patnaik controls mining mafia: Union Minister\n",
      ">>> 예측 헤드라인 : Union Minister Dharmendra Pradhan on Wednesday claimed the illegal mining mafia in Odisha operates under the control of CM Naveen Patnaik and state Congress chief Niranjan Patnaik.\n",
      "실제와 예측에 포함되는 단어 : {'mafia', 'Odisha', 'control', 'Union', 'Minister', 'mining', 'CM', 'on', 'Patnaik', 'in'}\n",
      "\n",
      "\n"
     ]
    }
   ],
   "source": [
    "WORDS = 15\n",
    "\n",
    "pred_summarize_word(data, 10, 20, WORDS)"
   ]
  },
  {
   "cell_type": "markdown",
   "id": "d26b0156",
   "metadata": {},
   "source": [
    "# <span style=\"background-color:#C0FFFF\"> 회고 </span>\n"
   ]
  }
 ],
 "metadata": {
  "kernelspec": {
   "display_name": "Python 3 (ipykernel)",
   "language": "python",
   "name": "python3"
  },
  "language_info": {
   "codemirror_mode": {
    "name": "ipython",
    "version": 3
   },
   "file_extension": ".py",
   "mimetype": "text/x-python",
   "name": "python",
   "nbconvert_exporter": "python",
   "pygments_lexer": "ipython3",
   "version": "3.9.7"
  }
 },
 "nbformat": 4,
 "nbformat_minor": 5
}
