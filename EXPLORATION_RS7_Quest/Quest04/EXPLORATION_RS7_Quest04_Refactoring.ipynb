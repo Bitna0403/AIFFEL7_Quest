{
 "cells": [
  {
   "cell_type": "markdown",
   "id": "772cbf85",
   "metadata": {},
   "source": [
    "**2023-11-23 연습겸 진행중**\n",
    "\n",
    "### 평가문항에 맞춰서 작성\n",
    "\n",
    "1. 자기만의 카메라앱 기능 구현을 완수하였다.\n",
    "-> \t얼굴 영역과 랜드마크를 정확하게 검출하고, 스티커 사진을 합성시키는 데 성공하였다.\n",
    "\n",
    "\n",
    "2. 스티커 이미지를 정확한 원본 위치에 반영하였다.\n",
    "-> 정확한 좌표계산을 통해 고양이 수염의 위치가 원본 얼굴에 잘 어울리게 출력되었다.\n",
    "\n",
    "\n",
    "3. 카메라 스티커앱을 다양한 원본이미지에 적용했을 때의 문제점을 체계적으로 분석하였다.\n",
    "-> 얼굴각도, 이미지 밝기, 촬영거리 등 다양한 변수에 따른 영향도를 보고서에 체계적으로 분석하였다."
   ]
  },
  {
   "cell_type": "markdown",
   "id": "f2e0daeb",
   "metadata": {},
   "source": [
    "#### 필요한 패키지 import 하기"
   ]
  },
  {
   "cell_type": "code",
   "execution_count": null,
   "id": "4a33de34",
   "metadata": {},
   "outputs": [],
   "source": [
    "import os # 환경 변수나 디렉터리, 파일 등의 OS 자원을 제어할 수 있게 해주는 모듈\n",
    "import cv2 # OpenCV라이브러리 → 컴퓨터 비전 관련 프로그래밍을 쉽게 할 수 있도록 도와주는 라이브러리\n",
    "import matplotlib.pyplot as plt # 다양한 데이터를 많은 방법으로 도식화 할 수 있도록 하는 라이브러리\n",
    "import numpy as np # 다차원 배열을 쉽게 처리하고 효율적으로 사용할 수 있도록 하는 라이브러리\n",
    "import dlib # 이미지 처리 및 기계 학습, 얼굴인식 등을 할 수 있는 c++ 로 개발된 고성능의 라이브러리"
   ]
  },
  {
   "cell_type": "markdown",
   "id": "c68a688a",
   "metadata": {},
   "source": [
    "#### 평가에 사용할 class 구현"
   ]
  },
  {
   "cell_type": "code",
   "execution_count": null,
   "id": "39b85127",
   "metadata": {},
   "outputs": [],
   "source": [
    "class create_sticker_app:\n",
    "    for c in range(0, 3):\n",
    "    sticker_area[:, :, c] * alpha_mask\n",
    "    '''\n",
    "    create_sticker_app 클래스는 사진경로\n",
    "    \n",
    "    __init__:\n",
    "        image_path: 얼굴 사진 경로\n",
    "        sticker_path: 붙여넣고 싶은 스티커 경로\n",
    "        option: 부착 위치 결정하는 옵션 ex) hat, nose\n",
    "    '''\n",
    "    \n",
    "    # 생성자 메서드\n",
    "    def __init__(self, image_path, sticker_path, option):\n",
    "        # 인스턴스 변수\n",
    "        self.image_path = image_path\n",
    "        self.sticker_path = sticker_path\n",
    "        self.option = option\n",
    "        \n",
    "    def get_image():\n",
    "        '''\n",
    "        \n",
    "        '''\n",
    "        \n",
    "        "
   ]
  },
  {
   "cell_type": "markdown",
   "id": "8a61b864",
   "metadata": {},
   "source": [
    "#### 사용할 이미지 리스트"
   ]
  },
  {
   "cell_type": "code",
   "execution_count": null,
   "id": "10aedd4c",
   "metadata": {},
   "outputs": [],
   "source": [
    "my_face_path = 'images/my_face.jpg'\n",
    "my_face_dark_path = 'images/my_face_dark.jpg'\n",
    "my_face_light_path = 'images/my_face_light.jpg'\n",
    "tilt_face_path = 'images/tilt_face.jpg'"
   ]
  },
  {
   "cell_type": "markdown",
   "id": "b615d595",
   "metadata": {},
   "source": [
    "#### 스티커 경로 리스트"
   ]
  },
  {
   "cell_type": "code",
   "execution_count": null,
   "id": "9764f390",
   "metadata": {},
   "outputs": [],
   "source": [
    "cat-whiskers_path = 'images/cat-whiskers.png'\n",
    "crown_path = 'images/crown.png'"
   ]
  }
 ],
 "metadata": {
  "kernelspec": {
   "display_name": "Python 3 (ipykernel)",
   "language": "python",
   "name": "python3"
  },
  "language_info": {
   "codemirror_mode": {
    "name": "ipython",
    "version": 3
   },
   "file_extension": ".py",
   "mimetype": "text/x-python",
   "name": "python",
   "nbconvert_exporter": "python",
   "pygments_lexer": "ipython3",
   "version": "3.9.7"
  }
 },
 "nbformat": 4,
 "nbformat_minor": 5
}
